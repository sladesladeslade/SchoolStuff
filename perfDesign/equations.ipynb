{
 "cells": [
  {
   "attachments": {},
   "cell_type": "markdown",
   "metadata": {},
   "source": [
    "# Slade Brooks\n",
    "# brooksl@mail.uc.edu\n",
    "# 02.21.2023\n",
    "# Performance/Design Equation Sheet"
   ]
  },
  {
   "attachments": {},
   "cell_type": "markdown",
   "metadata": {},
   "source": [
    "# Block 1"
   ]
  },
  {
   "attachments": {},
   "cell_type": "markdown",
   "metadata": {},
   "source": [
    "## Atmosphere"
   ]
  },
  {
   "attachments": {},
   "cell_type": "markdown",
   "metadata": {},
   "source": [
    "Mach number = M = $\\frac{TAS}{a}$"
   ]
  },
  {
   "attachments": {},
   "cell_type": "markdown",
   "metadata": {},
   "source": [
    "True air speed = TAS = $\\frac{EAS}{\\sqrt{\\frac{\\rho}{\\rho_{SL}}}}$"
   ]
  },
  {
   "attachments": {},
   "cell_type": "markdown",
   "metadata": {},
   "source": [
    "## Aircraft Nomeclature"
   ]
  },
  {
   "attachments": {},
   "cell_type": "markdown",
   "metadata": {},
   "source": [
    "average chord = c = $\\frac{c_{t}+c_{r}}{2}$"
   ]
  },
  {
   "attachments": {},
   "cell_type": "markdown",
   "metadata": {},
   "source": [
    "taper ratio = $\\lambda$ = $\\frac{c_{t}}{c_{r}}$"
   ]
  },
  {
   "attachments": {},
   "cell_type": "markdown",
   "metadata": {},
   "source": [
    "area = S = $b*c$"
   ]
  },
  {
   "attachments": {},
   "cell_type": "markdown",
   "metadata": {},
   "source": [
    "aspect ratio = AR = $\\frac{b^{2}}{S}$ = $\\frac{b}{c}$"
   ]
  },
  {
   "attachments": {},
   "cell_type": "markdown",
   "metadata": {},
   "source": [
    "1/4 chord sweep = $\\Lambda_{\\frac{c}{4}}$ = $\\arctan{[\\tan{\\Lambda_{LE} - 0.25c_{r}\\frac{1-\\lambda}{\\frac{b}{2}}}]}$"
   ]
  },
  {
   "attachments": {},
   "cell_type": "markdown",
   "metadata": {},
   "source": [
    "mean aerodynamic chord = MAC = $\\frac{2}{3}c_{r}\\frac{1+\\lambda+\\lambda^{2}}{1+\\lambda}$"
   ]
  },
  {
   "attachments": {},
   "cell_type": "markdown",
   "metadata": {},
   "source": [
    "location of MAC = $y_{MAC}$ = $\\frac{b}{6}\\frac{1+2\\lambda}{1+\\lambda}$"
   ]
  },
  {
   "attachments": {},
   "cell_type": "markdown",
   "metadata": {},
   "source": [
    "## Aerodynamics"
   ]
  },
  {
   "attachments": {},
   "cell_type": "markdown",
   "metadata": {},
   "source": [
    "coefficient of lift = $C_{L}$ = $\\frac{nW}{qS}$\n"
   ]
  },
  {
   "attachments": {},
   "cell_type": "markdown",
   "metadata": {},
   "source": [
    "coefficient of drag = $C_{D}$ = $\\frac{D}{qS}$ = $C_{D_{o}} + KC_{L}^{2} $"
   ]
  },
  {
   "attachments": {},
   "cell_type": "markdown",
   "metadata": {},
   "source": [
    "dynamic pressure = q = $\\frac{1}{2}\\rho V^{2} $ = $(\\frac{q}{M^{2}})M^{2}$"
   ]
  },
  {
   "attachments": {},
   "cell_type": "markdown",
   "metadata": {},
   "source": [
    "K = $\\frac{1}{\\pi ARe}$"
   ]
  },
  {
   "attachments": {},
   "cell_type": "markdown",
   "metadata": {},
   "source": [
    "wing efficiency factor = e"
   ]
  },
  {
   "attachments": {},
   "cell_type": "markdown",
   "metadata": {},
   "source": [
    "lift over drag = $\\frac{L}{D}$ = $\\frac{C_{L}}{C_{D}}$"
   ]
  },
  {
   "attachments": {},
   "cell_type": "markdown",
   "metadata": {},
   "source": [
    "## Propulsion"
   ]
  },
  {
   "attachments": {},
   "cell_type": "markdown",
   "metadata": {},
   "source": [
    "propulsive power = $Fv$"
   ]
  },
  {
   "attachments": {},
   "cell_type": "markdown",
   "metadata": {},
   "source": [
    "propulsive efficiency = $\\eta_{P}$ = $\\frac{P_{avail}}{P_{generated}}$"
   ]
  },
  {
   "attachments": {},
   "cell_type": "markdown",
   "metadata": {},
   "source": [
    "thrust available = $T_{A}$"
   ]
  },
  {
   "attachments": {},
   "cell_type": "markdown",
   "metadata": {},
   "source": [
    "thrust required = $T_{R}$"
   ]
  },
  {
   "attachments": {},
   "cell_type": "markdown",
   "metadata": {},
   "source": [
    "specific fuel consumption = SFC = c = $\\frac{fuel flow (lbm/hr)}{thrust (lbf)}$"
   ]
  },
  {
   "attachments": {},
   "cell_type": "markdown",
   "metadata": {},
   "source": [
    "fuel flow rate = FFR"
   ]
  },
  {
   "attachments": {},
   "cell_type": "markdown",
   "metadata": {},
   "source": [
    "c @ altitude = $c_{SL}\\frac{a}{a_{SL}}$"
   ]
  },
  {
   "attachments": {},
   "cell_type": "markdown",
   "metadata": {},
   "source": [
    "### Piston"
   ]
  },
  {
   "attachments": {},
   "cell_type": "markdown",
   "metadata": {},
   "source": [
    "$T_{A}$ = $SHP_{SL}(\\frac{\\eta_{P}}{V})(\\frac{\\rho}{\\rho_{SL}})$"
   ]
  },
  {
   "attachments": {},
   "cell_type": "markdown",
   "metadata": {},
   "source": [
    "$FFR$ = $SHP*c$"
   ]
  },
  {
   "attachments": {},
   "cell_type": "markdown",
   "metadata": {},
   "source": [
    "### Turboprop"
   ]
  },
  {
   "attachments": {},
   "cell_type": "markdown",
   "metadata": {},
   "source": [
    "$T_{A}$ = $ESHP_{SL}(\\frac{\\eta_{P}}{V})(\\frac{\\rho}{\\rho_{SL}})$"
   ]
  },
  {
   "attachments": {},
   "cell_type": "markdown",
   "metadata": {},
   "source": [
    "$FFR$ = $ESHP*c$"
   ]
  },
  {
   "attachments": {},
   "cell_type": "markdown",
   "metadata": {},
   "source": [
    "### High Bypass Turbofan"
   ]
  },
  {
   "attachments": {},
   "cell_type": "markdown",
   "metadata": {},
   "source": [
    "$T_{A}$ = $T_{SL}(\\frac{0.1}{M})(\\frac{\\rho}{\\rho_{SL}})$"
   ]
  },
  {
   "attachments": {},
   "cell_type": "markdown",
   "metadata": {},
   "source": [
    "$FFR$ = $Tc_{SL}(\\frac{a}{a_{SL}})$"
   ]
  },
  {
   "attachments": {},
   "cell_type": "markdown",
   "metadata": {},
   "source": [
    "### Low/Mid Bypass Turbofan and Turbojet"
   ]
  },
  {
   "attachments": {},
   "cell_type": "markdown",
   "metadata": {},
   "source": [
    "$T_{A}$ = $T_{SL}(\\frac{\\rho}{\\rho_{SL}})$"
   ]
  },
  {
   "cell_type": "markdown",
   "metadata": {},
   "source": [
    "$FFR$ = $Tc_{SL}(\\frac{a}{a_{SL}})$"
   ]
  },
  {
   "attachments": {},
   "cell_type": "markdown",
   "metadata": {},
   "source": [
    "### Afterburner"
   ]
  },
  {
   "attachments": {},
   "cell_type": "markdown",
   "metadata": {},
   "source": [
    "$T_{A}$ = $T_{SL}(\\frac{\\rho}{\\rho_{SL}})(1+0.7M)$"
   ]
  },
  {
   "cell_type": "markdown",
   "metadata": {},
   "source": [
    "$FFR$ = $Tc_{SL}(\\frac{a}{a_{SL}})$"
   ]
  },
  {
   "attachments": {},
   "cell_type": "markdown",
   "metadata": {},
   "source": [
    "## Weight"
   ]
  },
  {
   "attachments": {},
   "cell_type": "markdown",
   "metadata": {},
   "source": [
    "fuel fraction = $\\frac{W_{fuel}}{W_{TO}}$"
   ]
  },
  {
   "attachments": {},
   "cell_type": "markdown",
   "metadata": {},
   "source": [
    "payload fraction = $\\frac{W_{payload}}{W_{TO}}$"
   ]
  },
  {
   "attachments": {},
   "cell_type": "markdown",
   "metadata": {},
   "source": [
    "empty weight fraction = EWF = $\\frac{W_{empty}}{W_{TO}}$"
   ]
  },
  {
   "attachments": {},
   "cell_type": "markdown",
   "metadata": {},
   "source": [
    "takeoff weight = $W_{TO}$ = $W_{crew}+W_{payload}+W_{fuel}+W_{empty}$ = $\\frac{W_{crew}+W_{payload}}{1 - fuel fraction - EWF}$"
   ]
  },
  {
   "attachments": {},
   "cell_type": "markdown",
   "metadata": {},
   "source": [
    "# Block 2"
   ]
  },
  {
   "attachments": {},
   "cell_type": "markdown",
   "metadata": {},
   "source": [
    "## Flight Envelope"
   ]
  },
  {
   "attachments": {},
   "cell_type": "markdown",
   "metadata": {},
   "source": [
    "stall speed = $V_{stall}$ = $\\sqrt{\\frac{2Wn}{\\rho SC_{L_{max}}}}$"
   ]
  },
  {
   "attachments": {},
   "cell_type": "markdown",
   "metadata": {},
   "source": [
    "max speed = $V_{max}$ = $\\sqrt{\\frac{2}{\\rho}q_{max}}$ = $M_{max}a$"
   ]
  },
  {
   "attachments": {},
   "cell_type": "markdown",
   "metadata": {},
   "source": [
    "max dynamic pressure = $q_{max}$ = Maxq = $(\\frac{q}{M^{2}})_{SL}(\\frac{max KEAS}{a_{SL}})^{2}$"
   ]
  },
  {
   "attachments": {},
   "cell_type": "markdown",
   "metadata": {},
   "source": [
    "load factor = n = $\\frac{L}{W}$"
   ]
  },
  {
   "attachments": {},
   "cell_type": "markdown",
   "metadata": {},
   "source": [
    "## Range and Endurance"
   ]
  },
  {
   "attachments": {},
   "cell_type": "markdown",
   "metadata": {},
   "source": [
    "minimum thrust required = $T_{req_{min}}$ = $W\\sqrt{4C_{D_{o}}K}$"
   ]
  },
  {
   "attachments": {},
   "cell_type": "markdown",
   "metadata": {},
   "source": [
    "speed for L/D max = $V_{\\frac{L}{D}_{max}}$ = $(\\frac{2}{\\rho}\\sqrt{\\frac{K}{C_{D_{o}}}}\\frac{W}{S})^{\\frac{1}{2}}$"
   ]
  },
  {
   "attachments": {},
   "cell_type": "markdown",
   "metadata": {},
   "source": [
    "max L/D = $\\frac{L}{D}_{max}$ = $(\\frac{C_{L}}{C_{D}})_{max}$ = $\\sqrt{\\frac{1}{4C_{D_{o}}K}}$ = max endurance (R=1)"
   ]
  },
  {
   "attachments": {},
   "cell_type": "markdown",
   "metadata": {},
   "source": [
    "$V_{\\frac{C_{L}^\\frac{1}{2}}{C_{D}}_{max}}$ = $V_{D/V_{min}}$ = $1.3161V_{L/D_{max}}$"
   ]
  },
  {
   "attachments": {},
   "cell_type": "markdown",
   "metadata": {},
   "source": [
    "max $\\frac{C_{L}^\\frac{1}{2}}{C_{D}}$ = $\\frac{3}{4}(\\frac{1}{3KC_{D_{o}}^{3}})^\\frac{1}{4}$ = max range (R=3)"
   ]
  },
  {
   "attachments": {},
   "cell_type": "markdown",
   "metadata": {},
   "source": [
    "max $\\frac{C_{L}^\\frac{3}{2}}{C_{D}}$ = $\\frac{1}{4}(\\frac{3}{KC_{D_{o}}^\\frac{1}{3}})^\\frac{3}{4}$ = (R=1/3)"
   ]
  },
  {
   "attachments": {},
   "cell_type": "markdown",
   "metadata": {},
   "source": [
    "$W_{o}$ = initial weight, $W_{1}$ = final weight"
   ]
  },
  {
   "attachments": {},
   "cell_type": "markdown",
   "metadata": {},
   "source": [
    "Breguet range = R = $\\frac{V}{c_{t}}\\frac{L}{D}\\ln{\\frac{W_{o}}{W_{1}}}$"
   ]
  },
  {
   "attachments": {},
   "cell_type": "markdown",
   "metadata": {},
   "source": [
    "range factor = $\\frac{V}{c_{t}}\\frac{L}{D}$"
   ]
  },
  {
   "attachments": {},
   "cell_type": "markdown",
   "metadata": {},
   "source": [
    "endurance = E = $\\frac{1}{c_{t}}\\frac{L}{D}\\ln{\\frac{W_{o}}{W_{1}}}$"
   ]
  },
  {
   "attachments": {},
   "cell_type": "markdown",
   "metadata": {},
   "source": [
    "endurance factor = $\\frac{1}{c_{t}}\\frac{L}{D}$"
   ]
  },
  {
   "attachments": {},
   "cell_type": "markdown",
   "metadata": {},
   "source": [
    "## Energy"
   ]
  }
 ],
 "metadata": {
  "kernelspec": {
   "display_name": "Python 3",
   "language": "python",
   "name": "python3"
  },
  "language_info": {
   "name": "python",
   "version": "3.9.15"
  },
  "orig_nbformat": 4,
  "vscode": {
   "interpreter": {
    "hash": "62b9e768f4e26a7d3fbfe82fbbe7c4951ab0ade90faf298251d0e0b972c474f0"
   }
  }
 },
 "nbformat": 4,
 "nbformat_minor": 2
}
