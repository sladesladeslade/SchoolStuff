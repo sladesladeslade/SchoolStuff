{
 "cells": [
  {
   "attachments": {},
   "cell_type": "markdown",
   "metadata": {},
   "source": [
    "# Slade Brooks\n",
    "# brooksl@mail.uc.edu\n",
    "# 02.21.2023\n",
    "# Performance/Design Equation Sheet"
   ]
  },
  {
   "attachments": {},
   "cell_type": "markdown",
   "metadata": {},
   "source": [
    "# Block 1"
   ]
  },
  {
   "attachments": {},
   "cell_type": "markdown",
   "metadata": {},
   "source": [
    "## Atmosphere"
   ]
  },
  {
   "attachments": {},
   "cell_type": "markdown",
   "metadata": {},
   "source": [
    "Mach number = M = $\\frac{TAS}{a}$"
   ]
  },
  {
   "attachments": {},
   "cell_type": "markdown",
   "metadata": {},
   "source": [
    "True air speed = TAS = $\\frac{EAS}{\\sqrt{\\frac{\\rho}{\\rho_{SL}}}}$"
   ]
  },
  {
   "attachments": {},
   "cell_type": "markdown",
   "metadata": {},
   "source": [
    "## Aircraft Nomeclature"
   ]
  },
  {
   "attachments": {},
   "cell_type": "markdown",
   "metadata": {},
   "source": [
    "average chord = c = $\\frac{c_{t}+c_{r}}{2}$"
   ]
  },
  {
   "attachments": {},
   "cell_type": "markdown",
   "metadata": {},
   "source": [
    "taper ratio = $\\lambda$ = $\\frac{c_{t}}{c_{r}}$"
   ]
  },
  {
   "attachments": {},
   "cell_type": "markdown",
   "metadata": {},
   "source": [
    "area = S = $b*c$"
   ]
  },
  {
   "attachments": {},
   "cell_type": "markdown",
   "metadata": {},
   "source": [
    "aspect ratio = AR = $\\frac{b^{2}}{S}$ = $\\frac{b}{c}$"
   ]
  },
  {
   "attachments": {},
   "cell_type": "markdown",
   "metadata": {},
   "source": [
    "1/4 chord sweep = $\\Lambda_{\\frac{c}{4}}$ = $\\arctan{[\\tan{\\Lambda_{LE} - 0.25c_{r}\\frac{1-\\lambda}{\\frac{b}{2}}}]}$"
   ]
  },
  {
   "attachments": {},
   "cell_type": "markdown",
   "metadata": {},
   "source": [
    "mean aerodynamic chord = MAC = $\\frac{2}{3}c_{r}\\frac{1+\\lambda+\\lambda^{2}}{1+\\lambda}$"
   ]
  },
  {
   "attachments": {},
   "cell_type": "markdown",
   "metadata": {},
   "source": [
    "location of MAC = $y_{MAC}$ = $\\frac{b}{6}\\frac{1+2\\lambda}{1+\\lambda}$"
   ]
  },
  {
   "attachments": {},
   "cell_type": "markdown",
   "metadata": {},
   "source": [
    "## Aerodynamics"
   ]
  },
  {
   "attachments": {},
   "cell_type": "markdown",
   "metadata": {},
   "source": [
    "coefficient of lift = $C_{L}$ = $\\frac{nW}{qS}$\n"
   ]
  },
  {
   "attachments": {},
   "cell_type": "markdown",
   "metadata": {},
   "source": [
    "coefficient of drag = $C_{D}$ = $\\frac{D}{qS}$ = $C_{D_{o}} + KC_{L}^{2} $"
   ]
  },
  {
   "attachments": {},
   "cell_type": "markdown",
   "metadata": {},
   "source": [
    "dynamic pressure = q = $\\frac{1}{2}\\rho V^{2} $ = $(\\frac{q}{M^{2}})M^{2}$"
   ]
  },
  {
   "attachments": {},
   "cell_type": "markdown",
   "metadata": {},
   "source": [
    "K = $\\frac{1}{\\pi ARe}$"
   ]
  },
  {
   "attachments": {},
   "cell_type": "markdown",
   "metadata": {},
   "source": [
    "wing efficiency factor = e"
   ]
  },
  {
   "attachments": {},
   "cell_type": "markdown",
   "metadata": {},
   "source": [
    "lift over drag = $\\frac{L}{D}$ = $\\frac{C_{L}}{C_{D}}$"
   ]
  },
  {
   "attachments": {},
   "cell_type": "markdown",
   "metadata": {},
   "source": [
    "## Propulsion"
   ]
  },
  {
   "attachments": {},
   "cell_type": "markdown",
   "metadata": {},
   "source": [
    "propulsive power = $Fv$"
   ]
  },
  {
   "attachments": {},
   "cell_type": "markdown",
   "metadata": {},
   "source": [
    "propulsive efficiency = $\\eta_{P}$ = $\\frac{P_{avail}}{P_{generated}}$"
   ]
  },
  {
   "attachments": {},
   "cell_type": "markdown",
   "metadata": {},
   "source": [
    "thrust available = $T_{A}$"
   ]
  },
  {
   "attachments": {},
   "cell_type": "markdown",
   "metadata": {},
   "source": [
    "thrust required = $T_{R}$"
   ]
  },
  {
   "attachments": {},
   "cell_type": "markdown",
   "metadata": {},
   "source": [
    "specific fuel consumption = SFC = c = $\\frac{fuel flow (lbm/hr)}{thrust (lbf)}$"
   ]
  },
  {
   "attachments": {},
   "cell_type": "markdown",
   "metadata": {},
   "source": [
    "fuel flow rate = FFR"
   ]
  },
  {
   "attachments": {},
   "cell_type": "markdown",
   "metadata": {},
   "source": [
    "c @ altitude = $c_{SL}\\frac{a}{a_{SL}}$"
   ]
  },
  {
   "attachments": {},
   "cell_type": "markdown",
   "metadata": {},
   "source": [
    "### Piston"
   ]
  },
  {
   "attachments": {},
   "cell_type": "markdown",
   "metadata": {},
   "source": [
    "$T_{A}$ = $SHP_{SL}(\\frac{\\eta_{P}}{V})(\\frac{\\rho}{\\rho_{SL}})$"
   ]
  },
  {
   "attachments": {},
   "cell_type": "markdown",
   "metadata": {},
   "source": [
    "$FFR$ = $SHP*c$"
   ]
  },
  {
   "attachments": {},
   "cell_type": "markdown",
   "metadata": {},
   "source": [
    "### Turboprop"
   ]
  },
  {
   "attachments": {},
   "cell_type": "markdown",
   "metadata": {},
   "source": [
    "$T_{A}$ = $ESHP_{SL}(\\frac{\\eta_{P}}{V})(\\frac{\\rho}{\\rho_{SL}})$"
   ]
  },
  {
   "attachments": {},
   "cell_type": "markdown",
   "metadata": {},
   "source": [
    "$FFR$ = $ESHP*c$"
   ]
  },
  {
   "attachments": {},
   "cell_type": "markdown",
   "metadata": {},
   "source": [
    "### High Bypass Turbofan"
   ]
  },
  {
   "attachments": {},
   "cell_type": "markdown",
   "metadata": {},
   "source": [
    "$T_{A}$ = $T_{SL}(\\frac{0.1}{M})(\\frac{\\rho}{\\rho_{SL}})$"
   ]
  },
  {
   "attachments": {},
   "cell_type": "markdown",
   "metadata": {},
   "source": [
    "$FFR$ = $Tc_{SL}(\\frac{a}{a_{SL}})$"
   ]
  },
  {
   "attachments": {},
   "cell_type": "markdown",
   "metadata": {},
   "source": [
    "### Low/Mid Bypass Turbofan and Turbojet"
   ]
  },
  {
   "attachments": {},
   "cell_type": "markdown",
   "metadata": {},
   "source": [
    "$T_{A}$ = $T_{SL}(\\frac{\\rho}{\\rho_{SL}})$"
   ]
  },
  {
   "cell_type": "markdown",
   "metadata": {},
   "source": [
    "$FFR$ = $Tc_{SL}(\\frac{a}{a_{SL}})$"
   ]
  },
  {
   "attachments": {},
   "cell_type": "markdown",
   "metadata": {},
   "source": [
    "### Afterburner"
   ]
  },
  {
   "attachments": {},
   "cell_type": "markdown",
   "metadata": {},
   "source": [
    "$T_{A}$ = $T_{SL}(\\frac{\\rho}{\\rho_{SL}})(1+0.7M)$"
   ]
  },
  {
   "cell_type": "markdown",
   "metadata": {},
   "source": [
    "$FFR$ = $Tc_{SL}(\\frac{a}{a_{SL}})$"
   ]
  },
  {
   "attachments": {},
   "cell_type": "markdown",
   "metadata": {},
   "source": [
    "## Weight"
   ]
  }
 ],
 "metadata": {
  "language_info": {
   "name": "python"
  },
  "orig_nbformat": 4
 },
 "nbformat": 4,
 "nbformat_minor": 2
}
