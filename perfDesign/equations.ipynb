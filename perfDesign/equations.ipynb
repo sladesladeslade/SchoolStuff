{
 "cells": [
  {
   "attachments": {},
   "cell_type": "markdown",
   "metadata": {},
   "source": [
    "# Slade Brooks\n",
    "# brooksl@mail.uc.edu\n",
    "# 02.21.2023\n",
    "# Performance/Design Equation Sheet"
   ]
  },
  {
   "attachments": {},
   "cell_type": "markdown",
   "metadata": {},
   "source": [
    "# Block 1"
   ]
  },
  {
   "attachments": {},
   "cell_type": "markdown",
   "metadata": {},
   "source": [
    "## Atmosphere"
   ]
  },
  {
   "attachments": {},
   "cell_type": "markdown",
   "metadata": {},
   "source": [
    "Mach number = M = $\\frac{TAS}{a}$"
   ]
  },
  {
   "attachments": {},
   "cell_type": "markdown",
   "metadata": {},
   "source": [
    "True air speed = TAS = $\\frac{EAS}{\\sqrt{\\frac{\\rho}{\\rho_{SL}}}}$"
   ]
  },
  {
   "attachments": {},
   "cell_type": "markdown",
   "metadata": {},
   "source": [
    "## Planform"
   ]
  },
  {
   "attachments": {},
   "cell_type": "markdown",
   "metadata": {},
   "source": [
    "average chord = c = $\\frac{c_{t}+c_{r}}{2}$"
   ]
  },
  {
   "attachments": {},
   "cell_type": "markdown",
   "metadata": {},
   "source": [
    "taper ratio = $\\lambda$ = $\\frac{c_{t}}{c_{r}}$"
   ]
  },
  {
   "attachments": {},
   "cell_type": "markdown",
   "metadata": {},
   "source": [
    "area = S = $b*c$"
   ]
  },
  {
   "attachments": {},
   "cell_type": "markdown",
   "metadata": {},
   "source": [
    "aspect ratio = AR = $\\frac{b^{2}}{S}$ = $\\frac{b}{c}$"
   ]
  },
  {
   "attachments": {},
   "cell_type": "markdown",
   "metadata": {},
   "source": [
    "1/4 chord sweep = $\\Lambda_{\\frac{c}{4}}$ = $\\arctan{[\\tan{\\Lambda_{LE} - 0.25c_{r}\\frac{1-\\lambda}{\\frac{b}{2}}}]}$"
   ]
  },
  {
   "attachments": {},
   "cell_type": "markdown",
   "metadata": {},
   "source": [
    "mean aerodynamic chord = MAC = $\\frac{2}{3}c_{r}\\frac{1+\\lambda+\\lambda^{2}}{1+\\lambda}$"
   ]
  },
  {
   "attachments": {},
   "cell_type": "markdown",
   "metadata": {},
   "source": [
    "location of MAC = $y_{MAC}$ = $\\frac{b}{6}\\frac{1+2\\lambda}{1+\\lambda}$"
   ]
  }
 ],
 "metadata": {
  "language_info": {
   "name": "python"
  },
  "orig_nbformat": 4
 },
 "nbformat": 4,
 "nbformat_minor": 2
}
