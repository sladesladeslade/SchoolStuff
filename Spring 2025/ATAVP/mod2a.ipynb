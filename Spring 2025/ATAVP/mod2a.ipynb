{
 "cells": [
  {
   "cell_type": "markdown",
   "metadata": {},
   "source": [
    "### Slade Brooks\n",
    "### M13801712\n",
    "#### AEEM6042 Module 2 Assignment\n",
    "#### 02.14.25"
   ]
  },
  {
   "cell_type": "markdown",
   "metadata": {},
   "source": [
    "# Problem 1"
   ]
  },
  {
   "cell_type": "markdown",
   "metadata": {},
   "source": [
    "## Part A"
   ]
  },
  {
   "cell_type": "markdown",
   "metadata": {},
   "source": [
    "Solve for $T_2$ with isentropic relations assuming $\\gamma=1.4$."
   ]
  },
  {
   "cell_type": "markdown",
   "metadata": {},
   "source": [
    "\\begin{align*}\n",
    "    \\frac{T_2}{T_1}=\\left(\\frac{P_2}{P_1}\\right)^\\frac{\\gamma-1}{\\gamma} \\\\\n",
    "    T_2=T_1\\left(\\frac{P_2}{P_1}\\right)^\\frac{\\gamma-1}{\\gamma} \\\\\n",
    "    T_2=1400\\text{K}\\left(\\frac{1}{8}\\right)^\\frac{1.4-1}{1.4} \\\\\n",
    "    \\fbox{$T_2=772.86$K}\n",
    "\\end{align*}"
   ]
  },
  {
   "cell_type": "markdown",
   "metadata": {},
   "source": [
    "## Part B"
   ]
  },
  {
   "cell_type": "markdown",
   "metadata": {},
   "source": [
    "Solve mass flow rate for area, using ideal gas assumption to get density."
   ]
  },
  {
   "cell_type": "markdown",
   "metadata": {},
   "source": [
    "\\begin{align*}\n",
    "    \\rho_1=\\frac{P_1}{RT_1} \\\\\n",
    "    \\rho_1=\\frac{810600\\text{Pa}}{287\\text{J/kgK}*1400\\text{K}} \\\\\n",
    "    \\rho_1=2.017\\text{kg/m}^3\n",
    "\\end{align*}\n",
    "\n",
    "\\begin{align*}\n",
    "    V_1=M_1\\sqrt{\\gamma RT_1} \\\\\n",
    "    V_1=0.3\\sqrt{1.4*287\\text{J/kgK}*1400\\text{K}} \\\\\n",
    "    V_1=225\\text{m/s}\n",
    "\\end{align*}\n",
    "\n",
    "\\begin{align*}\n",
    "    \\dot{m}=\\rho_1 V_1 A_1 \\\\\n",
    "    A_1=\\frac{\\dot{m}}{\\rho_1V_1} \\\\\n",
    "    A_1=\\frac{100\\text{kg/s}}{2.017\\text{kg/m}^3\\cdot 225\\text{m/s}} \\\\\n",
    "    \\fbox{$A_1=0.22$m$^2$}\n",
    "\\end{align*}"
   ]
  },
  {
   "cell_type": "markdown",
   "metadata": {},
   "source": [
    "## Part C"
   ]
  },
  {
   "cell_type": "markdown",
   "metadata": {},
   "source": [
    "First check if the nozzle is choked. $P_0$ is constant since the nozzle is isentropic."
   ]
  },
  {
   "cell_type": "markdown",
   "metadata": {},
   "source": [
    "\\begin{align*}\n",
    "    \\frac{P_0}{P}=\\left(1+\\frac{\\gamma-1}{2}M^2\\right)^\\frac{\\gamma}{\\gamma-1} \\\\\n",
    "    P_0=P_1\\left(1+\\frac{\\gamma-1}{2}M_1^2\\right)^\\frac{\\gamma}{\\gamma-1} \\\\\n",
    "    P_0=(810600\\text{Pa})\\left(1+\\frac{1.4-1}{2}0.3^2\\right)^\\frac{1.4}{1.4-1} \\\\\n",
    "    P_0=862827.2\\text{Pa}\n",
    "\\end{align*}\n",
    "\n",
    "\\begin{align*}\n",
    "    \\frac{P_0}{P}=\\frac{862827.2}{101325}=8.52\n",
    "\\end{align*}"
   ]
  },
  {
   "cell_type": "markdown",
   "metadata": {},
   "source": [
    "The pressure ratio is higher than the critical pressure ratio so the nozzle is choked. First find $M_2$ from the\n",
    "isentropic relations since we know total temperature is constant because it's isentropic."
   ]
  },
  {
   "cell_type": "markdown",
   "metadata": {},
   "source": [
    "\\begin{align*}\n",
    "    T_{01}=T_1\\left(1+\\frac{\\gamma-1}{2}M_1^2\\right) \\\\\n",
    "    T_{01}=1450.4\\text{K}\n",
    "\\end{align*}\n",
    "\n",
    "\\begin{align*}\n",
    "    M_2=\\sqrt{\\left(\\frac{T_{01}}{T_2}-1\\right)\\frac{2}{\\gamma-1}} \\\\\n",
    "    M_2=2.1\n",
    "\\end{align*}"
   ]
  },
  {
   "cell_type": "markdown",
   "metadata": {},
   "source": [
    "Then find the area ratio to the throat from inlet, and use the throat area with $M_2$ to find the exit area."
   ]
  },
  {
   "cell_type": "markdown",
   "metadata": {},
   "source": [
    "\\begin{align*}\n",
    "    \\frac{A_1}{A^*}=\\frac{1}{M_1}\\left[\\frac{2}{\\gamma+1}\\left(1+\\frac{\\gamma-1}{2}M_1^2\n",
    "    \\right)\\right]^{\\frac{\\gamma+1}{2(\\gamma-1)}} \\\\\n",
    "    A^*=A_1/\\frac{1}{M_1}\\left[\\frac{2}{\\gamma+1}\\left(1+\\frac{\\gamma-1}{2}M_1^2\n",
    "    \\right)\\right]^{\\frac{\\gamma+1}{2(\\gamma-1)}} \\\\\n",
    "    A^*=0.108\\text{m}^2\n",
    "\\end{align*}\n",
    "\n",
    "\\begin{align*}\n",
    "    A_2=A^*\\frac{1}{M_2}\\left[\\frac{2}{\\gamma+1}\\left(1+\\frac{\\gamma-1}{2}M_2^2\n",
    "    \\right)\\right]^{\\frac{\\gamma+1}{2(\\gamma-1)}} \\\\\n",
    "    \\fbox{$A_2=0.1984$m$^2$}\n",
    "\\end{align*}"
   ]
  },
  {
   "cell_type": "markdown",
   "metadata": {},
   "source": [
    "# Problem 2"
   ]
  },
  {
   "cell_type": "markdown",
   "metadata": {},
   "source": [
    "## Part A"
   ]
  },
  {
   "cell_type": "markdown",
   "metadata": {},
   "source": [
    "Solve for total pressure and temperature with isentropic relations, then solve MFP for mass flow rate."
   ]
  },
  {
   "cell_type": "markdown",
   "metadata": {},
   "source": [
    "\\begin{align*}\n",
    "    P_0=P_1\\left(1+\\frac{\\gamma-1}{2}M_1^2\\right)^\\frac{\\gamma}{\\gamma-1} \\\\\n",
    "    P_0=4\\text{psia}\\left(1+\\frac{1.4-1}{2}2.5^2\\right)^\\frac{1.4}{1.4-1} \\\\\n",
    "    P_0=68.3\\text{psia}\n",
    "\\end{align*}\n",
    "\n",
    "\\begin{align*}\n",
    "    T_0=T_1\\left(1+\\frac{\\gamma-1}{2}M_1^2\\right) \\\\\n",
    "    T_0=(-55+459.67\\text{R})\\left(1+\\frac{1.4-1}{2}2.5^2\\right) \\\\\n",
    "    T_0=910.5\\text{R}\n",
    "\\end{align*}\n",
    "\n",
    "\\begin{align*}\n",
    "    MFP=\\sqrt{\\frac{\\gamma g_c}{R}}M_1\\left(1+\\frac{\\gamma-1}{2}M_1^2\\right)^\n",
    "    {-\\frac{\\gamma+1}{2(\\gamma-1)}} \\\\\n",
    "    MFP=\\sqrt{\\frac{1.4(32.174\\text{lbm-ft/lbf-s}^2)}{53.34\\text{ft-lbf/lbm-R}}}\\cdot 2.5\\left(\n",
    "    1+\\frac{1.4-1}{2}2.5^2\\right)^{-\\frac{1.4+1}{2(1.4-1)}} \\\\\n",
    "    MFP=0.202\n",
    "\\end{align*}\n",
    "\n",
    "\\begin{align*}\n",
    "    \\dot{m}=\\frac{A_1P_0}{\\sqrt{T_0}}MFP \\\\\n",
    "    \\dot{m}=\\frac{1.5\\text{ft}^268.3psia\\frac{144si}{sf}}{\\sqrt{910.5\\text{R}}}(.202) \\\\\n",
    "    \\fbox{$\\dot{m}=98.76$lbm/s}\n",
    "\\end{align*}"
   ]
  },
  {
   "cell_type": "markdown",
   "metadata": {},
   "source": [
    "## Part B"
   ]
  },
  {
   "cell_type": "markdown",
   "metadata": {},
   "source": [
    "Use isentropic relations to get the pressure and temperature at the exit."
   ]
  },
  {
   "cell_type": "markdown",
   "metadata": {},
   "source": [
    "\\begin{align*}\n",
    "    P_2=P_0/\\left(1+\\frac{\\gamma-1}{2}M_2^2\\right)^\\frac{\\gamma}{\\gamma-1} \\\\\n",
    "    \\fbox{$P_2=66.4$ psia} \\\\\n",
    "    T_2=T_0/\\left(1+\\frac{\\gamma-1}{2}M_2^2\\right) \\\\\n",
    "    \\fbox{$T_2=903.3^\\circ$R}\n",
    "\\end{align*}"
   ]
  },
  {
   "cell_type": "markdown",
   "metadata": {},
   "source": [
    "## Part C"
   ]
  },
  {
   "cell_type": "markdown",
   "metadata": {},
   "source": [
    "Use MFP with the exit conditions to get the exit area."
   ]
  },
  {
   "cell_type": "markdown",
   "metadata": {},
   "source": [
    "\\begin{align*}\n",
    "    MFP=\\sqrt{\\frac{\\gamma g_c}{R}}M_2\\left(1+\\frac{\\gamma-1}{2}M_2^2\\right)^\n",
    "    {-\\frac{\\gamma+1}{2(\\gamma-1)}} \\\\\n",
    "    MFP=\\sqrt{\\frac{1.4(32.174\\text{lbm-ft/lbf-s}^2)}{53.34\\text{ft-lbf/lbm-R}}}\\cdot 0.2\\left(\n",
    "    1+\\frac{1.4-1}{2}0.2^2\\right)^{-\\frac{1.4+1}{2(1.4-1)}} \\\\\n",
    "    MFP=0.179\n",
    "\\end{align*}\n",
    "\n",
    "\\begin{align*}\n",
    "    A_2=\\frac{\\dot{m}\\sqrt{T_0}}{MFP\\cdot P_0} \\\\\n",
    "    A_2=\\frac{98.76\\text{lbm/s}\\sqrt{910.5\\text{R}}}{0.179\\cdot 68.3\\text{psia}\n",
    "    \\frac{144\\text{si}}{1\\text{sf}}} \\\\\n",
    "    \\fbox{$A_2=1.693$ft$^2$}\n",
    "\\end{align*}"
   ]
  },
  {
   "cell_type": "markdown",
   "metadata": {},
   "source": [
    "# Problem 3"
   ]
  },
  {
   "cell_type": "markdown",
   "metadata": {},
   "source": [
    "## Part A"
   ]
  },
  {
   "cell_type": "markdown",
   "metadata": {},
   "source": [
    "Simply use isentropic relations to solve for upstream totals."
   ]
  },
  {
   "cell_type": "markdown",
   "metadata": {},
   "source": [
    "\\begin{align*}\n",
    "    T_{01}=T_1\\left(1+\\frac{\\gamma-1}{2}M_1^2\\right) \\\\\n",
    "    T_{01}=260\\left(1+\\frac{1.4-1}{2}3^2\\right) \\\\\n",
    "    \\fbox{$T_{01}=728$K}\n",
    "\\end{align*}\n",
    "\n",
    "\\begin{align*}\n",
    "    P_{01}=P_1\\left(1+\\frac{\\gamma-1}{2}M_1^2\\right)^\\frac{\\gamma}{\\gamma-1} \\\\\n",
    "    P_{01}=20\\left(1+\\frac{1.4-1}{2}3^2\\right)^\\frac{1.4}{1.4-1} \\\\\n",
    "    \\fbox{$P_{01}=734.65$kPa}\n",
    "\\end{align*}"
   ]
  },
  {
   "cell_type": "markdown",
   "metadata": {},
   "source": [
    "## Part B"
   ]
  },
  {
   "cell_type": "markdown",
   "metadata": {},
   "source": [
    "Since the shock is adiabatic across, $T_{02}=T_{01}$.\n",
    "\\begin{align*}\n",
    "    \\fbox{$T_{02}=728$K}\n",
    "\\end{align*}"
   ]
  },
  {
   "cell_type": "markdown",
   "metadata": {},
   "source": [
    "Solve for $M_2$ with shock relation then use $P_2$ from part C and $M_2$ to solve isentropic relation for $P_{02}$."
   ]
  },
  {
   "cell_type": "markdown",
   "metadata": {},
   "source": [
    "\\begin{align*}\n",
    "    M_2=\\sqrt{\\frac{1+\\frac{\\gamma-1}{2}M_1^2}{\\gamma M_1^2-\\frac{\\gamma-1}{2}}} \\\\\n",
    "    M_2=\\sqrt{\\frac{1+\\frac{1.4-1}{2}3^2}{1.4\\cdot 3^2-\\frac{1.4-1}{2}}} \\\\\n",
    "    M_2=0.4752\n",
    "\\end{align*}\n",
    "\n",
    "\\begin{align*}\n",
    "    P_{02}=P_2\\left(1+\\frac{\\gamma-1}{2}M_2^2\\right)^\\frac{\\gamma}{\\gamma-1} \\\\\n",
    "    P_{02}=206.67\\left(1+\\frac{0.4}{2}0.4752^2\\right)^\\frac{1.4}{0.4} \\\\\n",
    "    \\fbox{$P_{02}=241.22$kPa}\n",
    "\\end{align*}"
   ]
  },
  {
   "cell_type": "markdown",
   "metadata": {},
   "source": [
    "## Part C"
   ]
  },
  {
   "cell_type": "markdown",
   "metadata": {},
   "source": [
    "Solve for static conditions using shock relation equations."
   ]
  },
  {
   "cell_type": "markdown",
   "metadata": {},
   "source": [
    "\\begin{align*}\n",
    "    T_2=T_1\\left[1+\\frac{2\\gamma}{\\gamma+1}(M_1^2-1)\\right]\\left[\\frac{2+(\\gamma-1)\n",
    "    M_1^2}{(\\gamma+1)M_1^2}\\right] \\\\\n",
    "    T_2=260\\left[1+\\frac{2\\cdot 1.4}{2.4}(3^2-1)\\right]\\left[\\frac{2+(0.4)3^2}\n",
    "    {(2.4)3^2}\\right] \\\\\n",
    "    \\fbox{$T_2=696.54$K}\n",
    "\\end{align*}\n",
    "\n",
    "\\begin{align*}\n",
    "    P_2=P_1\\left(1+\\frac{2\\gamma}{\\gamma+1}(M_1^2-1)\\right) \\\\\n",
    "    P_2=20\\left(1+\\frac{2.8}{2.4}(3^2-1)\\right) \\\\\n",
    "    \\fbox{$P_2=206.67$kPa}\n",
    "\\end{align*}"
   ]
  },
  {
   "cell_type": "markdown",
   "metadata": {},
   "source": [
    "# Problem 4"
   ]
  },
  {
   "cell_type": "markdown",
   "metadata": {},
   "source": [
    "## Part A"
   ]
  },
  {
   "cell_type": "markdown",
   "metadata": {},
   "source": [
    "Input mach number and specific heat ratio to gastab to get:"
   ]
  },
  {
   "attachments": {
    "image.png": {
     "image/png": "[encoded data removed]"
    }
   },
   "cell_type": "markdown",
   "metadata": {},
   "source": [
    "![image.png](attachment:image.png)"
   ]
  },
  {
   "cell_type": "markdown",
   "metadata": {},
   "source": [
    "First find $T_{02}$ from q."
   ]
  },
  {
   "cell_type": "markdown",
   "metadata": {},
   "source": [
    "\\begin{align*}\n",
    "    q=c_p(T_{02}-T_{01}) \\\\\n",
    "    T_{02}=q/c_p+T_{01} \\\\\n",
    "    T_{02}=\\frac{500\\text{kJ/kg}}{1.004\\text{kJ/kg-K}}+500\\text{K} \\\\\n",
    "    \\fbox{$T_{02}=998$K}\n",
    "\\end{align*}"
   ]
  },
  {
   "cell_type": "markdown",
   "metadata": {},
   "source": [
    "Now use the gastab results and the ratios to determine $T_{02}/T_0$, then use gastab again to find the Mach number and\n",
    "total pressure ratio."
   ]
  },
  {
   "cell_type": "markdown",
   "metadata": {},
   "source": [
    "\\begin{align*}\n",
    "    \\frac{T_{02}}{T_{01}}=\\left(\\frac{T_{02}}{T_{0}^*}\\right)\n",
    "    \\left(\\frac{T_{0}^*}{T_{01}}\\right) \\\\\n",
    "    \\frac{T_{02}}{T_0^*}=\\frac{T_{02}}{T_{01}}\\frac{T_{0}^*}{T_{01}} \\\\\n",
    "    \\frac{T_{02}}{T_0^*}=\\frac{998}{500}(0.34686) \\\\\n",
    "    \\frac{T_{02}}{T_0^*}=0.692\n",
    "\\end{align*}"
   ]
  },
  {
   "cell_type": "markdown",
   "metadata": {},
   "source": [
    "Get the subsonic gastab results because it started subsonic:\n"
   ]
  },
  {
   "attachments": {
    "image.png": {
     "image/png": "[encoded data removed]"
    }
   },
   "cell_type": "markdown",
   "metadata": {},
   "source": [
    "![image.png](attachment:image.png)"
   ]
  },
  {
   "cell_type": "markdown",
   "metadata": {},
   "source": [
    "\\begin{align*}\n",
    "    \\fbox{$M_2=0.5$}\n",
    "\\end{align*}"
   ]
  },
  {
   "cell_type": "markdown",
   "metadata": {},
   "source": [
    "Get $P_{0}^*$ from the first results:"
   ]
  },
  {
   "cell_type": "markdown",
   "metadata": {},
   "source": [
    "\\begin{align*}\n",
    "    \\frac{P_{01}}{P_0^*}=1.1985 \\\\\n",
    "    P_0^*=500.63\\text{kPa}\n",
    "\\end{align*}"
   ]
  },
  {
   "cell_type": "markdown",
   "metadata": {},
   "source": [
    "Then get $P_{02}$ from the new gastab results:"
   ]
  },
  {
   "cell_type": "markdown",
   "metadata": {},
   "source": [
    "\\begin{align*}\n",
    "    \\frac{P_{02}}{P_0^*}=1.1139 \\\\\n",
    "    P_{02}=500.63(1.1139) \\\\\n",
    "    \\fbox{$P_{02}=557.65$kPa}\n",
    "\\end{align*}"
   ]
  },
  {
   "cell_type": "markdown",
   "metadata": {},
   "source": [
    "## Part B"
   ]
  },
  {
   "cell_type": "markdown",
   "metadata": {},
   "source": [
    "Same process with different values:"
   ]
  },
  {
   "attachments": {
    "image.png": {
     "image/png": "[encoded data removed]"
    }
   },
   "cell_type": "markdown",
   "metadata": {},
   "source": [
    "![image.png](attachment:image.png)"
   ]
  },
  {
   "cell_type": "markdown",
   "metadata": {},
   "source": [
    "\\begin{align*}\n",
    "    T_{02}=\\frac{500\\text{kJ/kg}}{1.171\\text{kJ/kg-K}}+500\\text{K} \\\\\n",
    "    \\fbox{$T_{02}=927$K}\n",
    "\\end{align*}"
   ]
  },
  {
   "cell_type": "markdown",
   "metadata": {},
   "source": [
    "\\begin{align*}\n",
    "    \\frac{T_{02}}{T_0^*}=\\frac{927}{500}(0.33896) \\\\\n",
    "    \\frac{T_{02}}{T_0^*}=0.628\n",
    "\\end{align*}"
   ]
  },
  {
   "attachments": {
    "image.png": {
     "image/png": "[encoded data removed]"
    }
   },
   "cell_type": "markdown",
   "metadata": {},
   "source": [
    "![image.png](attachment:image.png)"
   ]
  },
  {
   "cell_type": "markdown",
   "metadata": {},
   "source": [
    "\\begin{align*}\n",
    "    \\fbox{$M_2=0.46447$}\n",
    "\\end{align*}"
   ]
  },
  {
   "cell_type": "markdown",
   "metadata": {},
   "source": [
    "\\begin{align*}\n",
    "    \\frac{P_{01}}{P_0^*}=1.1929 \\\\\n",
    "    P_0^*=502.976\\text{kPa}\n",
    "\\end{align*}"
   ]
  },
  {
   "cell_type": "markdown",
   "metadata": {},
   "source": [
    "\\begin{align*}\n",
    "    \\frac{P_{02}}{P_0^*}=1.1263 \\\\\n",
    "    P_{02}=502.976(1.1263) \\\\\n",
    "    \\fbox{$P_{02}=566.5$kPa}\n",
    "\\end{align*}"
   ]
  },
  {
   "cell_type": "markdown",
   "metadata": {},
   "source": [
    "# Problem 5"
   ]
  },
  {
   "cell_type": "markdown",
   "metadata": {},
   "source": [
    "First we need the hydraulic diameter, which is just one side length for a square."
   ]
  },
  {
   "cell_type": "markdown",
   "metadata": {},
   "source": [
    "\\begin{align*}\n",
    "    D=1\\text{ft}\n",
    "\\end{align*}"
   ]
  },
  {
   "cell_type": "markdown",
   "metadata": {},
   "source": [
    "Plug mach number into gastab to get results:"
   ]
  },
  {
   "attachments": {
    "image.png": {
     "image/png": "[encoded data removed]"
    }
   },
   "cell_type": "markdown",
   "metadata": {},
   "source": [
    "![image.png](attachment:image.png)"
   ]
  },
  {
   "cell_type": "markdown",
   "metadata": {},
   "source": [
    "Get the * static temp and pressure form the gastab ratios as well as the total pressure ratio.\n",
    "\\begin{align*}\n",
    "    P^*=10/1.7634=5.67\\text{psia} \\\\\n",
    "    T^*=500/1.1194=446.67^\\circ\\text{R} \\\\\n",
    "    P_0/P_0^*=1.1882\n",
    "\\end{align*}"
   ]
  },
  {
   "cell_type": "markdown",
   "metadata": {},
   "source": [
    "First calculate the regular 4cfLD."
   ]
  },
  {
   "cell_type": "markdown",
   "metadata": {},
   "source": [
    "\\begin{align*}\n",
    "    \\frac{4c_fL}{D}=\\frac{4(0.004)(8)}{1}=0.128\n",
    "\\end{align*}"
   ]
  },
  {
   "cell_type": "markdown",
   "metadata": {},
   "source": [
    "Now get the 4cfL2*/D by solving:"
   ]
  },
  {
   "cell_type": "markdown",
   "metadata": {},
   "source": [
    "\\begin{align*}\n",
    "    \\frac{4c_fL_2^*}{D}=0.49080-0.128=0.3628\n",
    "\\end{align*}"
   ]
  },
  {
   "cell_type": "markdown",
   "metadata": {},
   "source": [
    "Then plug that friction factor back into gastab to get the subsonic (because started subsonic) Mach number."
   ]
  },
  {
   "attachments": {
    "image.png": {
     "image/png": "[encoded data removed]"
    }
   },
   "cell_type": "markdown",
   "metadata": {},
   "source": [
    "![image.png](attachment:image.png)"
   ]
  },
  {
   "cell_type": "markdown",
   "metadata": {},
   "source": [
    "\\begin{align*}\n",
    "    \\fbox{$M_2=0.63684$}\n",
    "\\end{align*}"
   ]
  },
  {
   "cell_type": "markdown",
   "metadata": {},
   "source": [
    "Get the pressure and temperature based on the new gastab ratios.\n",
    "\\begin{align*}\n",
    "    P_2=5.67\\cdot 1.6543 \\\\\n",
    "    \\fbox{$P_2=9.38$psia} \\\\\n",
    "    T_2=446.67\\cdot 1.11 \\\\\n",
    "    \\fbox{$T_2=495.8^\\circ$R} \\\\\n",
    "    P_{02}/P_{01}=1.1483/1.1882 \\\\\n",
    "    \\fbox{$\\frac{P_{02}}{P_{01}}=0.9664$}\n",
    "\\end{align*}"
   ]
  }
 ],
 "metadata": {
  "kernelspec": {
   "display_name": "school",
   "language": "python",
   "name": "python3"
  },
  "language_info": {
   "name": "python",
   "version": "3.13.1"
  }
 },
 "nbformat": 4,
 "nbformat_minor": 2
}
