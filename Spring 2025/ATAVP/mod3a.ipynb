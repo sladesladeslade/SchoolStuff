{
 "cells": [
  {
   "cell_type": "markdown",
   "metadata": {},
   "source": [
    "### Slade Brooks\n",
    "### M13801712\n",
    "#### AEEM6042 Module 3 Assignment\n",
    "#### 03.05.25"
   ]
  },
  {
   "cell_type": "markdown",
   "metadata": {},
   "source": [
    "# Problem 1"
   ]
  },
  {
   "cell_type": "markdown",
   "metadata": {},
   "source": [
    "substitute temp and pressure ratios"
   ]
  },
  {
   "cell_type": "markdown",
   "metadata": {},
   "source": [
    "\\begin{align*}\n",
    "    \\frac{T_{t0}}{T_0}=\\tau_r\n",
    "\\end{align*}\n",
    "\n",
    "\\begin{align*}\n",
    "    \\frac{P_{t2}}{P_0}=\\frac{P_{t0}}{P_0}\\cdot \\frac{P_{t2}}{P_{t0}}=\\pi_r \\pi_d\n",
    "\\end{align*}\n",
    "\n",
    "\\begin{align*}\n",
    "    \\pi_r=\\left(1+\\frac{\\gamma-1}{2}M_0^2\\right)^{\\frac{\\gamma}{\\gamma - 1}} \\\\\n",
    "    \\tau_r=1+\\frac{\\gamma-1}{2}M_0^2 \\rightarrow \\pi_r=\\tau_r^{\\frac{\\gamma}{\\gamma-1}}\n",
    "\\end{align*}"
   ]
  },
  {
   "cell_type": "markdown",
   "metadata": {},
   "source": [
    "plug in and cancel"
   ]
  },
  {
   "cell_type": "markdown",
   "metadata": {},
   "source": [
    "\\begin{align*}\n",
    "    \\eta_d=\\frac{\\left(\\tau_r^{\\frac{\\gamma}{\\gamma-1}}\\pi_d\\right)^\\frac{\\gamma-1}{\\gamma}-1}{\\tau_r-1} \\\\\n",
    "    \\fbox{$\\eta_d=\\frac{\\tau_r\\pi_d^\\frac{\\gamma-1}{\\gamma}-1}{\\tau_r-1}$}\n",
    "\\end{align*}"
   ]
  },
  {
   "cell_type": "markdown",
   "metadata": {},
   "source": [
    "# Problem 2"
   ]
  },
  {
   "cell_type": "markdown",
   "metadata": {},
   "source": [
    "from SL-S assumption:\n",
    "\\begin{align*}\n",
    "    T_0=T_{t0}=288.15\\text{K};\\quad \\gamma=1.4\n",
    "\\end{align*}"
   ]
  },
  {
   "cell_type": "markdown",
   "metadata": {},
   "source": [
    "\\begin{align*}\n",
    "    \\tau_c=\\pi_c^{\\frac{\\gamma-1}{\\gamma e_c}} \\rightarrow \\pi_c=\\tau_c^{\\frac{\\gamma e_c}{\\gamma-1}} \\\\\n",
    "    \\tau_c=\\frac{T_{t3}}{T_{t2}}\n",
    "\\end{align*}"
   ]
  },
  {
   "cell_type": "markdown",
   "metadata": {},
   "source": [
    "assuming no inlet or fan:\n",
    "\\begin{align*}\n",
    "    T_{t2}=T_{t0}\n",
    "\\end{align*}"
   ]
  },
  {
   "cell_type": "markdown",
   "metadata": {},
   "source": [
    "## Part A"
   ]
  },
  {
   "cell_type": "markdown",
   "metadata": {},
   "source": [
    "\\begin{align*}\n",
    "    T_{t3}=900\\text{K}\n",
    "\\end{align*}"
   ]
  },
  {
   "cell_type": "markdown",
   "metadata": {},
   "source": [
    "\\begin{align*}\n",
    "    \\pi_c=\\left(\\frac{900}{288.15}\\right)^{\\frac{1.4(0.9)}{1.4-1}} \\\\\n",
    "    \\fbox{$\\pi_c=36.15$}\n",
    "\\end{align*}"
   ]
  },
  {
   "cell_type": "markdown",
   "metadata": {},
   "source": [
    "## Part B"
   ]
  },
  {
   "cell_type": "markdown",
   "metadata": {},
   "source": [
    "\\begin{align*}\n",
    "    T_{t3}=1300\\text{K}\n",
    "\\end{align*}"
   ]
  },
  {
   "cell_type": "markdown",
   "metadata": {},
   "source": [
    "\\begin{align*}\n",
    "    \\pi_c=\\left(\\frac{1300}{288.15}\\right)^{\\frac{1.4(0.9)}{1.4-1}} \\\\\n",
    "    \\fbox{$\\pi_c=115.1$}\n",
    "\\end{align*}"
   ]
  },
  {
   "cell_type": "markdown",
   "metadata": {},
   "source": [
    "# Problem 3"
   ]
  },
  {
   "cell_type": "code",
   "execution_count": 24,
   "metadata": {},
   "outputs": [],
   "source": [
    "import numpy as np\n",
    "\n",
    "\n",
    "# given vals from table (P in psia, T in degR)\n",
    "Pt2 = 14.7\n",
    "Tt2 = 59. + 459.67\n",
    "Pt25 = 47.5\n",
    "Tt25 = 307. + 459.67\n",
    "Pt13 = 47.5\n",
    "Tt13 = 307. + 459.67\n",
    "Pt3 = 387.7\n",
    "Tt3 = 1000. + 459.67\n",
    "Pt4 = 350.5\n",
    "Tt4 = 2739.\n",
    "Pt5 = 44.8\n",
    "Pt6 = Pt5\n",
    "Tt5 = 1362. + 459.67\n",
    "Tt6 = Tt5\n",
    "Pt16 = 42.8\n",
    "Tt16 = 331. + 459.67\n",
    "Pt6A = 43.7\n",
    "Tt6A = 989. + 459.67\n",
    "Pt7 = 39.5\n",
    "Tt7 = 3167. + 459.67\n",
    "alpha = 0.63                # bypass ratio\n",
    "T = 23.77*1000.             # thrust (lbf)\n",
    "mdot = 228.                 # mass flow (lbm/s)\n",
    "\n",
    "# given vals for air\n",
    "yc = 1.4                    # spec. heat ratio comp.\n",
    "yt = 1.3                    # spec. heat ratio turb.\n",
    "cp = 0.24                   # spec. heat (Btu/lbm-degR)"
   ]
  },
  {
   "cell_type": "markdown",
   "metadata": {},
   "source": [
    "## Fan and HPC"
   ]
  },
  {
   "cell_type": "code",
   "execution_count": 25,
   "metadata": {},
   "outputs": [
    {
     "name": "stdout",
     "output_type": "stream",
     "text": [
      "e_f=85.8%; e_c=93.2%\n"
     ]
    }
   ],
   "source": [
    "# determine temp and pres ratios\n",
    "tauf = Tt13/Tt2     # fan temp ratio\n",
    "tauc = Tt3/Tt25     # comp temp ratio\n",
    "pif = Pt13/Pt2      # fan pres ratio\n",
    "pic = Pt3/Pt25      # comp pres ratio\n",
    "\n",
    "# calculate polytropic efficiencies from ratios and rearranged tau eqtn\n",
    "ef = (yc - 1)/yc*np.log(pif)/np.log(tauf)\n",
    "ec = (yc - 1)/yc*np.log(pic)/np.log(tauc)\n",
    "print(f\"e_f={ef:.1%}; e_c={ec:.1%}\")"
   ]
  },
  {
   "cell_type": "markdown",
   "metadata": {},
   "source": [
    "## Turbines"
   ]
  },
  {
   "cell_type": "code",
   "execution_count": 26,
   "metadata": {},
   "outputs": [
    {
     "name": "stdout",
     "output_type": "stream",
     "text": [
      "e_t=85.9%\n"
     ]
    }
   ],
   "source": [
    "# determine turbine temp and pres ratio (across both turbines)\n",
    "taut = Tt5/Tt4\n",
    "pit = Pt5/Pt4\n",
    "\n",
    "# calculate polytropic efficiency from ratios and rearranged tau eqtn\n",
    "et = yt/(yt - 1)*np.log(taut)/np.log(pit)\n",
    "print(f\"e_t={et:.1%}\")"
   ]
  },
  {
   "cell_type": "markdown",
   "metadata": {},
   "source": [
    "## Work Required"
   ]
  },
  {
   "cell_type": "code",
   "execution_count": 27,
   "metadata": {},
   "outputs": [
    {
     "name": "stdout",
     "output_type": "stream",
     "text": [
      "Wdot_f=13570.6 Btu/s; Wdot_c=23264.4 Btu/s\n"
     ]
    }
   ],
   "source": [
    "# fan power required (sees all of mdot)\n",
    "Wdotf = mdot*cp*(Tt13 - Tt2)\n",
    "\n",
    "# comp power required (sees mdot without bypass)\n",
    "Wdotc = mdot/(1 + alpha)*cp*(Tt3 - Tt25)\n",
    "\n",
    "print(f\"Wdot_f={Wdotf:.1f} Btu/s; Wdot_c={Wdotc:.1f} Btu/s\")"
   ]
  }
 ],
 "metadata": {
  "kernelspec": {
   "display_name": "school",
   "language": "python",
   "name": "python3"
  },
  "language_info": {
   "codemirror_mode": {
    "name": "ipython",
    "version": 3
   },
   "file_extension": ".py",
   "mimetype": "text/x-python",
   "name": "python",
   "nbconvert_exporter": "python",
   "pygments_lexer": "ipython3",
   "version": "3.13.1"
  }
 },
 "nbformat": 4,
 "nbformat_minor": 2
}
