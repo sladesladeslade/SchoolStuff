{
 "cells": [
  {
   "cell_type": "markdown",
   "metadata": {},
   "source": [
    "# AEEM 3062\n",
    "# HOMEWORK # 2\n",
    "# 2022-2023 SPRING\n",
    "### Name: Slade Brooks\n",
    "### M#: 13801712\t\n",
    "### DUE: 11.59 PM on 1/26/2023\n"
   ]
  },
  {
   "attachments": {},
   "cell_type": "markdown",
   "metadata": {},
   "source": [
    "## Problem 1\n",
    "![image.png](images/problem1.PNG)"
   ]
  },
  {
   "attachments": {},
   "cell_type": "markdown",
   "metadata": {},
   "source": [
    "### Part A\n",
    "![image.png](images/1.a.png)"
   ]
  },
  {
   "cell_type": "markdown",
   "metadata": {},
   "source": [
    "equation to transform coordinates from one reference to another: $\\quad \\hat y=R^T \\hat x $"
   ]
  },
  {
   "cell_type": "markdown",
   "metadata": {},
   "source": [
    "$$\n",
    "v_{e} = \\begin{bmatrix} 2 & 1 & -3 \\end{bmatrix},\\quad\n",
    "R_{c_{3}} = \\begin{bmatrix} \\cos{\\varphi} & -\\sin{\\varphi} & 0 \\\\ \\sin{\\varphi} & \\cos{\\varphi} & 0 \\\\ 0 & 0 & 1\n",
    "\\end{bmatrix}, \\quad \\varphi = 20^\\circ\n",
    "$$"
   ]
  },
  {
   "cell_type": "markdown",
   "metadata": {},
   "source": [
    "Use the rotation vector for the third axis $ R_{c_{3}} $ from the notes."
   ]
  },
  {
   "cell_type": "markdown",
   "metadata": {},
   "source": [
    "Compute the transpose of $R_{c_{3}}$ and $v_{e}$ using Matlab's transpose() function and plug both values into the equation above. Solve using Matlab's mtimes() function."
   ]
  },
  {
   "attachments": {},
   "cell_type": "markdown",
   "metadata": {},
   "source": [
    "$$\n",
    "v_{c} = R_{c_{3}}^Tv_{e}^T = \\begin{bmatrix} \\cos{\\varphi} & \\sin{\\varphi} & 0 \\\\\n",
    "-\\sin{\\varphi} & \\cos{\\varphi} & 0 \\\\ 0 & 0 & 1 \\end{bmatrix} \\begin{bmatrix} 2 \\\\ 1 \\\\ -3 \\end{bmatrix}=\n",
    "$$"
   ]
  },
  {
   "attachments": {},
   "cell_type": "markdown",
   "metadata": {},
   "source": [
    "$$\n",
    "=\n",
    "\\begin{bmatrix} \\cos{20} & \\sin{20} & 0 \\\\\n",
    "-\\sin{20} & \\cos{20} & 0 \\\\ 0 & 0 & 1 \\end{bmatrix} \\begin{bmatrix} 2 \\\\ 1 \\\\ -3 \\end{bmatrix} =\n",
    "\\begin{bmatrix} 2\\cos(20^\\circ)+\\sin(20^\\circ) \\\\\n",
    "\\cos(20^\\circ)-2\\sin(20^\\circ) \\\\ -3 \\end{bmatrix}\n",
    "$$"
   ]
  },
  {
   "attachments": {},
   "cell_type": "markdown",
   "metadata": {},
   "source": [
    "$$\\fbox{$v_{c} = \\begin{bmatrix} 2.221 \\\\\n",
    "0.256 \\\\ -3 \\end{bmatrix}$}$$"
   ]
  },
  {
   "attachments": {},
   "cell_type": "markdown",
   "metadata": {},
   "source": [
    "### Part B\n",
    "![image.png](images/1.b.PNG)"
   ]
  },
  {
   "cell_type": "markdown",
   "metadata": {},
   "source": [
    "equation for length of a vector: $\\quad\n",
    "|v_{e/c}| = \\sqrt{v_{e_{1}/c_{1}}^2 + v_{e_{2}/c_{2}}^2 + v_{e_{3}/c_{3}}^2}\n",
    "$"
   ]
  },
  {
   "cell_type": "markdown",
   "metadata": {},
   "source": [
    "Plug in values and solve for the lengths."
   ]
  },
  {
   "cell_type": "markdown",
   "metadata": {},
   "source": [
    "$$ |v_{e}| = \\sqrt{2^2+1^2+(-3)^2} = \\sqrt{4+1+9} = \\sqrt{14} = 3.742 $$"
   ]
  },
  {
   "cell_type": "markdown",
   "metadata": {},
   "source": [
    "$$ |v_{c}| = \\sqrt{2.221^2+0.256^2+(-3)^2} = \\sqrt{4.933+0.0655+9} = \\sqrt{14} = 3.742 $$"
   ]
  },
  {
   "attachments": {},
   "cell_type": "markdown",
   "metadata": {},
   "source": [
    "$$\\fbox{$|v_{e}| = 3.742 = |v_{c}|$}$$"
   ]
  },
  {
   "attachments": {},
   "cell_type": "markdown",
   "metadata": {},
   "source": [
    "## Problem 2\n",
    "![image.png](images/problem2.PNG)"
   ]
  },
  {
   "attachments": {},
   "cell_type": "markdown",
   "metadata": {},
   "source": [
    "### Part A\n",
    "![image.png](images/2.a.png)"
   ]
  },
  {
   "cell_type": "markdown",
   "metadata": {},
   "source": [
    "$$\n",
    "A = \\begin{bmatrix} 2 & 7 & 3 \\\\ 7 & -1 & -3 \\\\ 3 & -3 & 5 \\end{bmatrix},\\quad[x_{\\gamma}, \\gamma] = eig(A)\n",
    "$$"
   ]
  },
  {
   "cell_type": "markdown",
   "metadata": {},
   "source": [
    "Create a vector for A in Matlab and use the eig() function definition above to return the eigenvectors and values as two matrices."
   ]
  },
  {
   "cell_type": "markdown",
   "metadata": {},
   "source": [
    "$$\n",
    "x_{\\gamma} = \\begin{bmatrix} 0.6048 & -0.0357 & -0.7955\\\\\n",
    "-0.7342 & -0.4119 & -0.5397 \\\\ -0.3084 & 0.9105 & -0.2753 \\end{bmatrix},\\quad \\gamma=\\begin{bmatrix} -8.0267 & 0 & 0\\\\\n",
    "0 & 6.2393 & 0 \\\\ 0 & 0 & 7.7874 \\end{bmatrix}\n",
    "$$"
   ]
  },
  {
   "cell_type": "markdown",
   "metadata": {},
   "source": [
    "The eigenvectors in $x_{\\gamma}$ are each in their own column. The eigenvalues in $\\gamma$ are found along the diagonals. The first column corresponds to the first vector and value... and so on. Split them up into their individual forms."
   ]
  },
  {
   "attachments": {},
   "cell_type": "markdown",
   "metadata": {},
   "source": [
    "$$\n",
    "\\fbox{$x_{\\gamma_{1}}=\\begin{bmatrix} 0.6048 & -0.7342 & -0.3084 \\end{bmatrix}$},\\quad\n",
    "\\fbox{$x_{\\gamma_{2}}=\\begin{bmatrix} -0.0357 & -0.4119 & 0.9105 \\end{bmatrix}$},\\\\\n",
    "\\fbox{$x_{\\gamma_{3}}=\\begin{bmatrix} -0.7955 & -0.5397 & -0.2753 \\end{bmatrix}$}\n",
    "$$"
   ]
  },
  {
   "attachments": {},
   "cell_type": "markdown",
   "metadata": {},
   "source": [
    "$$\n",
    "\\fbox{$\\gamma_{1} = -8.0267, \\quad\\gamma_{2} = 6.2393, \\quad\\gamma_{3} = 7.7874$}\n",
    "$$"
   ]
  },
  {
   "attachments": {},
   "cell_type": "markdown",
   "metadata": {},
   "source": [
    "### Part B\n",
    "![image.png](images/2.b.png)"
   ]
  },
  {
   "cell_type": "markdown",
   "metadata": {},
   "source": [
    "Arbitrarily select 2 eigenvectors."
   ]
  },
  {
   "cell_type": "markdown",
   "metadata": {},
   "source": [
    "$$\n",
    "x_{\\gamma_{2}}=\\begin{bmatrix} -0.0357 & -0.4119 & 0.9105 \\end{bmatrix},\\quad\n",
    "x_{\\gamma_{3}}=\\begin{bmatrix} -0.7955 & -0.5397 & -0.2753 \\end{bmatrix}\n",
    "$$"
   ]
  },
  {
   "cell_type": "markdown",
   "metadata": {},
   "source": [
    "Rearrange the dot product equation to solve for $\\theta$, the angle between the vectors."
   ]
  },
  {
   "cell_type": "markdown",
   "metadata": {},
   "source": [
    "$$\n",
    "x_{\\gamma_{2}}*x_{\\gamma_{3}} = |x_{\\gamma_{2}}||x_{\\gamma_{3}}|\\cos{\\theta},\\quad\n",
    "\\theta = \\arccos{\\frac{x_{\\gamma_{2}}*x_{\\gamma_{3}}}{|x_{\\gamma_{2}}||x_{\\gamma_{3}}|}}\n",
    "$$"
   ]
  },
  {
   "cell_type": "markdown",
   "metadata": {},
   "source": [
    "Use Matlab's norm() function to compute the lengths of the eigenvectors."
   ]
  },
  {
   "cell_type": "markdown",
   "metadata": {},
   "source": [
    "$$\n",
    "|x_{\\gamma_{2}}| = norm(x_{\\gamma_{2}}) = 1,\\quad |x_{\\gamma_{3}}| = norm(x_{\\gamma_{3}}) = 0.9999\n",
    "$$"
   ]
  },
  {
   "cell_type": "markdown",
   "metadata": {},
   "source": [
    "Use Matlab's dot() function to compute the dot product of the eigenvectors."
   ]
  },
  {
   "cell_type": "markdown",
   "metadata": {},
   "source": [
    "$$\n",
    "x_{\\gamma_{2}}*x_{\\gamma_{3}} = dot(x_{\\gamma_{2}},x_{\\gamma_{3}}) = 0\n",
    "$$"
   ]
  },
  {
   "cell_type": "markdown",
   "metadata": {},
   "source": [
    "Plug the dot product and the lengths into the rearranged dot product equation to find $\\theta$."
   ]
  },
  {
   "cell_type": "markdown",
   "metadata": {},
   "source": [
    "$$\n",
    "\\theta = \\arccos{\\frac{0}{0.9999}} = \\arccos{0}\n",
    "$$"
   ]
  },
  {
   "attachments": {},
   "cell_type": "markdown",
   "metadata": {},
   "source": [
    "$$\n",
    "\\fbox{$\\theta = 90^\\circ$}\n",
    "$$"
   ]
  },
  {
   "cell_type": "markdown",
   "metadata": {},
   "source": [
    "$\\theta$ is $90^\\circ$ meaning that the eigenvectors are orthogonal."
   ]
  },
  {
   "attachments": {},
   "cell_type": "markdown",
   "metadata": {},
   "source": [
    "### Part C\n",
    "![image.png](images/2.c.png)"
   ]
  },
  {
   "cell_type": "markdown",
   "metadata": {},
   "source": [
    "To find the expression of a matrix in a new reference frame we need to compute the rotation vector. The rotation vector R is found by multiplying the eigenvectors by the vectors of the original reference frame e. This was computed using matlab to give the rotation vector R. Then we compute its transpose. By using the first equation shown below, we can calculate the new matrix A' by multiplying the transpose of R by A and then that result by R using Matlab's mtimes() command."
   ]
  },
  {
   "cell_type": "markdown",
   "metadata": {},
   "source": [
    "equation for the expression of a matrix in a new reference frame: $\\quad A' = R^T AR$"
   ]
  },
  {
   "cell_type": "markdown",
   "metadata": {},
   "source": [
    "$$\n",
    "R = \\begin{bmatrix} x_{\\gamma_{1}}*\\hat e_{1} & x_{\\gamma_{2}}*\\hat e_{1} & x_{\\gamma_{3}}*\\hat e_{1} \\\\\n",
    "x_{\\gamma_{1}}*\\hat e_{2} & x_{\\gamma_{2}}*\\hat e_{2} & x_{\\gamma_{3}}*\\hat e_{2} \\\\\n",
    "x_{\\gamma_{1}}*\\hat e_{3} & x_{\\gamma_{2}}*\\hat e_{3} & x_{\\gamma_{3}}*\\hat e_{3}\n",
    "\\end{bmatrix}\n",
    ",\\quad \\hat e_{1} = \\begin{bmatrix} 1 \\\\ 0 \\\\ 0 \\end{bmatrix}\n",
    ",\\quad \\hat e_{2} = \\begin{bmatrix} 0 \\\\ 1 \\\\ 0 \\end{bmatrix}\n",
    ",\\quad \\hat e_{3} = \\begin{bmatrix} 0 \\\\ 0 \\\\ 1 \\end{bmatrix}\n",
    "$$"
   ]
  },
  {
   "cell_type": "markdown",
   "metadata": {},
   "source": [
    "The rotation matrix R is given above, as well as the original reference frame unit vectors $\\hat e_{1}, \\hat e_{2}$, and $\\hat e_{3}$."
   ]
  },
  {
   "cell_type": "markdown",
   "metadata": {},
   "source": [
    "Using the Matlab function mtimes() for each index of the matrix R gives us the rotational matrix R. Its transpose is also calculated using Matlab's transpose() function."
   ]
  },
  {
   "cell_type": "markdown",
   "metadata": {},
   "source": [
    "$$\n",
    "R = \\begin{bmatrix} 0.6048 & -0.0357 & -0.7955\\\\\n",
    "-0.7342 & -0.4119 & -0.5397 \\\\ -0.3084 & 0.9105 & -0.2753 \\end{bmatrix}, \\quad R^T=\n",
    "\\begin{bmatrix} 0.6048 & -0.7342 & -0.3084\\\\\n",
    "-0.0357 & -0.4119 & 0.9105 \\\\ -0.7955 & -0.5397 & -0.2753 \\end{bmatrix}\n",
    "$$"
   ]
  },
  {
   "cell_type": "markdown",
   "metadata": {},
   "source": [
    "Plug R, $R^T$, and A into the A' equation."
   ]
  },
  {
   "cell_type": "markdown",
   "metadata": {},
   "source": [
    "$$\n",
    "A'= \\begin{bmatrix} 0.6048 & -0.7342 & -0.3084\\\\\n",
    "-0.0357 & -0.4119 & 0.9105 \\\\ -0.7955 & -0.5397 & -0.2753 \\end{bmatrix}\n",
    "\\begin{bmatrix} 2 & 7 & 3 \\\\ 7 & -1 & -3 \\\\ 3 & -3 & 5 \\end{bmatrix}\n",
    "\\begin{bmatrix} 0.6048 & -0.0357 & -0.7955\\\\\n",
    "-0.7342 & -0.4119 & -0.5397 \\\\ -0.3084 & 0.9105 & -0.2753 \\end{bmatrix}\n",
    "$$"
   ]
  },
  {
   "cell_type": "markdown",
   "metadata": {},
   "source": [
    "Solve using Matlab's mtimes() function. First do mtimes($R^T$,A) and then mtimes() with the resultant of the previous operation and R."
   ]
  },
  {
   "attachments": {},
   "cell_type": "markdown",
   "metadata": {},
   "source": [
    "$$\n",
    "\\fbox{$A' = \\begin{bmatrix} -8.0262 & 0 & 0 \\\\ 0 & 6.2390 & 0 \\\\ 0 & 0 & 7.7865 \\end{bmatrix}$}\n",
    "$$"
   ]
  },
  {
   "attachments": {},
   "cell_type": "markdown",
   "metadata": {},
   "source": [
    "### Part D\n",
    "![image.png](images/2.d.png)"
   ]
  },
  {
   "cell_type": "markdown",
   "metadata": {},
   "source": [
    "A in the reference form of the eigenvectors takes the same form as the matrix defining the eigenvalues. It is a diagonal matrix with the eigenvalues along the diagonal."
   ]
  },
  {
   "attachments": {},
   "cell_type": "markdown",
   "metadata": {},
   "source": [
    "## Problem 3\n",
    "![image.png](images/problem3.PNG)"
   ]
  },
  {
   "cell_type": "markdown",
   "metadata": {},
   "source": [
    "Define the force in the y direction as a surface integral using polar coordinates. We know that pressure is force per area, so force is pressure times area. This allows us to set up and integral describing the force as a function of pressure, radius, and width t."
   ]
  },
  {
   "cell_type": "markdown",
   "metadata": {},
   "source": [
    "Pressure will be uniform across the surface. Since the force will be the area times the pressure, we can keep the pressure term outside of the integral as it is a scalar. t can also be outside of the integral as it is constant. We integrate from 0 to R and from $\\alpha$ to $-\\alpha$ to cover the entire arc length of the circle. The angle integral is of $\\cos{\\theta}$ so that we capture the y component of the force."
   ]
  },
  {
   "cell_type": "markdown",
   "metadata": {},
   "source": [
    "$$\n",
    "F_{y} = Pt \\int_{0}^{R}dr \\int_{\\alpha}^{-\\alpha} \\cos{\\theta} d\\theta\n",
    "$$"
   ]
  },
  {
   "cell_type": "markdown",
   "metadata": {},
   "source": [
    "Integrate each term and solve."
   ]
  },
  {
   "attachments": {},
   "cell_type": "markdown",
   "metadata": {},
   "source": [
    "$$\n",
    "F_{y} = Pt[r]_{0}^{R}[\\sin{\\theta}]_{\\alpha}^{-\\alpha} = PtR(\\sin{(-\\alpha)}-\\sin{(\\alpha)}) =\\\\PtR(-\\sin{(\\alpha)}-\\sin{(\\alpha)}) = PtR(-2\\sin{\\alpha})\n",
    "$$"
   ]
  },
  {
   "attachments": {},
   "cell_type": "markdown",
   "metadata": {},
   "source": [
    "$$\n",
    "\\fbox{$F_{y}=-2PRt\\sin{\\alpha}$}\n",
    "$$"
   ]
  },
  {
   "cell_type": "markdown",
   "metadata": {},
   "source": [
    "To find the z component, we simply switch the $\\cos{\\theta}$ for a $\\sin{\\theta}$ to reference the z component instead of the y."
   ]
  },
  {
   "cell_type": "markdown",
   "metadata": {},
   "source": [
    "$$\n",
    "F_{z} = Pt \\int_{0}^{R}dr \\int_{\\alpha}^{-\\alpha} \\sin{\\theta} d\\theta\n",
    "$$"
   ]
  },
  {
   "cell_type": "markdown",
   "metadata": {},
   "source": [
    "Integrate each term and solve."
   ]
  },
  {
   "attachments": {},
   "cell_type": "markdown",
   "metadata": {},
   "source": [
    "$$\n",
    "F_{z} = Pt[r]_{0}^{R}[-\\cos{\\theta}]_{\\alpha}^{-\\alpha} = PtR(-\\cos{(-\\alpha)}+\\cos{(\\alpha)}) = \\\\PtR(-\\cos{(\\alpha)}+\\cos{(\\alpha)}) = PtR(0)\n",
    "$$"
   ]
  },
  {
   "attachments": {},
   "cell_type": "markdown",
   "metadata": {},
   "source": [
    "$$\n",
    "\\fbox{$F_{z}=0$}\n",
    "$$"
   ]
  }
 ],
 "metadata": {
  "kernelspec": {
   "display_name": "Python 3 (ipykernel)",
   "language": "python",
   "name": "python3"
  },
  "language_info": {
   "codemirror_mode": {
    "name": "ipython",
    "version": 3
   },
   "file_extension": ".py",
   "mimetype": "text/x-python",
   "name": "python",
   "nbconvert_exporter": "python",
   "pygments_lexer": "ipython3",
   "version": "3.9.12"
  }
 },
 "nbformat": 4,
 "nbformat_minor": 2
}
