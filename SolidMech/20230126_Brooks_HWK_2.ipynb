{
 "cells": [
  {
   "attachments": {},
   "cell_type": "markdown",
   "metadata": {},
   "source": [
    "# AEEM 3062\n",
    "# HOMEWORK # 2\n",
    "# 2022-2023 SPRING\n",
    "### Name: Slade Brooks\n",
    "### M#: 13801712\t\n",
    "### DUE: 11.59 PM on 1/26/2023\n"
   ]
  }
 ],
 "metadata": {
  "language_info": {
   "name": "python"
  },
  "orig_nbformat": 4
 },
 "nbformat": 4,
 "nbformat_minor": 2
}
