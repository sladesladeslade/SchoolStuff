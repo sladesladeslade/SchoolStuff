{
 "cells": [
  {
   "cell_type": "code",
   "execution_count": 17,
   "metadata": {},
   "outputs": [],
   "source": [
    "import numpy as np\n",
    "import matplotlib.pyplot as plt\n",
    "import sys\n",
    "sys.path.append(\"../../aeroComputing/lib/\")\n",
    "import pyvot"
   ]
  },
  {
   "cell_type": "code",
   "execution_count": 18,
   "metadata": {},
   "outputs": [],
   "source": [
    "# set up knowns\n",
    "Mi = 0.3\n",
    "po = 1400000\n",
    "pe = 100000\n",
    "y = 1.4\n",
    "R = 287\n",
    "mdot = 3\n",
    "To = 200+273.15"
   ]
  },
  {
   "cell_type": "code",
   "execution_count": 19,
   "metadata": {},
   "outputs": [],
   "source": [
    "# get inlet static pressure\n",
    "pi = po/(1+(y-1)/2*Mi**2)**(y/(y-1))\n",
    "\n",
    "# get throat static pressure\n",
    "pstar = po*(2/(y+1))**(y/(y-1))\n",
    "\n",
    "# set up two ranges of vals\n",
    "p1s = np.arange(pi, pstar, 50000)       # from inlet to throat\n",
    "p2s = np.arange(pstar, pe, 50000)       # from throat to exit"
   ]
  },
  {
   "cell_type": "code",
   "execution_count": 20,
   "metadata": {},
   "outputs": [],
   "source": [
    "# get Astar\n",
    "Astar = mdot/((po/np.sqrt(R*To))*np.sqrt(y)*(1+(y-1)/2)**((y+1)/(2*(1-y))))"
   ]
  }
 ],
 "metadata": {
  "kernelspec": {
   "display_name": "Python 3",
   "language": "python",
   "name": "python3"
  },
  "language_info": {
   "codemirror_mode": {
    "name": "ipython",
    "version": 3
   },
   "file_extension": ".py",
   "mimetype": "text/x-python",
   "name": "python",
   "nbconvert_exporter": "python",
   "pygments_lexer": "ipython3",
   "version": "3.9.15"
  },
  "orig_nbformat": 4
 },
 "nbformat": 4,
 "nbformat_minor": 2
}
