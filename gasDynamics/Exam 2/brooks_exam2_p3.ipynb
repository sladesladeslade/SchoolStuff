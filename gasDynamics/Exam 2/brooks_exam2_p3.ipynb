{
 "cells": [
  {
   "cell_type": "code",
   "execution_count": 64,
   "metadata": {},
   "outputs": [],
   "source": [
    "import numpy as np\n",
    "import matplotlib.pyplot as plt\n",
    "import sys\n",
    "sys.path.append(\"../../aeroComputing/lib/\")\n",
    "import pyvot"
   ]
  },
  {
   "cell_type": "code",
   "execution_count": 65,
   "metadata": {},
   "outputs": [],
   "source": [
    "# set up knowns\n",
    "Mi = 0\n",
    "po = 1400000\n",
    "pe = 100000\n",
    "y = 1.4\n",
    "R = 287\n",
    "mdot = 3\n",
    "To = 200+273.15"
   ]
  },
  {
   "cell_type": "code",
   "execution_count": 66,
   "metadata": {},
   "outputs": [],
   "source": [
    "# get inlet static pressure\n",
    "pi = po/(1+(y-1)/2*Mi**2)**(y/(y-1))\n",
    "\n",
    "# get throat static pressure\n",
    "pstar = po*(2/(y+1))**(y/(y-1))\n",
    "\n",
    "# set up range of vals\n",
    "p1s = np.arange(pi, pe, -50000)"
   ]
  },
  {
   "cell_type": "code",
   "execution_count": 67,
   "metadata": {},
   "outputs": [],
   "source": [
    "# get Astar\n",
    "Astar = mdot/((po/np.sqrt(R*To))*np.sqrt(y)*(1+(y-1)/2)**((y+1)/(2*(1-y))))"
   ]
  },
  {
   "cell_type": "code",
   "execution_count": 68,
   "metadata": {},
   "outputs": [
    {
     "name": "stdout",
     "output_type": "stream",
     "text": [
      "Too many iterations in Newton-Raphson\n",
      "Too many iterations in Newton-Raphson\n",
      "Too many iterations in Newton-Raphson\n",
      "Too many iterations in Newton-Raphson\n",
      "Too many iterations in Newton-Raphson\n",
      "Too many iterations in Newton-Raphson\n"
     ]
    }
   ],
   "source": [
    "# use newton raphson to find roots of equation\n",
    "def findRoots(prat, rootlevel):\n",
    "    def f(x): return (1+(y-1)/2*x**2)**(y/(y-1)) - prat\n",
    "    def df(x): return y*(x**(y-1))*np.sqrt((y-1)/2*x**2 + 1)\n",
    "    # get range of roots - only supersonic answers\n",
    "    a, b = pyvot.rootsearch(f, rootlevel, 10, 0.1)\n",
    "    # get soltn\n",
    "    return pyvot.newtonRaphson(f, df, a, b)\n",
    "\n",
    "# get prat at each point\n",
    "prat = [po/p1 for p1 in p1s]\n",
    "\n",
    "# get mach at each point along pressure range\n",
    "Ms = [findRoots(pra, 0) if pra<pstar else findRoots(pra, 1) for pra in prat]"
   ]
  }
 ],
 "metadata": {
  "kernelspec": {
   "display_name": "Python 3",
   "language": "python",
   "name": "python3"
  },
  "language_info": {
   "codemirror_mode": {
    "name": "ipython",
    "version": 3
   },
   "file_extension": ".py",
   "mimetype": "text/x-python",
   "name": "python",
   "nbconvert_exporter": "python",
   "pygments_lexer": "ipython3",
   "version": "3.9.15"
  },
  "orig_nbformat": 4
 },
 "nbformat": 4,
 "nbformat_minor": 2
}
