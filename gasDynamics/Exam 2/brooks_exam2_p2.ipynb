{
 "cells": [
  {
   "cell_type": "code",
   "execution_count": 3,
   "metadata": {},
   "outputs": [],
   "source": [
    "import numpy as np\n",
    "import matplotlib.pyplot as plt\n",
    "import sys\n",
    "sys.path.append(\"../../aeroComputing/lib/\")\n",
    "import pyvot"
   ]
  },
  {
   "cell_type": "code",
   "execution_count": 7,
   "metadata": {},
   "outputs": [],
   "source": [
    "# set up ARs to test and known vals\n",
    "ARs = np.arange(1.5, 4.75, 0.25)\n",
    "Mi = 2.8\n",
    "pi = 130000\n",
    "Ti = 320\n",
    "y = 1.4\n",
    "\n",
    "# find known inlet AR\n",
    "ARi = (1/Mi)*((1+(y-1)/2*Mi**2)/((y+1)/2))**((y+1)/(2*(y-1)))"
   ]
  },
  {
   "cell_type": "code",
   "execution_count": 15,
   "metadata": {},
   "outputs": [],
   "source": [
    "# calculate each area ratio for M1\n",
    "ARM1s = [ar*ARi for ar in ARs]\n",
    "\n",
    "# use newton raphson to find roots of equation\n",
    "def findRoots(arm1):\n",
    "    def f(x): return (1/x)*((1+(y-1)/2*x**2)/((y+1)/2))**((y+1)/(2*(y-1))) - arm1\n",
    "    def df(x): return \n",
    "    # get range of roots\n",
    "    a, b = pyvot.rootsearch(f, 0.01, 10, 0.1)\n",
    "    # get soltn\n",
    "    return np.amax(pyvot.newtonRaphson(f, df, a, b))\n",
    "\n",
    "# get supersonic solution for each M1"
   ]
  }
 ],
 "metadata": {
  "kernelspec": {
   "display_name": "Python 3",
   "language": "python",
   "name": "python3"
  },
  "language_info": {
   "codemirror_mode": {
    "name": "ipython",
    "version": 3
   },
   "file_extension": ".py",
   "mimetype": "text/x-python",
   "name": "python",
   "nbconvert_exporter": "python",
   "pygments_lexer": "ipython3",
   "version": "3.9.15"
  },
  "orig_nbformat": 4
 },
 "nbformat": 4,
 "nbformat_minor": 2
}
