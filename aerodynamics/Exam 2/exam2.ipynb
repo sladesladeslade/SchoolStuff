{
 "cells": [
  {
   "attachments": {},
   "cell_type": "markdown",
   "metadata": {},
   "source": [
    "# Slade Brooks\n",
    "# M13801712\n",
    "# Exam 2"
   ]
  },
  {
   "cell_type": "code",
   "execution_count": 16,
   "metadata": {},
   "outputs": [],
   "source": [
    "import numpy as np\n",
    "import sys\n",
    "sys.path.append(\"../HW6/\")\n",
    "import PLLT_LiftDistribution as PLLT"
   ]
  },
  {
   "attachments": {},
   "cell_type": "markdown",
   "metadata": {},
   "source": [
    "# Q1"
   ]
  },
  {
   "attachments": {},
   "cell_type": "markdown",
   "metadata": {},
   "source": [
    "# Q2"
   ]
  },
  {
   "attachments": {},
   "cell_type": "markdown",
   "metadata": {},
   "source": [
    "## Part 1"
   ]
  },
  {
   "cell_type": "code",
   "execution_count": 17,
   "metadata": {},
   "outputs": [],
   "source": [
    "# define airfoil\n",
    "airfoil = \"4412\"\n",
    "\n",
    "# set the aoa to study\n",
    "aoa = 5\n",
    "\n",
    "# set span and chord\n",
    "b = 1\n",
    "c = 1\n",
    "\n",
    "# set free stream velocity\n",
    "vinf = 10"
   ]
  },
  {
   "cell_type": "code",
   "execution_count": 18,
   "metadata": {},
   "outputs": [],
   "source": [
    "# determine the zero lift aoa using TAFT\n",
    "a0 = np.degrees(PLLT.TAFT(airfoil)[0])"
   ]
  },
  {
   "cell_type": "code",
   "execution_count": 19,
   "metadata": {},
   "outputs": [
    {
     "name": "stdout",
     "output_type": "stream",
     "text": [
      "The CL from PLLT of a NACA4412 @ aoa=5 deg is 0.26775.\n"
     ]
    }
   ],
   "source": [
    "# use PLLT to compute CL\n",
    "PlltCL = PLLT.LiftDistribution(aoa, a0, b, c, vinf, b)[2]\n",
    "\n",
    "print(\"The CL from PLLT of a NACA4412 @ aoa=5 deg is {0}.\".format(PlltCL.round(5)))"
   ]
  },
  {
   "attachments": {},
   "cell_type": "markdown",
   "metadata": {},
   "source": [
    "## Part 2"
   ]
  },
  {
   "cell_type": "code",
   "execution_count": 22,
   "metadata": {},
   "outputs": [
    {
     "name": "stdout",
     "output_type": "stream",
     "text": [
      "The CL from TAFT of a NACA4412 @ aoa=5 deg is 1.00390.\n"
     ]
    }
   ],
   "source": [
    "# compute the Cl for the airfoil with TAFT\n",
    "TaftCL = PLLT.TAFT(airfoil)[1](np.radians(aoa))\n",
    "\n",
    "print(\"The CL from TAFT of a NACA4412 @ aoa=5 deg is {0:.5f}.\".format(TaftCL))"
   ]
  },
  {
   "attachments": {},
   "cell_type": "markdown",
   "metadata": {},
   "source": [
    "We can see that TAFT estimates a CL of 1 while PLLT estimates 0.27 for a 1m span wing. This makes sense as TAFT assumes an infinite wing and does not take into effect the losses that a real wing has due to downwash. The TAFT result is accurate as we can see on airfoiltools that the 4412 has a CL of 1 at aoa=5 degrees."
   ]
  },
  {
   "attachments": {},
   "cell_type": "markdown",
   "metadata": {},
   "source": [
    "## Part 3"
   ]
  },
  {
   "cell_type": "code",
   "execution_count": 23,
   "metadata": {},
   "outputs": [
    {
     "name": "stdout",
     "output_type": "stream",
     "text": [
      "The CDi from PLLT of a NACA4412 @ aoa=5 deg is 0.03402.\n"
     ]
    }
   ],
   "source": [
    "# compute the CDi with PLLT\n",
    "CDi = PLLT.LiftDistribution(aoa, a0, b, c, vinf, b)[4]\n",
    "\n",
    "print(\"The CDi from PLLT of a NACA4412 @ aoa=5 deg is {0}.\".format(CDi.round(5)))"
   ]
  },
  {
   "attachments": {},
   "cell_type": "markdown",
   "metadata": {},
   "source": [
    "# Q3"
   ]
  }
 ],
 "metadata": {
  "kernelspec": {
   "display_name": "Python 3",
   "language": "python",
   "name": "python3"
  },
  "language_info": {
   "codemirror_mode": {
    "name": "ipython",
    "version": 3
   },
   "file_extension": ".py",
   "mimetype": "text/x-python",
   "name": "python",
   "nbconvert_exporter": "python",
   "pygments_lexer": "ipython3",
   "version": "3.9.15"
  },
  "orig_nbformat": 4
 },
 "nbformat": 4,
 "nbformat_minor": 2
}
