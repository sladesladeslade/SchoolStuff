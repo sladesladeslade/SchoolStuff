{
 "cells": [
  {
   "attachments": {},
   "cell_type": "markdown",
   "metadata": {},
   "source": [
    "# Slade Brooks\n",
    "# M13801712\n",
    "# Exam 2"
   ]
  },
  {
   "cell_type": "code",
   "execution_count": 47,
   "metadata": {},
   "outputs": [],
   "source": [
    "import numpy as np\n",
    "import sys\n",
    "sys.path.append(\"../HW6/\")\n",
    "import PLLT_LiftDistribution as PLLT"
   ]
  },
  {
   "attachments": {},
   "cell_type": "markdown",
   "metadata": {},
   "source": [
    "# Q1"
   ]
  },
  {
   "attachments": {},
   "cell_type": "markdown",
   "metadata": {},
   "source": [
    "# Q2"
   ]
  },
  {
   "attachments": {},
   "cell_type": "markdown",
   "metadata": {},
   "source": [
    "## Part 1"
   ]
  },
  {
   "cell_type": "code",
   "execution_count": 48,
   "metadata": {},
   "outputs": [],
   "source": [
    "# define airfoil\n",
    "airfoil = \"4412\"\n",
    "\n",
    "# set the aoa to study\n",
    "aoa = 5\n",
    "\n",
    "# set span and chord\n",
    "b = 5\n",
    "c = 1\n",
    "\n",
    "# set free stream velocity\n",
    "vinf = 10"
   ]
  },
  {
   "cell_type": "code",
   "execution_count": 49,
   "metadata": {},
   "outputs": [],
   "source": [
    "# determine the zero lift aoa using TAFT\n",
    "a0 = np.degrees(PLLT.TAFT(airfoil)[0])"
   ]
  },
  {
   "cell_type": "code",
   "execution_count": 50,
   "metadata": {},
   "outputs": [
    {
     "name": "stdout",
     "output_type": "stream",
     "text": [
      "The CL from PLLT and TAFT of a NACA4412 @ aoa=5 deg is 0.58209.\n"
     ]
    }
   ],
   "source": [
    "# use PLLT to compute CL\n",
    "PlltCL = PLLT.LiftDistribution(aoa, a0, b, c, vinf, b)[2]\n",
    "\n",
    "print(\"The CL from PLLT and TAFT of a NACA4412 @ aoa=5 deg is {0}.\".format(PlltCL.round(5)))"
   ]
  },
  {
   "cell_type": "code",
   "execution_count": 51,
   "metadata": {},
   "outputs": [
    {
     "name": "stdout",
     "output_type": "stream",
     "text": [
      "The CL from PLLT and data of a NACA4412 @ aoa=5 deg is 0.57227.\n"
     ]
    }
   ],
   "source": [
    "# verify results\n",
    "PlltCL2 = PLLT.LiftDistribution(aoa, -4, b, c, vinf, b)[2]\n",
    "\n",
    "print(\"The CL from PLLT and data of a NACA4412 @ aoa=5 deg is {0}.\".format(PlltCL2.round(5)))"
   ]
  },
  {
   "attachments": {},
   "cell_type": "markdown",
   "metadata": {},
   "source": [
    "I verified my PLLT calculation using data from airfoiltools. We can see on airfoil tools the zero lift aoa is around -4 degrees (where CL=0 on the CL vs alpha chart) and performing the PLLT calculations with that value instead of the TAFT one gives almost identical results for CL."
   ]
  },
  {
   "attachments": {},
   "cell_type": "markdown",
   "metadata": {},
   "source": [
    "## Part 2"
   ]
  },
  {
   "cell_type": "code",
   "execution_count": 52,
   "metadata": {},
   "outputs": [
    {
     "name": "stdout",
     "output_type": "stream",
     "text": [
      "The CL from TAFT of a NACA4412 @ aoa=5 deg is 1.00390.\n"
     ]
    }
   ],
   "source": [
    "# compute the Cl for the airfoil with TAFT\n",
    "TaftCL = PLLT.TAFT(airfoil)[1](np.radians(aoa))\n",
    "\n",
    "print(\"The CL from TAFT of a NACA4412 @ aoa=5 deg is {0:.5f}.\".format(TaftCL))"
   ]
  },
  {
   "attachments": {},
   "cell_type": "markdown",
   "metadata": {},
   "source": [
    "We can see that TAFT estimates a CL of 1 while PLLT estimates ~0.58 for a 5m span wing. This makes sense as TAFT assumes an infinite wing and does not take into effect the losses that a real wing has due to downwash. The TAFT result is accurate as we can see on airfoiltools that the 4412 has a CL of 1 at aoa=5 degrees."
   ]
  },
  {
   "attachments": {},
   "cell_type": "markdown",
   "metadata": {},
   "source": [
    "## Part 3"
   ]
  },
  {
   "cell_type": "code",
   "execution_count": 53,
   "metadata": {},
   "outputs": [
    {
     "name": "stdout",
     "output_type": "stream",
     "text": [
      "The CDi from PLLT of a NACA4412 @ aoa=5 deg is 0.03103.\n"
     ]
    }
   ],
   "source": [
    "# compute the CDi with PLLT\n",
    "CDi = PLLT.LiftDistribution(aoa, a0, b, c, vinf, b)[4]\n",
    "\n",
    "print(\"The CDi from PLLT of a NACA4412 @ aoa=5 deg is {0}.\".format(CDi.round(5)))"
   ]
  },
  {
   "attachments": {},
   "cell_type": "markdown",
   "metadata": {},
   "source": [
    "# Q3"
   ]
  },
  {
   "attachments": {},
   "cell_type": "markdown",
   "metadata": {},
   "source": [
    "## Part 1"
   ]
  },
  {
   "attachments": {},
   "cell_type": "markdown",
   "metadata": {},
   "source": [
    "As thickness increases, CL and CD increase and CM decreases. This can be seen in a series of symmetric airfoils with increasing thickness."
   ]
  },
  {
   "attachments": {},
   "cell_type": "markdown",
   "metadata": {},
   "source": [
    "| Airfoil | CL       | CD      | CM       |\n",
    "|---------|----------|---------|----------|\n",
    "| 0006    | 0.29776  | 0.00984 | -0.06681 |\n",
    "| 0008    | 0.31885  | 0.00922 | -0.0783  |\n",
    "| 0012    | 0.363843 | 0.0113  | -0.0586  |"
   ]
  },
  {
   "attachments": {},
   "cell_type": "markdown",
   "metadata": {},
   "source": [
    "This data comes from the airfoils at 3 degrees aoa @ Re=3e6 (from Ben, Kevin, and Brandon)."
   ]
  },
  {
   "attachments": {},
   "cell_type": "markdown",
   "metadata": {},
   "source": [
    "We can see that as thickness increases, the CL increases. The CD also increases with an increase in thickness. This makes sense as having a larger body in the flow increases wetted area and frontal area, which both should lead to higher drag. We also see that the CM goes down as thickness increases. This could be because the airfoil is getting thicker its moment of inertia increases and therefore the amount of lift it's generating would produce a smaller moment."
   ]
  },
  {
   "attachments": {},
   "cell_type": "markdown",
   "metadata": {},
   "source": [
    "These effects are supported by the data above, which shows a trend upwards in CL and CD and downwards in CM as the thickness increases."
   ]
  },
  {
   "attachments": {},
   "cell_type": "markdown",
   "metadata": {},
   "source": [
    "## Part 2"
   ]
  },
  {
   "attachments": {},
   "cell_type": "markdown",
   "metadata": {},
   "source": [
    "As camber increases, CL, CD, and CM all increase. This can be seen in a series of increasing camber airfoils."
   ]
  },
  {
   "attachments": {},
   "cell_type": "markdown",
   "metadata": {},
   "source": [
    "| Airfoil | CL       | CD       | CM        |\n",
    "|---------|----------|----------|-----------|\n",
    "| 2412    | 0.401513 | 0.019082 | -0.143194 |\n",
    "| 4412    | 0.5656   | 0.02265  | -0.263941 |\n",
    "| 6412    | 0.8813   | 0.0217   | -0.3695   |\n",
    "| 8412    | 1.025    | 0.03017  | -0.4377   |"
   ]
  },
  {
   "attachments": {},
   "cell_type": "markdown",
   "metadata": {},
   "source": [
    "This data comes from the airfoils at 2 degrees aoa @ Re=100k (from Matt, Jordan, Marek, and me)."
   ]
  },
  {
   "attachments": {},
   "cell_type": "markdown",
   "metadata": {},
   "source": [
    "We can see that as camber increases, CL increases. This makes sense as cambering an airfoil makes it generate the same lift at a lower angle of attack, so increasing camber at the same angle of attack would show airfoils generating more lift. CD also increases with increasing camber. This could be similar to the increase of thickness because of increased wetted area or frontal area, but also cambered airfoils tend to have odd pressure interactions and vortices that would also increase the drag and increasing camber exacerbates this effect. Finally, CM increases with increased camber (opposite to thickness). This makes sense as when increasing thickness, the airfoils are increasing their moment of intertia. However, for increasing camber the moment of inertia should stay relatively similar. Also, an increase in camber leads to a larger increase in lift than an increase in thickness does (both with a relatively small increase in CD), so not increasing the moment of intertia means CM must increase as well."
   ]
  },
  {
   "attachments": {},
   "cell_type": "markdown",
   "metadata": {},
   "source": [
    "These effects are supported by the data above, which shows a trend upwards in CL, CD, and CM as the camber increases."
   ]
  }
 ],
 "metadata": {
  "kernelspec": {
   "display_name": "Python 3",
   "language": "python",
   "name": "python3"
  },
  "language_info": {
   "codemirror_mode": {
    "name": "ipython",
    "version": 3
   },
   "file_extension": ".py",
   "mimetype": "text/x-python",
   "name": "python",
   "nbconvert_exporter": "python",
   "pygments_lexer": "ipython3",
   "version": "3.9.15"
  },
  "orig_nbformat": 4
 },
 "nbformat": 4,
 "nbformat_minor": 2
}
