{
 "cells": [
  {
   "attachments": {},
   "cell_type": "markdown",
   "metadata": {},
   "source": [
    "# Slade Brooks\n",
    "# M13801712\n",
    "# Final Exam"
   ]
  },
  {
   "cell_type": "code",
   "execution_count": 1,
   "metadata": {},
   "outputs": [],
   "source": [
    "import numpy as np\n",
    "import sys\n",
    "import matplotlib.pyplot as plt\n",
    "sys.path.append(\"../HW6/\")\n",
    "import PLLT_LiftDistribution as PLLT"
   ]
  },
  {
   "attachments": {},
   "cell_type": "markdown",
   "metadata": {},
   "source": [
    "# Problem 1"
   ]
  },
  {
   "attachments": {},
   "cell_type": "markdown",
   "metadata": {},
   "source": [
    "## Part A"
   ]
  },
  {
   "attachments": {},
   "cell_type": "markdown",
   "metadata": {},
   "source": [
    "The PLLT fundamental equation is:\n",
    "$$\n",
    "\\alpha(y_o) = \\frac{\\Gamma(y_o)}{\\pi V_{\\infty} c(y_o)} + \\alpha(y_o)_{L=0} + \\frac{1}{4\\pi V_{\\infty}}\\int_{-b/2}^{b/2}{\\frac{\\frac{d\\Gamma}{dy}dy}{y_o-y}}\n",
    "$$"
   ]
  },
  {
   "attachments": {},
   "cell_type": "markdown",
   "metadata": {},
   "source": [
    "## Part B"
   ]
  },
  {
   "attachments": {},
   "cell_type": "markdown",
   "metadata": {},
   "source": [
    "To analyze a wing with taper tatio != 1, we must change the chord at every point. We would need to determine the chord $c$ as a function of spanwise location ($y_o$). When solving PLLT, the term $c(y_o)$ would be the chord at each spanwise location. This would allow for a wing of different taper ratio to be analyzed with PLLT."
   ]
  },
  {
   "attachments": {},
   "cell_type": "markdown",
   "metadata": {},
   "source": [
    "$$\n",
    "\\alpha(y_o) = \\frac{\\Gamma(y_o)}{\\pi V_{\\infty} \\fbox{$c(y_o)$}} + \\alpha(y_o)_{L=0} + \\frac{1}{4\\pi V_{\\infty}}\\int_{-b/2}^{b/2}{\\frac{\\frac{d\\Gamma}{dy}dy}{y_o-y}}\n",
    "$$"
   ]
  },
  {
   "attachments": {},
   "cell_type": "markdown",
   "metadata": {},
   "source": [
    "## Part C"
   ]
  },
  {
   "attachments": {},
   "cell_type": "markdown",
   "metadata": {},
   "source": [
    "To analyze a wing with geometric twist, we would need to change the zero lift angle of attack ($\\alpha_{L=0}$). Since a geometric wing has physical twist to it, the zero lift angle of attack for each section is different."
   ]
  },
  {
   "attachments": {},
   "cell_type": "markdown",
   "metadata": {},
   "source": [
    "$$\n",
    "\\alpha(y_o) = \\frac{\\Gamma(y_o)}{\\pi V_{\\infty} c(y_o)} + \\alpha(y_o)_{L=0} + \\frac{1}{4\\pi V_{\\infty}}\\int_{-b/2}^{b/2}{\\frac{\\frac{d\\Gamma}{dy}dy}{y_o-y}}\n",
    "$$"
   ]
  },
  {
   "attachments": {},
   "cell_type": "markdown",
   "metadata": {},
   "source": [
    "## Part D"
   ]
  },
  {
   "attachments": {},
   "cell_type": "markdown",
   "metadata": {},
   "source": [
    "To analyze a wing with aerodynamic twist, we need to know the zero lift angle of attack ($\\alpha_{L=0}$) of each airfoil. Since aerodynamic twist refers to changing the airfoil across the wing, that term will change with respect to spanwise location ($y_o$). Therefore, similar to a tapered wing, we must determine a function for the zero lift angle of attack with respect to spanwise location. This can be done using TAFT on each airfoil section on the wing. Then, $\\alpha_{L=0}$ will be the zero lift angle of attack of the airfoil section at that location when doing PLLT."
   ]
  },
  {
   "attachments": {},
   "cell_type": "markdown",
   "metadata": {},
   "source": [
    "$$\n",
    "\\alpha(y_o) = \\frac{\\Gamma(y_o)}{\\pi V_{\\infty} c(y_o)} + \\fbox{$\\alpha(y_o)_{L=0}$} + \\frac{1}{4\\pi V_{\\infty}}\\int_{-b/2}^{b/2}{\\frac{\\frac{d\\Gamma}{dy}dy}{y_o-y}}\n",
    "$$"
   ]
  }
 ],
 "metadata": {
  "kernelspec": {
   "display_name": "Python 3",
   "language": "python",
   "name": "python3"
  },
  "language_info": {
   "codemirror_mode": {
    "name": "ipython",
    "version": 3
   },
   "file_extension": ".py",
   "mimetype": "text/x-python",
   "name": "python",
   "nbconvert_exporter": "python",
   "pygments_lexer": "ipython3",
   "version": "3.9.15"
  },
  "orig_nbformat": 4
 },
 "nbformat": 4,
 "nbformat_minor": 2
}
