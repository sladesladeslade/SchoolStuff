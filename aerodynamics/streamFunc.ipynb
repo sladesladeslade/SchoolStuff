{
 "cells": [
  {
   "cell_type": "code",
   "execution_count": 1,
   "metadata": {},
   "outputs": [],
   "source": [
    "# Slade Brooks\n",
    "# brooksl@mail.uc.edu\n",
    "# 02.07.2023\n",
    "\n",
    "# calculate V profile for HW3"
   ]
  },
  {
   "cell_type": "code",
   "execution_count": 2,
   "metadata": {},
   "outputs": [],
   "source": [
    "# import thing I need\n",
    "import streamFunc\n",
    "import numpy as np\n",
    "import matplotlib.pyplot as plt"
   ]
  },
  {
   "cell_type": "code",
   "execution_count": 3,
   "metadata": {},
   "outputs": [],
   "source": [
    "# set up mesh of x and ys\n",
    "xs = np.linspace(-5, 5, 100)\n",
    "ys = np.linspace(-1, 1, 100)\n",
    "\n",
    "# make Vinf\n",
    "Vinf = 10"
   ]
  },
  {
   "cell_type": "code",
   "execution_count": 4,
   "metadata": {},
   "outputs": [
    {
     "ename": "AttributeError",
     "evalue": "module 'streamFunc' has no attribute 'sourcesinkPsi'",
     "output_type": "error",
     "traceback": [
      "\u001b[1;31m---------------------------------------------------------------------------\u001b[0m",
      "\u001b[1;31mAttributeError\u001b[0m                            Traceback (most recent call last)",
      "Cell \u001b[1;32mIn[4], line 11\u001b[0m\n\u001b[0;32m      9\u001b[0m vals[i, k] \u001b[39m=\u001b[39m Vinf\n\u001b[0;32m     10\u001b[0m \u001b[39m# source 1 - A=1Vinf,x=-2\u001b[39;00m\n\u001b[1;32m---> 11\u001b[0m vals[i, k] \u001b[39m+\u001b[39m\u001b[39m=\u001b[39m streamFunc\u001b[39m.\u001b[39;49msourcesinkPsi(\u001b[39m-\u001b[39m\u001b[39m2\u001b[39m, \u001b[39m0\u001b[39m, xs[i], ys[k], \u001b[39m10\u001b[39m)\n\u001b[0;32m     12\u001b[0m \u001b[39m# source 2 - A=2Vinf,x=-1\u001b[39;00m\n\u001b[0;32m     13\u001b[0m vals[i, k] \u001b[39m+\u001b[39m\u001b[39m=\u001b[39m streamFunc\u001b[39m.\u001b[39msourcesinkPsi(\u001b[39m-\u001b[39m\u001b[39m1\u001b[39m, \u001b[39m0\u001b[39m, xs[i], ys[k], \u001b[39m20\u001b[39m)\n",
      "\u001b[1;31mAttributeError\u001b[0m: module 'streamFunc' has no attribute 'sourcesinkPsi'"
     ]
    }
   ],
   "source": [
    "# calculate function at each point\n",
    "# make array\n",
    "vals = np.zeros((len(xs),len(ys)),dtype=\"float64\")\n",
    "stream = streamFunc.streamFunc()\n",
    "\n",
    "# loop thru mesh and calc at each point\n",
    "for i in range(0, len(xs)):\n",
    "    for k in range(0, len(ys)):\n",
    "        # uniform flow\n",
    "        vals[i, k] = Vinf\n",
    "        # source 1 - A=1Vinf,x=-2\n",
    "        vals[i, k] += stream.sourcesinkPsi(-2, 0, xs[i], ys[k], 10)\n",
    "        # source 2 - A=2Vinf,x=-1\n",
    "        vals[i, k] += stream.sourcesinkPsi(-1, 0, xs[i], ys[k], 20)\n",
    "        # source 3 - A=1Vinf,x=0\n",
    "        vals[i, k] += stream.sourcesinkPsi(0, 0, xs[i], ys[k], 10)\n",
    "        # source 4 - A=-3Vinf,x=1\n",
    "        vals[i, k] += stream.sourcesinkPsi(1, 0, xs[i], ys[k], -30)\n",
    "        # source 5 - A=-1Vinf,x=2\n",
    "        vals[i, k] += stream.sourcesinkPsi(2, 0, xs[i], ys[k], 110)"
   ]
  },
  {
   "cell_type": "code",
   "execution_count": null,
   "metadata": {},
   "outputs": [],
   "source": [
    "# contourf it\n",
    "plt.contourf(xs, ys, vals)"
   ]
  }
 ],
 "metadata": {
  "kernelspec": {
   "display_name": "Python 3",
   "language": "python",
   "name": "python3"
  },
  "language_info": {
   "codemirror_mode": {
    "name": "ipython",
    "version": 3
   },
   "file_extension": ".py",
   "mimetype": "text/x-python",
   "name": "python",
   "nbconvert_exporter": "python",
   "pygments_lexer": "ipython3",
   "version": "3.9.15"
  },
  "orig_nbformat": 4,
  "vscode": {
   "interpreter": {
    "hash": "62b9e768f4e26a7d3fbfe82fbbe7c4951ab0ade90faf298251d0e0b972c474f0"
   }
  }
 },
 "nbformat": 4,
 "nbformat_minor": 2
}
