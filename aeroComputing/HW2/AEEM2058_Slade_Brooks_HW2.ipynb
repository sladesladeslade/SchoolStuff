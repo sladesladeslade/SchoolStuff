{
 "cells": [
  {
   "attachments": {},
   "cell_type": "markdown",
   "metadata": {},
   "source": [
    "### Slade Brooks\n",
    "##### brooksl@mail.uc.edu\n",
    "##### 01.27.2023\n",
    "### AeroComputing Assignment 2\n",
    "\n",
    "i don't know linear algebra :(\n",
    "\n",
    "#### This code does stuff"
   ]
  },
  {
   "cell_type": "code",
   "execution_count": 5,
   "metadata": {},
   "outputs": [
    {
     "name": "stdout",
     "output_type": "stream",
     "text": [
      "something\n"
     ]
    }
   ],
   "source": [
    "# print what this code can do\n",
    "print(\"something\")"
   ]
  },
  {
   "attachments": {},
   "cell_type": "markdown",
   "metadata": {},
   "source": [
    "# Part 1 and 2"
   ]
  },
  {
   "cell_type": "code",
   "execution_count": 17,
   "metadata": {},
   "outputs": [],
   "source": [
    "# import shtuff\n",
    "import numpy as np\n",
    "import matplotlib.pyplot as plt\n",
    "import time\n",
    "import pandas as pd\n",
    "\n",
    "# pyvot is the module containing the text LU and gauss elim fxns, as well as my cramer rule\n",
    "import pyvot"
   ]
  },
  {
   "attachments": {},
   "cell_type": "markdown",
   "metadata": {},
   "source": [
    "# Part 3"
   ]
  },
  {
   "cell_type": "code",
   "execution_count": 9,
   "metadata": {},
   "outputs": [],
   "source": [
    "# define the inputs for a and b\n",
    "a = np.array([[10, -2, -1, 2, 3, 1, -4, 7],\n",
    "            [5, 11, 3, 10, -3, 3, 3, -4],\n",
    "            [7, 12, 1, 5, 3, -12, 2, 3],\n",
    "            [8, 7, -2, 1, 3, 2, 2, 4],\n",
    "            [2, -15, -1, 1, 4, -1, 8, 3],\n",
    "            [4, 2, 9, 1, 12, -1, 4, 1],\n",
    "            [-1, 4, -7, -1, 1, 1, -1, -3],\n",
    "            [-1, 3, 4, 1, 3, -4, 7, 6]], dtype=\"float64\")\n",
    "b = np.array([[0],\n",
    "            [-12],\n",
    "            [5],\n",
    "            [-3],\n",
    "            [25],\n",
    "            [26],\n",
    "            [-9],\n",
    "            [7]], dtype=\"float64\")"
   ]
  },
  {
   "cell_type": "code",
   "execution_count": 39,
   "metadata": {},
   "outputs": [
    {
     "name": "stdout",
     "output_type": "stream",
     "text": [
      "        Method                                           Solution\n",
      "0  Gauss Pivot  [[0.9999999999999989], [-1.0000000000000007], ...\n",
      "1     LU Pivot  [[466.09576381951376], [-331.7065059940062], [...\n",
      "2       Cramer  [[1.0], [-1.0], [1.0], [-1.0], [1.0], [-1.0000...\n"
     ]
    }
   ],
   "source": [
    "# solve all 3 methods and time them\n",
    "\n",
    "# gauss pivot\n",
    "t0 = time.perf_counter()\n",
    "gauss = pyvot.gaussPivot(a=a.copy(), b=b.copy())\n",
    "t1 = time.perf_counter()\n",
    "gausstime = t1 - t0\n",
    "# gauss residual\n",
    "gaussres = np.average(np.dot(a.copy(), gauss) - b.copy())\n",
    "\n",
    "# LU\n",
    "t0 = time.perf_counter()\n",
    "LUcomp = pyvot.LUdecomp(a=a.copy())\n",
    "LUa, seq = LUcomp\n",
    "LUsolve = pyvot.LUsolve(a=LUa, b=b.copy(), seq=seq.copy())\n",
    "t1 = time.perf_counter()\n",
    "LUtime = t1 - t0\n",
    "# LU residual\n",
    "LUres = np.average(np.dot(a.copy(), LUsolve) - b.copy())\n",
    "\n",
    "# cramer\n",
    "t0 = time.perf_counter()\n",
    "cramer = pyvot.cramer(a=a.copy(), b=b.copy())\n",
    "t1 = time.perf_counter()\n",
    "cramertime = t1 - t0\n",
    "# cramer residual\n",
    "cramres = np.average(np.dot(a.copy(), cramer) - b.copy())\n",
    "\n",
    "# create dict of sols\n",
    "sols = {\"Method\": [\"Gauss Pivot\", \"LU Pivot\", \"Cramer\"],\n",
    "        \"Solution\": [gauss, LUsolve, cramer],}\n",
    "\n",
    "# create a pandas dataframe\n",
    "df1 = pd.DataFrame(sols)\n",
    "\n",
    "print(df1)"
   ]
  },
  {
   "cell_type": "code",
   "execution_count": 40,
   "metadata": {},
   "outputs": [
    {
     "name": "stdout",
     "output_type": "stream",
     "text": [
      "        Method  Compute Time      Residual\n",
      "0  Gauss Pivot      0.000962  6.661338e-16\n",
      "1     LU Pivot      0.000220  1.055586e+03\n",
      "2       Cramer      0.000244  4.884981e-15\n"
     ]
    }
   ],
   "source": [
    "# create and print a table of the performance\n",
    "\n",
    "# make a dictionary of the values\n",
    "perf = {\"Method\": [\"Gauss Pivot\", \"LU Pivot\", \"Cramer\"],\n",
    "        \"Compute Time\": [gausstime, LUtime, cramertime],\n",
    "        \"Residual\": [gaussres, LUres, cramres]}\n",
    "\n",
    "# create a pandas dataframe\n",
    "df = pd.DataFrame(perf)\n",
    "\n",
    "# output table\n",
    "print(df)"
   ]
  }
 ],
 "metadata": {
  "kernelspec": {
   "display_name": "Python 3",
   "language": "python",
   "name": "python3"
  },
  "language_info": {
   "codemirror_mode": {
    "name": "ipython",
    "version": 3
   },
   "file_extension": ".py",
   "mimetype": "text/x-python",
   "name": "python",
   "nbconvert_exporter": "python",
   "pygments_lexer": "ipython3",
   "version": "3.9.15"
  },
  "orig_nbformat": 4,
  "vscode": {
   "interpreter": {
    "hash": "62b9e768f4e26a7d3fbfe82fbbe7c4951ab0ade90faf298251d0e0b972c474f0"
   }
  }
 },
 "nbformat": 4,
 "nbformat_minor": 2
}
