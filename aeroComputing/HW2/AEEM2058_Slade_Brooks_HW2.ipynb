{
 "cells": [
  {
   "attachments": {},
   "cell_type": "markdown",
   "metadata": {},
   "source": [
    "### Slade Brooks\n",
    "##### brooksl@mail.uc.edu\n",
    "##### 01.27.2023\n",
    "# AeroComputing Assignment 2\n",
    "\n",
    "i don't know linear algebra :(\n",
    "\n",
    "This code (part 1/2) imports pyvot.py which contains all the functions necessary\n",
    "to perform gauss pivot, LU pivot, and cramer method solution of [A]{x}={b}. Part 3 shows each method\n",
    "solving the same matrix system. It times them and calculates the residual and displays the information\n",
    "in a table. Part 4 computes each method again for 5 nonsingular equations of nxn 2, 4, 6, 8, and 12.\n",
    "It computes the accuracy and time of each and then plots the compute time with respect to matrix\n",
    "size for each method. Lastly, part 5 uses LUpivot to compute the inverse of a matrix. The dot product\n",
    "of the original and the inverse is used to verify that it is the correct inverse."
   ]
  },
  {
   "cell_type": "code",
   "execution_count": 220,
   "metadata": {},
   "outputs": [
    {
     "name": "stdout",
     "output_type": "stream",
     "text": [
      "This code (part 1/2) imports pyvot.py which contains all the functions necessary to perform gauss pivot, LU pivot, and cramer method solution of [A]{x}={b}. Part 3 shows each methodsolving the same matrix system. It times them and calculates the residual and displays the informationin a table. Part 4 computes each method again for 5 nonsingular equations of nxn 2, 4, 6, 8, and 12.It computes the accuracy and time of each and then plots the compute time with respect to matrixsize for each method. Lastly, part 5 uses LUpivot to compute the inverse of a matrix. The dot productof the original and the inverse is used to verify that it is the correct inverse.\n"
     ]
    }
   ],
   "source": [
    "# print what this code can do\n",
    "print(\"This code (part 1/2) imports pyvot.py which contains all the functions necessary \\\n",
    "to perform gauss pivot, LU pivot, and cramer method solution of [A]{x}={b}. Part 3 shows each method\\\n",
    "solving the same matrix system. It times them and calculates the residual and displays the information\\\n",
    "in a table. Part 4 computes each method again for 5 nonsingular equations of nxn 2, 4, 6, 8, and 12.\\\n",
    "It computes the accuracy and time of each and then plots the compute time with respect to matrix\\\n",
    "size for each method. Lastly, part 5 uses LUpivot to compute the inverse of a matrix. The dot product\\\n",
    "of the original and the inverse is used to verify that it is the correct inverse.\")"
   ]
  },
  {
   "cell_type": "markdown",
   "metadata": {},
   "source": [
    "# Part 1 and 2"
   ]
  },
  {
   "cell_type": "code",
   "execution_count": 221,
   "metadata": {},
   "outputs": [],
   "source": [
    "# import shtuff\n",
    "import numpy as np\n",
    "import matplotlib.pyplot as plt\n",
    "import time\n",
    "import pandas as pd\n",
    "\n",
    "# pyvot is the module containing the text LU and gauss elim fxns, as well as my cramer rule\n",
    "import pyvot"
   ]
  },
  {
   "cell_type": "markdown",
   "metadata": {},
   "source": [
    "# Part 3"
   ]
  },
  {
   "cell_type": "code",
   "execution_count": 222,
   "metadata": {},
   "outputs": [],
   "source": [
    "# define the inputs for a and b\n",
    "a = np.array([[10., -2., -1., 2., 3., 1., -4., 7.],\n",
    "            [5., 11., 3., 10., -3., 3., 3., -4.],\n",
    "            [7., 12., 1., 5., 3., -12., 2., 3.],\n",
    "            [8., 7., -2., 1., 3., 2., 2., 4.],\n",
    "            [2., -15., -1., 1., 4., -1., 8., 3.],\n",
    "            [4., 2., 9., 1., 12., -1., 4., 1.],\n",
    "            [-1., 4., -7., -1., 1., 1., -1., -3.],\n",
    "            [-1., 3., 4., 1., 3., -4., 7., 6.]], dtype=\"float64\")\n",
    "b = np.array([[0.],\n",
    "            [-12.],\n",
    "            [5.],\n",
    "            [-3.],\n",
    "            [25.],\n",
    "            [26.],\n",
    "            [-9.],\n",
    "            [7.]], dtype=\"float64\")"
   ]
  },
  {
   "cell_type": "code",
   "execution_count": 223,
   "metadata": {},
   "outputs": [
    {
     "name": "stdout",
     "output_type": "stream",
     "text": [
      "        Method                                           Solution\n",
      "0  Gauss Pivot  [[1.0], [-1.0], [1.0], [-1.0], [1.0], [-1.0], ...\n",
      "1     LU Pivot  [[1.0], [-1.0], [1.0], [-1.0], [1.0], [-1.0], ...\n",
      "2       Cramer  [[1.0], [-1.0], [1.0], [-1.0], [1.0], [-1.0], ...\n"
     ]
    }
   ],
   "source": [
    "# solve all 3 methods and time them\n",
    "\n",
    "# gauss pivot\n",
    "t0 = time.perf_counter()\n",
    "gauss = pyvot.gaussPivot(a.copy(), b.copy())\n",
    "gausstime = time.perf_counter() - t0\n",
    "# gauss residual\n",
    "gaussres = np.average(np.dot(a.copy(), gauss) - b.copy())\n",
    "\n",
    "# LU\n",
    "t0 = time.perf_counter()\n",
    "LUcomp = pyvot.LUdecomp(a.copy())\n",
    "LUa, seq = LUcomp\n",
    "LUsolve = pyvot.LUsolve(LUa.copy(), b.copy(), seq.copy())\n",
    "LUtime = time.perf_counter() - t0\n",
    "# LU residual\n",
    "LUres = np.average(np.dot(a.copy(), LUsolve) - b.copy())\n",
    "\n",
    "# cramer\n",
    "t0 = time.perf_counter()\n",
    "cramer = pyvot.cramer(a.copy(), b.copy())\n",
    "cramertime = time.perf_counter() - t0\n",
    "# cramer residual\n",
    "cramres = np.average(np.dot(a.copy(), cramer) - b.copy())\n",
    "\n",
    "# create dict of sols\n",
    "sols = {\"Method\": [\"Gauss Pivot\", \"LU Pivot\", \"Cramer\"],\n",
    "        \"Solution\": [gauss.round(3), LUsolve.round(3), cramer.round(3)],}\n",
    "\n",
    "# create a pandas dataframe\n",
    "df1 = pd.DataFrame(sols)\n",
    "\n",
    "print(df1)"
   ]
  },
  {
   "cell_type": "code",
   "execution_count": 224,
   "metadata": {},
   "outputs": [
    {
     "name": "stdout",
     "output_type": "stream",
     "text": [
      "        Method  Compute Time      Residual\n",
      "0  Gauss Pivot      0.000429  6.661338e-16\n",
      "1     LU Pivot      0.000624 -8.881784e-16\n",
      "2       Cramer      0.000137  4.884981e-15\n"
     ]
    }
   ],
   "source": [
    "# create and print a table of the performance\n",
    "\n",
    "# make a dictionary of the values\n",
    "perf = {\"Method\": [\"Gauss Pivot\", \"LU Pivot\", \"Cramer\"],\n",
    "        \"Compute Time\": [gausstime, LUtime, cramertime],\n",
    "        \"Residual\": [gaussres, LUres, cramres]}\n",
    "\n",
    "# create a pandas dataframe\n",
    "df = pd.DataFrame(perf)\n",
    "\n",
    "# output table\n",
    "print(df)"
   ]
  },
  {
   "cell_type": "markdown",
   "metadata": {},
   "source": [
    "# Part 4"
   ]
  },
  {
   "cell_type": "code",
   "execution_count": 225,
   "metadata": {},
   "outputs": [],
   "source": [
    "# define matrices for each size\n",
    "Amatrices = [np.array([[-15.,  14.],[ -8.,  -5.]]),\n",
    "np.array([[ 13.,  14.,   8.,  -5.],\n",
    "       [ -3.,  -9.,  -4.,   7.],\n",
    "       [-14., -12.,  -9.,  -2.],\n",
    "       [ 12.,  14.,  -9.,   1.]]),\n",
    "np.array([[  2.,   4., -10.,   9., -14., -14.],\n",
    "       [ -7.,   9.,   4.,  -4.,   6.,  -4.],\n",
    "       [-12.,   5.,  -7.,  14., -10.,  11.],\n",
    "       [  7., -12.,   1.,  -1.,   4.,   0.],\n",
    "       [  1.,   1., -10., -13.,  11.,  -3.],\n",
    "       [  2.,   1.,  14.,  15.,  -1.,  -4.]]),\n",
    "np.array([[-12.,  12.,  -6.,  14.,   0.,   5.,  15.,   3.],\n",
    "       [  9., -12.,   8.,   9.,   3., -13.,   3.,  15.],\n",
    "       [ -5.,   9.,   4.,   1.,   2.,  12.,   5.,  10.],\n",
    "       [ 13., -10.,   7.,   2., -10.,  10.,  -7.,  -1.],\n",
    "       [ -8., -13., -11., -12.,  -7.,  -7., -11.,   7.],\n",
    "       [  2., -13.,   4.,   6., -10., -12.,   0.,  -3.],\n",
    "       [  3.,  -8.,  14., -12.,  14.,  -2.,   4.,   4.],\n",
    "       [  6.,   5.,   4., -10.,   5.,   0.,   0., -11.]]),\n",
    "np.array([[  3.,  11.,  -9.,  -4., -13.,  -6., -14., -15.,   8.,   6.,  -1., -3.],\n",
    "       [ -3.,   4.,   0.,  12.,  -2.,   9.,   8.,  12.,   4.,  -9.,   3., 0.],\n",
    "       [ -8., -15.,  12.,   9.,  13., -12.,   7.,  11.,   5.,   7.,  -2., 8.],\n",
    "       [-13.,   1.,  -5.,  -9.,   0.,   0.,   3.,  10.,   6.,  11.,  -7., 2.],\n",
    "       [-12.,   4.,  -1.,  -1.,  11.,   3.,  -8., -10.,   0.,  -1.,  -2., 11.],\n",
    "       [-14., -14.,   6.,   1.,  -6.,   9.,   2.,  -8.,   7., -11.,  13., -4.],\n",
    "       [ -4.,   6.,  14.,  -9.,  12., -11.,   0.,   7.,   1.,   5.,  -5., 2.],\n",
    "       [  0.,  -3.,  13.,   5.,   6., -12., -11.,  12., -13.,  -5.,   0., 6.],\n",
    "       [ -8.,  14., -11., -13.,  14.,  10.,  -7.,   5.,  14.,  14.,  10., -4.],\n",
    "       [  3.,   7.,  13.,  -9.,   7.,   8.,   6., -15., -14., -14.,   5., -2.],\n",
    "       [ 14.,  15.,  -3.,  -2.,  13.,  14.,  10., -14., -10.,   2.,   6., 3.],\n",
    "       [  5., -13.,   3.,  12.,  11.,   9.,  -7.,   0.,   1.,  14.,  11., 8.]])]\n",
    "Bmatrices = [\n",
    "np.array([[5.],\n",
    "        [7.]]),\n",
    "np.array([[-8.],\n",
    "       [-8.],\n",
    "       [-3.],\n",
    "       [-1.]]),\n",
    "np.array([[  6.],\n",
    "       [ 14.],\n",
    "       [-13.],\n",
    "       [  2.],\n",
    "       [ -1.],\n",
    "       [  1.]]),\n",
    "np.array([[ -5.],\n",
    "       [  6.],\n",
    "       [ 13.],\n",
    "       [ -8.],\n",
    "       [-13.],\n",
    "       [ 13.],\n",
    "       [-11.],\n",
    "       [ -5.]]),\n",
    "np.array([[  6.],\n",
    "       [-15.],\n",
    "       [-10.],\n",
    "       [ 13.],\n",
    "       [ -3.],\n",
    "       [-14.],\n",
    "       [  7.],\n",
    "       [ -7.],\n",
    "       [ -1.],\n",
    "       [ -6.],\n",
    "       [-12.],\n",
    "       [-11.]])]"
   ]
  },
  {
   "cell_type": "code",
   "execution_count": 226,
   "metadata": {},
   "outputs": [],
   "source": [
    "# create vars for plotting\n",
    "# times\n",
    "gausstimes = [0, 0, 0, 0, 0]\n",
    "LUtimes = [0, 0, 0, 0, 0]\n",
    "cramertimes = [0, 0, 0, 0, 0]\n",
    "# residuals\n",
    "gaussress = [0, 0, 0, 0, 0]\n",
    "LUress = [0, 0, 0, 0, 0]\n",
    "cramress = [0, 0, 0, 0, 0]\n",
    "\n",
    "for i in range(5):\n",
    "    # compute using each type of thingimajig\n",
    "\n",
    "    # gauss\n",
    "    t0 = time.perf_counter()\n",
    "    gauss = pyvot.gaussPivot(Amatrices[i].copy(), Bmatrices[i].copy())\n",
    "    gausstime = time.perf_counter() - t0\n",
    "    # gauss residual\n",
    "    gaussres = np.average(np.dot(Amatrices[i].copy(), gauss) - Bmatrices[i].copy())\n",
    "\n",
    "    # LU\n",
    "    t0 = time.perf_counter()\n",
    "    LUcomp = pyvot.LUdecomp(Amatrices[i].copy())\n",
    "    LUa, seq = LUcomp\n",
    "    LUsolve = pyvot.LUsolve(LUa.copy(), Bmatrices[i].copy(), seq.copy())\n",
    "    LUtime = time.perf_counter() - t0\n",
    "    # LU residual\n",
    "    LUres = np.average(np.dot(Amatrices[i].copy(), LUsolve) - Bmatrices[i].copy())\n",
    "\n",
    "    # cramer\n",
    "    t0 = time.perf_counter()\n",
    "    cramer = pyvot.cramer(Amatrices[i].copy(), Bmatrices[i].copy())\n",
    "    cramertime = time.perf_counter() - t0\n",
    "    # cramer residual\n",
    "    cramres = np.average(np.dot(Amatrices[i].copy(), cramer) - Bmatrices[i].copy())\n",
    "\n",
    "    # set variables in lists\n",
    "    gausstimes[i] = gausstime\n",
    "    LUtimes[i] = LUtime\n",
    "    cramertimes[i] = cramertime\n",
    "\n",
    "    gaussress[i] = gaussres\n",
    "    LUress[i] = LUres\n",
    "    cramress[i] = cramres"
   ]
  },
  {
   "cell_type": "code",
   "execution_count": 227,
   "metadata": {},
   "outputs": [
    {
     "name": "stdout",
     "output_type": "stream",
     "text": [
      "  Matrix Size  Gauss Accuracy   LU Accuracy  Cramer Accuracy\n",
      "0           2    4.440892e-16  4.440892e-16    -3.996803e-15\n",
      "1           4    1.776357e-15 -2.664535e-15    -6.439294e-15\n",
      "2           6   -1.776357e-15 -1.776357e-15     1.480297e-16\n",
      "3           8   -4.884981e-15 -4.440892e-15     2.842171e-14\n",
      "4          12    9.621933e-16  2.220446e-15    -2.486900e-14\n"
     ]
    }
   ],
   "source": [
    "# print table of accuracies for each matrix size\n",
    "# make a dictionary of the values\n",
    "acc = {\"Matrix Size\": [\"2\", \"4\", \"6\", \"8\", \"12\"],\n",
    "        \"Gauss Accuracy\": [gaussress[0], gaussress[1], gaussress[2], gaussress[3], gaussress[4]],\n",
    "        \"LU Accuracy\": [LUress[0], LUress[1], LUress[2], LUress[3], LUress[4]],\n",
    "        \"Cramer Accuracy\": [cramress[0], cramress[1], cramress[2], cramress[3], cramress[4]]}\n",
    "\n",
    "# create a pandas dataframe\n",
    "df2 = pd.DataFrame(acc)\n",
    "\n",
    "# output table\n",
    "print(df2)"
   ]
  },
  {
   "cell_type": "code",
   "execution_count": 228,
   "metadata": {},
   "outputs": [
    {
     "data": {
      "image/png": "[encoded data removed]",
      "text/plain": [
       "<Figure size 640x480 with 1 Axes>"
      ]
     },
     "metadata": {},
     "output_type": "display_data"
    }
   ],
   "source": [
    "# plot time vs matrix size\n",
    "matrix = [2, 4, 6, 8, 12]\n",
    "plt.plot(matrix, gausstimes, label=\"Gauss Pivot\")\n",
    "plt.plot(matrix, LUtimes, label=\"LU Pivot\")\n",
    "plt.plot(matrix, cramertimes, label=\"Cramer Method\")\n",
    "\n",
    "# format plot\n",
    "plt.title(\"Performance of Method\")\n",
    "plt.xlabel(\"Matrix Size (nxn)\")\n",
    "plt.ylabel(\"Compute Time (s)\")\n",
    "plt.legend(loc=\"upper left\")\n",
    "\n",
    "# show that boi\n",
    "plt.show()"
   ]
  },
  {
   "cell_type": "markdown",
   "metadata": {},
   "source": [
    "# Part 5"
   ]
  },
  {
   "cell_type": "code",
   "execution_count": 229,
   "metadata": {},
   "outputs": [
    {
     "name": "stdout",
     "output_type": "stream",
     "text": [
      "[[ 0.04670666 -0.03657862  0.00456496 -0.00812893 -0.03200971]\n",
      " [-0.03657862  0.16461698  0.02057952  0.03658314  0.14405524]\n",
      " [ 0.00456496  0.02057952  0.0385552   0.00457342  0.018009  ]\n",
      " [-0.00812893  0.03658314  0.00457342  0.04670867  0.04115148]\n",
      " [-0.03200971  0.14405524  0.018009    0.04115148  0.16204425]]\n"
     ]
    }
   ],
   "source": [
    "# invert a matrix using LU\n",
    "\n",
    "# define matrix from book\n",
    "A = np.array([[27.58, 7.004, -7.004, 0., 0.],\n",
    "    [7.004, 29.57, -5.253, 0., -24.32],\n",
    "    [-7.004, -5.253, 29.57, 0., 0.],\n",
    "    [0., 0., 0., 27.58, -7.004],\n",
    "    [0., -24.32, 0., -7.004, 29.57]]).astype(\"float64\")\n",
    "\n",
    "# set up length of loop and inverse matrix\n",
    "n = len(A[0])\n",
    "Ai = np.identity(n)\n",
    "\n",
    "# do decomp on matrix\n",
    "Ab, seq = pyvot.LUdecomp(A.copy())\n",
    "\n",
    "# loop thru and calculate the inverse\n",
    "for i in range(n):\n",
    "    Ai[:,i] = pyvot.LUsolve(Ab, Ai[:,i], seq)\n",
    "\n",
    "# print inverted matrix\n",
    "print(Ai)"
   ]
  },
  {
   "cell_type": "code",
   "execution_count": 230,
   "metadata": {},
   "outputs": [
    {
     "name": "stdout",
     "output_type": "stream",
     "text": [
      "[[ 1.00000000e+00  1.95160030e-17  1.95662404e-17  3.58349291e-17\n",
      "  -4.04304686e-17]\n",
      " [ 1.20120010e-16  1.00000000e+00  1.04246566e-17 -2.05777391e-17\n",
      "  -1.02305201e-15]\n",
      " [-3.33189666e-17  9.70608112e-17  1.00000000e+00  1.66001064e-17\n",
      "   7.78033794e-17]\n",
      " [ 3.16952537e-17 -9.39680356e-17 -9.21932382e-18  1.00000000e+00\n",
      "  -9.07061574e-17]\n",
      " [-7.50171992e-17  8.53071103e-16 -4.16496792e-17 -4.88112000e-17\n",
      "   1.00000000e+00]]\n"
     ]
    }
   ],
   "source": [
    "\n",
    "# verify matrix is inverse\n",
    "print(np.dot(A, Ai))"
   ]
  }
 ],
 "metadata": {
  "kernelspec": {
   "display_name": "Python 3 (ipykernel)",
   "language": "python",
   "name": "python3"
  },
  "language_info": {
   "codemirror_mode": {
    "name": "ipython",
    "version": 3
   },
   "file_extension": ".py",
   "mimetype": "text/x-python",
   "name": "python",
   "nbconvert_exporter": "python",
   "pygments_lexer": "ipython3",
   "version": "3.9.12"
  },
  "vscode": {
   "interpreter": {
    "hash": "62b9e768f4e26a7d3fbfe82fbbe7c4951ab0ade90faf298251d0e0b972c474f0"
   }
  }
 },
 "nbformat": 4,
 "nbformat_minor": 2
}
