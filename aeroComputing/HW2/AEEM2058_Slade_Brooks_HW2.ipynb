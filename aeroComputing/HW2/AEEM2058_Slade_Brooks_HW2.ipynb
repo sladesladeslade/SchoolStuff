{
 "cells": [
  {
   "attachments": {},
   "cell_type": "markdown",
   "metadata": {},
   "source": [
    "### Slade Brooks\n",
    "##### brooksl@mail.uc.edu\n",
    "##### 01.27.2023\n",
    "### AeroComputing Assignment 2\n",
    "\n",
    "i don't know linear algebra :(\n",
    "\n",
    "#### This code does stuff"
   ]
  },
  {
   "cell_type": "code",
   "execution_count": null,
   "metadata": {},
   "outputs": [],
   "source": [
    "# print what this code can do\n",
    "print(\"something\")"
   ]
  },
  {
   "attachments": {},
   "cell_type": "markdown",
   "metadata": {},
   "source": [
    "# Part 1 and 2"
   ]
  },
  {
   "cell_type": "code",
   "execution_count": null,
   "metadata": {},
   "outputs": [],
   "source": [
    "# import shtuff\n",
    "import numpy as np\n",
    "import matplotlib.pyplot as plt\n",
    "import time\n",
    "import pandas as pd\n",
    "\n",
    "# pyvot is the module containing the text LU and gauss elim fxns, as well as my cramer rule\n",
    "import pyvot"
   ]
  },
  {
   "attachments": {},
   "cell_type": "markdown",
   "metadata": {},
   "source": [
    "# Part 3"
   ]
  },
  {
   "cell_type": "code",
   "execution_count": null,
   "metadata": {},
   "outputs": [],
   "source": [
    "# define the inputs for a and b\n",
    "a = np.array([[10, -2, -1, 2, 3, 1, -4, 7],\n",
    "            [5, 11, 3, 10, -3, 3, 3, -4],\n",
    "            [7, 12, 1, 5, 3, -12, 2, 3],\n",
    "            [8, 7, -2, 1, 3, 2, 2, 4],\n",
    "            [2, -15, -1, 1, 4, -1, 8, 3],\n",
    "            [4, 2, 9, 1, 12, -1, 4, 1],\n",
    "            [-1, 4, -7, -1, 1, 1, -1, -3],\n",
    "            [-1, 3, 4, 1, 3, -4, 7, 6]], dtype=\"float64\")\n",
    "b = np.array([[0],\n",
    "            [-12],\n",
    "            [5],\n",
    "            [-3],\n",
    "            [25],\n",
    "            [26],\n",
    "            [-9],\n",
    "            [7]], dtype=\"float64\")\n",
    "\n",
    "# make sure a and b originals are immutable\n",
    "a.setflags(write=False)\n",
    "b.setflags(write=False)"
   ]
  },
  {
   "cell_type": "code",
   "execution_count": null,
   "metadata": {},
   "outputs": [],
   "source": [
    "# solve all 3 methods and time them\n",
    "\n",
    "# gauss pivot\n",
    "t0 = time.perf_counter()\n",
    "gauss = pyvot.gaussPivot(a=a, b=b)\n",
    "t1 = time.perf_counter()\n",
    "gausstime = t1 - t0\n",
    "# gauss residual\n",
    "gaussres = np.dot(a, gauss) - b\n",
    "\n",
    "# LU\n",
    "t0 = time.perf_counter()\n",
    "LUcomp = pyvot.LUdecomp(a=a)\n",
    "LUa, seq = LUcomp\n",
    "LUsolve = pyvot.LUsolve(a=LUa, b=b, seq=seq)\n",
    "t1 = time.perf_counter()\n",
    "LUtime = t1 - t0\n",
    "# LU residual\n",
    "LUres = np.dot(a, LUsolve) - b\n",
    "\n",
    "# cramer\n",
    "t0 = time.perf_counter()\n",
    "cramer = pyvot.cramer(a=a, b=b)\n",
    "t1 = time.perf_counter()\n",
    "cramertime = t1 - t0\n",
    "# cramer residual\n",
    "cramres = np.dot(a, cramer) - b"
   ]
  },
  {
   "cell_type": "code",
   "execution_count": null,
   "metadata": {},
   "outputs": [],
   "source": [
    "# create and print a table of the performance"
   ]
  }
 ],
 "metadata": {
  "kernelspec": {
   "display_name": "Python 3",
   "language": "python",
   "name": "python3"
  },
  "language_info": {
   "name": "python",
   "version": "3.9.15 (main, Nov 24 2022, 14:39:17) [MSC v.1916 64 bit (AMD64)]"
  },
  "orig_nbformat": 4,
  "vscode": {
   "interpreter": {
    "hash": "62b9e768f4e26a7d3fbfe82fbbe7c4951ab0ade90faf298251d0e0b972c474f0"
   }
  }
 },
 "nbformat": 4,
 "nbformat_minor": 2
}
