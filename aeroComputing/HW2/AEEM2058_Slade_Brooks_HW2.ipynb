{
 "cells": [
  {
   "attachments": {},
   "cell_type": "markdown",
   "metadata": {},
   "source": [
    "### Slade Brooks\n",
    "##### brooksl@mail.uc.edu\n",
    "##### 01.27.2023\n",
    "### AeroComputing Assignment 2\n",
    "\n",
    "i don't know linear algebra :(\n",
    "\n",
    "#### This code does stuff"
   ]
  },
  {
   "cell_type": "code",
   "execution_count": 5,
   "metadata": {},
   "outputs": [
    {
     "name": "stdout",
     "output_type": "stream",
     "text": [
      "something\n"
     ]
    }
   ],
   "source": [
    "# print what this code can do\n",
    "print(\"something\")"
   ]
  },
  {
   "attachments": {},
   "cell_type": "markdown",
   "metadata": {},
   "source": [
    "# Part 1 and 2"
   ]
  },
  {
   "cell_type": "code",
   "execution_count": 6,
   "metadata": {},
   "outputs": [],
   "source": [
    "# import shtuff\n",
    "import numpy as np\n",
    "import matplotlib.pyplot as plt\n",
    "import time\n",
    "import pandas as pd\n",
    "\n",
    "# pyvot is the module containing the text LU and gauss elim fxns, as well as my cramer rule\n",
    "import sys\n",
    "cwd = %pwd\n",
    "sys.path.append(cwd + \"/..\")\n",
    "import pyvot"
   ]
  },
  {
   "attachments": {},
   "cell_type": "markdown",
   "metadata": {},
   "source": [
    "# Part 3"
   ]
  },
  {
   "cell_type": "code",
   "execution_count": 9,
   "metadata": {},
   "outputs": [],
   "source": [
    "# define the inputs for a and b\n",
    "a = np.array([[10, -2, -1, 2, 3, 1, -4, 7],\n",
    "            [5, 11, 3, 10, -3, 3, 3, -4],\n",
    "            [7, 12, 1, 5, 3, -12, 2, 3],\n",
    "            [8, 7, -2, 1, 3, 2, 2, 4],\n",
    "            [2, -15, -1, 1, 4, -1, 8, 3],\n",
    "            [4, 2, 9, 1, 12, -1, 4, 1],\n",
    "            [-1, 4, -7, -1, 1, 1, -1, -3],\n",
    "            [-1, 3, 4, 1, 3, -4, 7, 6]], dtype=\"float64\")\n",
    "b = np.array([[0],\n",
    "            [-12],\n",
    "            [5],\n",
    "            [-3],\n",
    "            [25],\n",
    "            [26],\n",
    "            [-9],\n",
    "            [7]], dtype=\"float64\")"
   ]
  },
  {
   "cell_type": "code",
   "execution_count": 14,
   "metadata": {},
   "outputs": [
    {
     "ename": "AttributeError",
     "evalue": "module 'numpy' has no attribute 'det'",
     "output_type": "error",
     "traceback": [
      "\u001b[1;31m---------------------------------------------------------------------------\u001b[0m",
      "\u001b[1;31mAttributeError\u001b[0m                            Traceback (most recent call last)",
      "Cell \u001b[1;32mIn[14], line 27\u001b[0m\n\u001b[0;32m     25\u001b[0m cramertime \u001b[39m=\u001b[39m t1 \u001b[39m-\u001b[39m t0\n\u001b[0;32m     26\u001b[0m \u001b[39m# cramer residual\u001b[39;00m\n\u001b[1;32m---> 27\u001b[0m cramres \u001b[39m=\u001b[39m np\u001b[39m.\u001b[39;49mdet(np\u001b[39m.\u001b[39mdot(a\u001b[39m.\u001b[39mcopy(), cramer) \u001b[39m-\u001b[39m b\u001b[39m.\u001b[39mcopy())\n",
      "File \u001b[1;32mc:\\Users\\spbro\\anaconda3\\envs\\AeroComputing\\lib\\site-packages\\numpy\\__init__.py:311\u001b[0m, in \u001b[0;36m__getattr__\u001b[1;34m(attr)\u001b[0m\n\u001b[0;32m    308\u001b[0m     \u001b[39mfrom\u001b[39;00m \u001b[39m.\u001b[39;00m\u001b[39mtesting\u001b[39;00m \u001b[39mimport\u001b[39;00m Tester\n\u001b[0;32m    309\u001b[0m     \u001b[39mreturn\u001b[39;00m Tester\n\u001b[1;32m--> 311\u001b[0m \u001b[39mraise\u001b[39;00m \u001b[39mAttributeError\u001b[39;00m(\u001b[39m\"\u001b[39m\u001b[39mmodule \u001b[39m\u001b[39m{!r}\u001b[39;00m\u001b[39m has no attribute \u001b[39m\u001b[39m\"\u001b[39m\n\u001b[0;32m    312\u001b[0m                      \u001b[39m\"\u001b[39m\u001b[39m{!r}\u001b[39;00m\u001b[39m\"\u001b[39m\u001b[39m.\u001b[39mformat(\u001b[39m__name__\u001b[39m, attr))\n",
      "\u001b[1;31mAttributeError\u001b[0m: module 'numpy' has no attribute 'det'"
     ]
    }
   ],
   "source": [
    "# solve all 3 methods and time them\n",
    "\n",
    "# gauss pivot\n",
    "t0 = time.perf_counter()\n",
    "gauss = pyvot.gaussPivot(a=a.copy(), b=b.copy())\n",
    "t1 = time.perf_counter()\n",
    "gausstime = t1 - t0\n",
    "# gauss residual\n",
    "gaussres = np.average(np.dot(a.copy(), gauss) - b.copy())\n",
    "\n",
    "# LU\n",
    "t0 = time.perf_counter()\n",
    "LUcomp = pyvot.LUdecomp(a=a.copy())\n",
    "LUa, seq = LUcomp\n",
    "LUsolve = pyvot.LUsolve(a=LUa, b=b.copy(), seq=seq.copy())\n",
    "t1 = time.perf_counter()\n",
    "LUtime = t1 - t0\n",
    "# LU residual\n",
    "LUres = np.average(np.dot(a.copy(), LUsolve) - b.copy())\n",
    "\n",
    "# cramer\n",
    "t0 = time.perf_counter()\n",
    "cramer = pyvot.cramer(a=a.copy(), b=b.copy())\n",
    "t1 = time.perf_counter()\n",
    "cramertime = t1 - t0\n",
    "# cramer residual\n",
    "cramres = np.average(np.dot(a.copy(), cramer) - b.copy())"
   ]
  },
  {
   "cell_type": "code",
   "execution_count": 13,
   "metadata": {},
   "outputs": [
    {
     "name": "stdout",
     "output_type": "stream",
     "text": [
      "        Method  Compute Time      Residual\n",
      "0  Gauss Pivot      0.002010  6.661338e-16\n",
      "1     LU Pivot      0.000262  1.055586e+03\n",
      "2       Cramer      0.000177  4.884981e-15\n"
     ]
    }
   ],
   "source": [
    "# create and print a table of the performance\n",
    "\n",
    "# make a dictionary of the values\n",
    "perf = {\"Method\": [\"Gauss Pivot\", \"LU Pivot\", \"Cramer\"],\n",
    "        \"Compute Time\": [gausstime, LUtime, cramertime],\n",
    "        \"Residual\": [gaussres, LUres, cramres]}\n",
    "\n",
    "# create a pandas dataframe\n",
    "df = pd.DataFrame(perf)\n",
    "\n",
    "# output table\n",
    "print(df)"
   ]
  }
 ],
 "metadata": {
  "kernelspec": {
   "display_name": "Python 3",
   "language": "python",
   "name": "python3"
  },
  "language_info": {
   "codemirror_mode": {
    "name": "ipython",
    "version": 3
   },
   "file_extension": ".py",
   "mimetype": "text/x-python",
   "name": "python",
   "nbconvert_exporter": "python",
   "pygments_lexer": "ipython3",
   "version": "3.9.15"
  },
  "orig_nbformat": 4,
  "vscode": {
   "interpreter": {
    "hash": "62b9e768f4e26a7d3fbfe82fbbe7c4951ab0ade90faf298251d0e0b972c474f0"
   }
  }
 },
 "nbformat": 4,
 "nbformat_minor": 2
}
