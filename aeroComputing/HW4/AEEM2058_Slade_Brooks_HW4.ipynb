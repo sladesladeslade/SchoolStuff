{
 "cells": [
  {
   "attachments": {},
   "cell_type": "markdown",
   "metadata": {},
   "source": [
    "### Slade Brooks\n",
    "##### brooksl@mail.uc.edu\n",
    "##### 02.17.2023\n",
    "# AeroComputing Assignment 4\n",
    "\n",
    "This code"
   ]
  },
  {
   "attachments": {},
   "cell_type": "markdown",
   "metadata": {},
   "source": [
    "# Part 1"
   ]
  },
  {
   "cell_type": "code",
   "execution_count": 1,
   "metadata": {},
   "outputs": [],
   "source": [
    "# import shtuff\n",
    "import matplotlib.pyplot as plt\n",
    "import numpy as np\n",
    "import sys\n",
    "\n",
    "# import custom modules\n",
    "sys.path.append(\"..//lib//\")\n",
    "import pyvot"
   ]
  },
  {
   "attachments": {},
   "cell_type": "markdown",
   "metadata": {},
   "source": [
    "# Part 2"
   ]
  },
  {
   "cell_type": "code",
   "execution_count": 3,
   "metadata": {},
   "outputs": [
    {
     "name": "stdout",
     "output_type": "stream",
     "text": [
      "0.0\n"
     ]
    },
    {
     "ename": "ValueError",
     "evalue": "The truth value of an array with more than one element is ambiguous. Use a.any() or a.all()",
     "output_type": "error",
     "traceback": [
      "\u001b[1;31m---------------------------------------------------------------------------\u001b[0m",
      "\u001b[1;31mValueError\u001b[0m                                Traceback (most recent call last)",
      "Cell \u001b[1;32mIn[3], line 17\u001b[0m\n\u001b[0;32m     14\u001b[0m \u001b[39m# set up x range\u001b[39;00m\n\u001b[0;32m     15\u001b[0m Ts \u001b[39m=\u001b[39m np\u001b[39m.\u001b[39mlinspace(\u001b[39m-\u001b[39m\u001b[39m250\u001b[39m, \u001b[39m500\u001b[39m, (\u001b[39m250\u001b[39m\u001b[39m+\u001b[39m\u001b[39m500\u001b[39m))\n\u001b[1;32m---> 17\u001b[0m cps \u001b[39m=\u001b[39m pyvot\u001b[39m.\u001b[39;49mrational(T\u001b[39m.\u001b[39;49mcopy(), cp\u001b[39m.\u001b[39;49mcopy(), Ts)\n\u001b[0;32m     19\u001b[0m plt\u001b[39m.\u001b[39mplot(Ts, cps)\n\u001b[0;32m     20\u001b[0m plt\u001b[39m.\u001b[39mshow()\n",
      "File \u001b[1;32mc:\\Users\\spbro\\SchoolStuff\\aeroComputing\\HW4\\..//lib\\pyvot.py:269\u001b[0m, in \u001b[0;36mrational\u001b[1;34m(xData, yData, x)\u001b[0m\n\u001b[0;32m    267\u001b[0m \u001b[39mfor\u001b[39;00m k \u001b[39min\u001b[39;00m \u001b[39mrange\u001b[39m(m\u001b[39m-\u001b[39m\u001b[39m1\u001b[39m):\n\u001b[0;32m    268\u001b[0m     \u001b[39mfor\u001b[39;00m i \u001b[39min\u001b[39;00m \u001b[39mrange\u001b[39m(m\u001b[39m-\u001b[39mk\u001b[39m-\u001b[39m\u001b[39m1\u001b[39m):\n\u001b[1;32m--> 269\u001b[0m         \u001b[39mif\u001b[39;00m \u001b[39mabs\u001b[39;49m(x \u001b[39m-\u001b[39;49m xData[i\u001b[39m+\u001b[39;49mk\u001b[39m+\u001b[39;49m\u001b[39m1\u001b[39;49m]) \u001b[39m<\u001b[39;49m \u001b[39m1.0e-9\u001b[39;49m:\n\u001b[0;32m    270\u001b[0m             \u001b[39mreturn\u001b[39;00m yData[i\u001b[39m+\u001b[39mk\u001b[39m+\u001b[39m\u001b[39m1\u001b[39m]\n\u001b[0;32m    271\u001b[0m         \u001b[39melse\u001b[39;00m:\n",
      "\u001b[1;31mValueError\u001b[0m: The truth value of an array with more than one element is ambiguous. Use a.any() or a.all()"
     ]
    }
   ],
   "source": [
    "# solve with rational\n",
    "\n",
    "# create data sets\n",
    "T = np.array([-250., -200., -100., 0., 100., 300.])\n",
    "cp = np.array([0.0163, 0.318, 0.699, 0.87, 0.941, 1.04])\n",
    "\n",
    "# create i for indexing and array for vals\n",
    "cps = np.empty((250+501))\n",
    "\n",
    "# set up new T range\n",
    "Ts = np.linspace(-250, 500, (250+500))\n",
    "\n",
    "# compute val at each T\n",
    "cps = pyvot.rational(T.copy(), cp.copy(), Ts)\n",
    "\n",
    "plt.plot(Ts, cps)\n",
    "plt.show()"
   ]
  }
 ],
 "metadata": {
  "kernelspec": {
   "display_name": "Python 3",
   "language": "python",
   "name": "python3"
  },
  "language_info": {
   "codemirror_mode": {
    "name": "ipython",
    "version": 3
   },
   "file_extension": ".py",
   "mimetype": "text/x-python",
   "name": "python",
   "nbconvert_exporter": "python",
   "pygments_lexer": "ipython3",
   "version": "3.9.15"
  },
  "orig_nbformat": 4,
  "vscode": {
   "interpreter": {
    "hash": "62b9e768f4e26a7d3fbfe82fbbe7c4951ab0ade90faf298251d0e0b972c474f0"
   }
  }
 },
 "nbformat": 4,
 "nbformat_minor": 2
}
