{
 "cells": [
  {
   "cell_type": "markdown",
   "id": "f30e863c",
   "metadata": {
    "slideshow": {
     "slide_type": "-"
    }
   },
   "source": [
    "<span style=\"color:red;font-weight:700;font-size:40px\"> \n",
    "    Assignment 4 - DNNs with PyTorch\n",
    "</span>"
   ]
  },
  {
   "cell_type": "markdown",
   "id": "4adfc2f5",
   "metadata": {
    "slideshow": {
     "slide_type": "-"
    }
   },
   "source": [
    "### Aerospace Computing\n",
    "For bugs/comments reach out to me ~ kalagodk@mail.uc.edu"
   ]
  },
  {
   "cell_type": "code",
   "execution_count": null,
   "id": "dcb5aae4",
   "metadata": {},
   "outputs": [],
   "source": [
    "from assignment import Assignment"
   ]
  },
  {
   "cell_type": "markdown",
   "id": "b0fa14e7",
   "metadata": {},
   "source": [
    "# Question 1"
   ]
  },
  {
   "cell_type": "code",
   "execution_count": null,
   "id": "372dc4f5",
   "metadata": {},
   "outputs": [],
   "source": [
    "# Call the model. Fill in the rest\n",
    "steve = Assignment\n",
    "# (i named him steve)"
   ]
  },
  {
   "cell_type": "code",
   "execution_count": null,
   "id": "4b9ec212",
   "metadata": {
    "scrolled": false
   },
   "outputs": [],
   "source": [
    "# Plot the data set. One line of code\n"
   ]
  },
  {
   "cell_type": "code",
   "execution_count": null,
   "id": "feea0e0e",
   "metadata": {},
   "outputs": [],
   "source": [
    "# Block to input parameters. Five lines of code\n",
    "\n",
    "\n",
    "\n",
    "\n"
   ]
  },
  {
   "cell_type": "code",
   "execution_count": null,
   "id": "90d6dcca",
   "metadata": {},
   "outputs": [],
   "source": [
    "# set parameters and train the model. Two lines of code\n",
    "\n"
   ]
  },
  {
   "cell_type": "code",
   "execution_count": null,
   "id": "6c2205f6",
   "metadata": {},
   "outputs": [],
   "source": [
    "# Check validation error. One line of code \n"
   ]
  },
  {
   "cell_type": "code",
   "execution_count": null,
   "id": "d2d960b1",
   "metadata": {},
   "outputs": [],
   "source": [
    "# Run validation against real data. One line of code\n"
   ]
  },
  {
   "cell_type": "markdown",
   "id": "b3745173",
   "metadata": {},
   "source": [
    "# Question 2"
   ]
  },
  {
   "cell_type": "markdown",
   "id": "daa42c23",
   "metadata": {},
   "source": [
    "# Effect of Neural Network depth"
   ]
  },
  {
   "cell_type": "code",
   "execution_count": null,
   "id": "c2f75a38",
   "metadata": {},
   "outputs": [],
   "source": [
    "# Use one hidden layer. Keep the rest same as Question 1. Five lines of code\n",
    "\n",
    "\n",
    "\n",
    "\n"
   ]
  },
  {
   "cell_type": "code",
   "execution_count": null,
   "id": "29b90ac8",
   "metadata": {},
   "outputs": [],
   "source": [
    "# Set parameters and train the model. Two lines of code\n",
    "\n"
   ]
  },
  {
   "cell_type": "code",
   "execution_count": null,
   "id": "ca471533",
   "metadata": {},
   "outputs": [],
   "source": [
    "# Validate against real data. One line of code\n"
   ]
  },
  {
   "cell_type": "markdown",
   "id": "6d298e36",
   "metadata": {},
   "source": [
    "# Effect of number of neurons"
   ]
  },
  {
   "cell_type": "code",
   "execution_count": null,
   "id": "28c1fd6a",
   "metadata": {},
   "outputs": [],
   "source": [
    "# Use one hidden layer. Increase the number of neurons to four times from question 1\n",
    "# Keep the rest same as Question 1. Five lines of code\n",
    "\n",
    "\n",
    "\n",
    "\n",
    "\n"
   ]
  },
  {
   "cell_type": "code",
   "execution_count": null,
   "id": "0fbc2cc1",
   "metadata": {},
   "outputs": [],
   "source": [
    "# Set parameters and train the model. Two lines of code\n",
    "\n"
   ]
  },
  {
   "cell_type": "code",
   "execution_count": null,
   "id": "b130ac9d",
   "metadata": {
    "scrolled": false
   },
   "outputs": [],
   "source": [
    "# Validate against real data. One line of code\n"
   ]
  },
  {
   "cell_type": "markdown",
   "id": "a807dd2e",
   "metadata": {},
   "source": [
    "# Solution 2c"
   ]
  },
  {
   "cell_type": "markdown",
   "id": "b289b6a3",
   "metadata": {},
   "source": [
    "# Train-test split effect"
   ]
  },
  {
   "cell_type": "code",
   "execution_count": null,
   "id": "13bdd882",
   "metadata": {},
   "outputs": [],
   "source": [
    "# Increase train set to 90%. Keep the rest same as Question 1. Five lines of code\n",
    "\n",
    "\n",
    "\n",
    "\n",
    "\n"
   ]
  },
  {
   "cell_type": "code",
   "execution_count": null,
   "id": "78b82648",
   "metadata": {},
   "outputs": [],
   "source": [
    "# Set parameters and train the model. Two lines of code\n",
    "\n"
   ]
  },
  {
   "cell_type": "code",
   "execution_count": null,
   "id": "c9952b2c",
   "metadata": {
    "scrolled": false
   },
   "outputs": [],
   "source": [
    "# Validate against real data. One line of code\n"
   ]
  },
  {
   "cell_type": "markdown",
   "id": "5b181b4c",
   "metadata": {},
   "source": [
    "# Effect of epochs"
   ]
  },
  {
   "cell_type": "code",
   "execution_count": null,
   "id": "e49bbc75",
   "metadata": {},
   "outputs": [],
   "source": [
    "# Set epochs to 10. Keep the rest same as Question 1. Five lines of code\n",
    "\n",
    "\n",
    "\n",
    "\n",
    "\n"
   ]
  },
  {
   "cell_type": "code",
   "execution_count": null,
   "id": "4570cf2b",
   "metadata": {},
   "outputs": [],
   "source": [
    "# Set parameters and train the model. Two lines of code\n",
    "\n"
   ]
  },
  {
   "cell_type": "code",
   "execution_count": null,
   "id": "d7150a2d",
   "metadata": {
    "scrolled": false
   },
   "outputs": [],
   "source": [
    "# Validate against real data. One line of code\n"
   ]
  },
  {
   "cell_type": "code",
   "execution_count": null,
   "id": "d5956a7e",
   "metadata": {},
   "outputs": [],
   "source": [
    "# Set epochs to 2000. Keep the rest same as Question 1. Five lines of code\n",
    "\n",
    "\n",
    "\n",
    "\n",
    "\n"
   ]
  },
  {
   "cell_type": "code",
   "execution_count": null,
   "id": "0d7be063",
   "metadata": {},
   "outputs": [],
   "source": [
    "# Set parameters and train the model. Two lines of code\n",
    "\n"
   ]
  },
  {
   "cell_type": "code",
   "execution_count": null,
   "id": "c34cd05e",
   "metadata": {
    "scrolled": false
   },
   "outputs": [],
   "source": [
    "# Validate against real data. One line of code\n"
   ]
  },
  {
   "cell_type": "markdown",
   "id": "20752633",
   "metadata": {},
   "source": [
    "# Effect of learning rate"
   ]
  },
  {
   "cell_type": "code",
   "execution_count": null,
   "id": "8cb1030a",
   "metadata": {},
   "outputs": [],
   "source": [
    "# Set learning rate to 0.1. Keep the rest same as Question 1. Five lines of code\n",
    "\n",
    "\n",
    "\n",
    "\n",
    "\n"
   ]
  },
  {
   "cell_type": "code",
   "execution_count": null,
   "id": "8c6548d4",
   "metadata": {},
   "outputs": [],
   "source": [
    "# Set parameters and train the model. Two lines of code\n",
    "\n"
   ]
  },
  {
   "cell_type": "code",
   "execution_count": null,
   "id": "5993ec24",
   "metadata": {
    "scrolled": false
   },
   "outputs": [],
   "source": [
    "# Validate against real data. One line of code\n"
   ]
  },
  {
   "cell_type": "code",
   "execution_count": null,
   "id": "a60f8fd3",
   "metadata": {},
   "outputs": [],
   "source": [
    "# Set learning rate to 0.001. Keep the rest same as Question 1. Five lines of code\n",
    "\n",
    "\n",
    "\n",
    "\n",
    "\n"
   ]
  },
  {
   "cell_type": "code",
   "execution_count": null,
   "id": "b7e3419b",
   "metadata": {},
   "outputs": [],
   "source": [
    "# Set parameters and train the model. Two lines of code\n",
    "\n"
   ]
  },
  {
   "cell_type": "code",
   "execution_count": null,
   "id": "43512124",
   "metadata": {
    "scrolled": false
   },
   "outputs": [],
   "source": [
    "# Validate against real data. One line of code\n"
   ]
  },
  {
   "cell_type": "markdown",
   "id": "c8b5f1ea",
   "metadata": {},
   "source": [
    "### Fill in the following table. Replace \"x\" with numerics. Specify Underfit or Overfit in comparison to against Original Solution unless until specified otherwise"
   ]
  },
  {
   "cell_type": "markdown",
   "id": "9c613953",
   "metadata": {},
   "source": [
    "- Note: Double-click to edit"
   ]
  },
  {
   "cell_type": "markdown",
   "id": "444ff656",
   "metadata": {},
   "source": [
    "| Parameter            | Test Loss   | Validation Error |                                  Comment       |\n",
    "| :---                 |    :----:   |      :----:      |                                           ---: |\n",
    "| Original Sol.        |     0.91    |       0.79       |                                   Best Solution|\n",
    "| Layers - Low         |     x.xx    |       x.xx       |                                Underfit/Overfit|\n",
    "| Neurons - High       |     x.xx    |       x.xx       |                                Underfit/Overfit|\n",
    "| Train-Test           |     x.xx    |       x.xx       |                                Underfit/Overfit|\n",
    "| Epochs - Low         |     x.xx    |       x.xx       |                                Underfit/Overfit|\n",
    "| Epochs - High        |     x.xx    |       x.xx       |                                Underfit/Overfit|\n",
    "| Learning Rate - Low  |     x.xx    |       x.xx       |                                Underfit/Overfit|"
   ]
  },
  {
   "cell_type": "markdown",
   "id": "1e208217",
   "metadata": {},
   "source": [
    "## Please add further comments below"
   ]
  },
  {
   "cell_type": "markdown",
   "id": "53282334",
   "metadata": {},
   "source": []
  }
 ],
 "metadata": {
  "kernelspec": {
   "display_name": "torch",
   "language": "python",
   "name": "torch"
  },
  "language_info": {
   "codemirror_mode": {
    "name": "ipython",
    "version": 3
   },
   "file_extension": ".py",
   "mimetype": "text/x-python",
   "name": "python",
   "nbconvert_exporter": "python",
   "pygments_lexer": "ipython3",
   "version": "3.10.6"
  }
 },
 "nbformat": 4,
 "nbformat_minor": 5
}
