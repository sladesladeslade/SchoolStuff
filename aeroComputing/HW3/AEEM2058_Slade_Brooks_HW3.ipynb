{
 "cells": [
  {
   "attachments": {},
   "cell_type": "markdown",
   "metadata": {},
   "source": [
    "### Slade Brooks\n",
    "##### brooksl@mail.uc.edu\n",
    "##### 02.03.2023\n",
    "# AeroComputing Assignment 2\n",
    "\n"
   ]
  },
  {
   "attachments": {},
   "cell_type": "markdown",
   "metadata": {},
   "source": [
    "# Part 1"
   ]
  },
  {
   "cell_type": "code",
   "execution_count": 2,
   "metadata": {},
   "outputs": [],
   "source": [
    "# import shtuff\n",
    "import matplotlib.pyplot as plt\n",
    "import numpy as np\n",
    "import time\n",
    "import pandas\n",
    "import sys\n",
    "\n",
    "# import custom modules\n",
    "sys.path.append(\"..//lib//\")\n",
    "import pyvot        # pivot direct methods\n",
    "import pyterative       # iterative new cool epic methods"
   ]
  },
  {
   "attachments": {},
   "cell_type": "markdown",
   "metadata": {},
   "source": [
    "# Part 2"
   ]
  },
  {
   "cell_type": "code",
   "execution_count": 10,
   "metadata": {},
   "outputs": [],
   "source": [
    "# define a and b\n",
    "a = np.zeros((20, 20), dtype=\"float64\")\n",
    "for i in range(20):\n",
    "    a[i, i] = 4.\n",
    "    if i < 19:\n",
    "        a[i, i+1] = -1.\n",
    "        a[i+1, i] = -1.\n",
    "a[0, 19] = 1.\n",
    "a[19, 0] = 1.\n",
    "\n",
    "b = np.zeros((20, 1), dtype=\"float64\")\n",
    "b[19, 0] = 100."
   ]
  }
 ],
 "metadata": {
  "kernelspec": {
   "display_name": "Python 3",
   "language": "python",
   "name": "python3"
  },
  "language_info": {
   "codemirror_mode": {
    "name": "ipython",
    "version": 3
   },
   "file_extension": ".py",
   "mimetype": "text/x-python",
   "name": "python",
   "nbconvert_exporter": "python",
   "pygments_lexer": "ipython3",
   "version": "3.9.15"
  },
  "orig_nbformat": 4,
  "vscode": {
   "interpreter": {
    "hash": "62b9e768f4e26a7d3fbfe82fbbe7c4951ab0ade90faf298251d0e0b972c474f0"
   }
  }
 },
 "nbformat": 4,
 "nbformat_minor": 2
}
