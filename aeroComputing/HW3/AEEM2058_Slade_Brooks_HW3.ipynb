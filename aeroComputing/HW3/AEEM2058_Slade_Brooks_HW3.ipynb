{
 "cells": [
  {
   "attachments": {},
   "cell_type": "markdown",
   "metadata": {},
   "source": [
    "### Slade Brooks\n",
    "##### brooksl@mail.uc.edu\n",
    "##### 02.03.2023\n",
    "# AeroComputing Assignment 2\n",
    "\n"
   ]
  },
  {
   "attachments": {},
   "cell_type": "markdown",
   "metadata": {},
   "source": [
    "# Part 1"
   ]
  },
  {
   "cell_type": "code",
   "execution_count": 1,
   "metadata": {},
   "outputs": [],
   "source": [
    "# import shtuff\n",
    "import matplotlib.pyplot as plt\n",
    "import numpy as np\n",
    "import time\n",
    "import pandas as pd\n",
    "import sys\n",
    "\n",
    "# import custom modules\n",
    "sys.path.append(\"..//lib//\")\n",
    "import pyvot        # pivot direct methods\n",
    "import pyterative       # iterative new cool epic methods"
   ]
  },
  {
   "attachments": {},
   "cell_type": "markdown",
   "metadata": {},
   "source": [
    "# Part 2"
   ]
  },
  {
   "cell_type": "code",
   "execution_count": 2,
   "metadata": {},
   "outputs": [],
   "source": [
    "# define a and b\n",
    "a = np.zeros((20, 20), dtype=\"float64\")\n",
    "for i in range(20):\n",
    "    a[i, i] = 4.\n",
    "    if i < 19:\n",
    "        a[i, i+1] = -1.\n",
    "        a[i+1, i] = -1.\n",
    "a[0, 19] = 1.\n",
    "a[19, 0] = 1.\n",
    "\n",
    "b = np.zeros((20, 1), dtype=\"float64\")\n",
    "b[19, 0] = 100."
   ]
  },
  {
   "cell_type": "code",
   "execution_count": 3,
   "metadata": {},
   "outputs": [
    {
     "name": "stdout",
     "output_type": "stream",
     "text": [
      "gauss: [[-7.73502692e+00]\n",
      " [-2.07259421e+00]\n",
      " [-5.55349941e-01]\n",
      " [-1.48805549e-01]\n",
      " [-3.98722562e-02]\n",
      " [-1.06834753e-02]\n",
      " [-2.86164518e-03]\n",
      " [-7.63105381e-04]\n",
      " [-1.90776345e-04]\n",
      " [-3.63138871e-20]\n",
      " [ 1.90776345e-04]\n",
      " [ 7.63105381e-04]\n",
      " [ 2.86164518e-03]\n",
      " [ 1.06834753e-02]\n",
      " [ 3.98722562e-02]\n",
      " [ 1.48805549e-01]\n",
      " [ 5.55349941e-01]\n",
      " [ 2.07259421e+00]\n",
      " [ 7.73502692e+00]\n",
      " [ 2.88675135e+01]]\n",
      "LU: [[-7.73502692e+00]\n",
      " [-2.07259421e+00]\n",
      " [-5.55349941e-01]\n",
      " [-1.48805549e-01]\n",
      " [-3.98722562e-02]\n",
      " [-1.06834753e-02]\n",
      " [-2.86164518e-03]\n",
      " [-7.63105381e-04]\n",
      " [-1.90776345e-04]\n",
      " [-3.63138871e-20]\n",
      " [ 1.90776345e-04]\n",
      " [ 7.63105381e-04]\n",
      " [ 2.86164518e-03]\n",
      " [ 1.06834753e-02]\n",
      " [ 3.98722562e-02]\n",
      " [ 1.48805549e-01]\n",
      " [ 5.55349941e-01]\n",
      " [ 2.07259421e+00]\n",
      " [ 7.73502692e+00]\n",
      " [ 2.88675135e+01]]\n",
      "cramer: [[-7.73502692e+00]\n",
      " [-2.07259421e+00]\n",
      " [-5.55349941e-01]\n",
      " [-1.48805549e-01]\n",
      " [-3.98722562e-02]\n",
      " [-1.06834753e-02]\n",
      " [-2.86164518e-03]\n",
      " [-7.63105381e-04]\n",
      " [-1.90776345e-04]\n",
      " [ 0.00000000e+00]\n",
      " [ 1.90776345e-04]\n",
      " [ 7.63105381e-04]\n",
      " [ 2.86164518e-03]\n",
      " [ 1.06834753e-02]\n",
      " [ 3.98722562e-02]\n",
      " [ 1.48805549e-01]\n",
      " [ 5.55349941e-01]\n",
      " [ 2.07259421e+00]\n",
      " [ 7.73502692e+00]\n",
      " [ 2.88675135e+01]]\n"
     ]
    }
   ],
   "source": [
    "# compute each of direct methods and time them\n",
    "\n",
    "# gauss pivot\n",
    "t0 = time.perf_counter()\n",
    "gauss = pyvot.gaussPivot(a.copy(), b.copy())\n",
    "gausstime = time.perf_counter() - t0\n",
    "# gauss residual\n",
    "gaussres = np.linalg.norm(np.dot(a.copy(), gauss) - b.copy())\n",
    "\n",
    "# LU\n",
    "t0 = time.perf_counter()\n",
    "LUcomp = pyvot.LUdecomp(a.copy())\n",
    "LUa, seq = LUcomp\n",
    "LUsolve = pyvot.LUsolve(LUa.copy(), b.copy(), seq.copy())\n",
    "LUtime = time.perf_counter() - t0\n",
    "# LU residual\n",
    "LUres = np.linalg.norm(np.dot(a.copy(), LUsolve) - b.copy())\n",
    "\n",
    "# cramer\n",
    "t0 = time.perf_counter()\n",
    "cramer = pyvot.cramer(a.copy(), b.copy())\n",
    "cramertime = time.perf_counter() - t0\n",
    "# cramer residual\n",
    "cramres = np.linalg.norm(np.dot(a.copy(), cramer) - b.copy())\n",
    "\n",
    "# print solutions\n",
    "print(\"gauss:\",gauss)\n",
    "print(\"LU:\",LUsolve)\n",
    "print(\"cramer:\",cramer)\n"
   ]
  },
  {
   "cell_type": "code",
   "execution_count": 4,
   "metadata": {},
   "outputs": [
    {
     "name": "stdout",
     "output_type": "stream",
     "text": [
      "\n",
      "Number of iterations = 21\n",
      "\n",
      "Relaxation factor = 1.097679755833418\n",
      "\n",
      "The solution is:\n",
      " [-7.73502692e+00 -2.07259421e+00 -5.55349941e-01 -1.48805549e-01\n",
      " -3.98722562e-02 -1.06834753e-02 -2.86164518e-03 -7.63105381e-04\n",
      " -1.90776345e-04  8.65000954e-14  1.90776346e-04  7.63105381e-04\n",
      "  2.86164518e-03  1.06834753e-02  3.98722562e-02  1.48805549e-01\n",
      "  5.55349941e-01  2.07259421e+00  7.73502692e+00  2.88675135e+01]\n"
     ]
    }
   ],
   "source": [
    "# define interEqs fxn for gaussSeidel\n",
    "def iterEqs(x, omega):\n",
    "    n = len(x)\n",
    "    x[0] = omega*(x[1] - x[n-1])/4.0 + (1.0 - omega)*x[0]\n",
    "    for i in range(1, n-1):\n",
    "        x[i] = omega*(x[i-1] + x[i+1])/4.0 + (1.0 - omega)*x[i]\n",
    "    x[n-1] = omega*(100. - x[0] + x[n-2])/4.0 \\\n",
    "        + (1.0 - omega)*x[n-1]\n",
    "    return x\n",
    "\n",
    "# do gaussSeidel method and time it\n",
    "x = np.zeros(20)        # because n = 20\n",
    "t0 = time.perf_counter()\n",
    "gaussSeidel,numIter,omega = pyterative.gaussSeidel(iterEqs,x)\n",
    "gaussSeideltime = time.perf_counter() - t0\n",
    "print(\"\\nNumber of iterations =\",numIter)\n",
    "print(\"\\nRelaxation factor =\",omega)\n",
    "print(\"\\nThe solution is:\\n\",gaussSeidel)\n",
    "\n",
    "# residual\n",
    "b = np.zeros(20)\n",
    "b[19] = 100.\n",
    "gaussSeidelres = np.linalg.norm(np.dot(a.copy(), gaussSeidel.copy()) - b.copy())"
   ]
  },
  {
   "cell_type": "code",
   "execution_count": 5,
   "metadata": {},
   "outputs": [
    {
     "name": "stdout",
     "output_type": "stream",
     "text": [
      "\n",
      "The solution is:\n",
      " [-7.73502692e+00 -2.07259421e+00 -5.55349941e-01 -1.48805549e-01\n",
      " -3.98722562e-02 -1.06834753e-02 -2.86164518e-03 -7.63105381e-04\n",
      " -1.90776345e-04  0.00000000e+00  1.90776345e-04  7.63105381e-04\n",
      "  2.86164518e-03  1.06834753e-02  3.98722562e-02  1.48805549e-01\n",
      "  5.55349941e-01  2.07259421e+00  7.73502692e+00  2.88675135e+01]\n",
      "\n",
      "Number of iterations = 9\n"
     ]
    }
   ],
   "source": [
    "# define Av for conj\n",
    "def Ax(v):\n",
    "    n = len(v)\n",
    "    Ax = np.zeros(n)\n",
    "    Ax[0] = 4.0*v[0] - v[1]+v[n-1]\n",
    "    Ax[1:n-1] = -v[0:n-2] + 4.0*v[1:n-1] -v[2:n]\n",
    "    Ax[n-1] = -v[n-2] + 4.0*v[n-1] + v[0]\n",
    "    return Ax\n",
    "\n",
    "# do conjGrad method and time it\n",
    "b = np.zeros(20)\n",
    "b[19] = 100.\n",
    "x = np.zeros(20)\n",
    "t0 = time.perf_counter()\n",
    "conjGrad,numIter = pyterative.conjGrad(Ax,x,b.copy())\n",
    "conjGradtime = time.perf_counter() - t0\n",
    "print(\"\\nThe solution is:\\n\",conjGrad)\n",
    "print(\"\\nNumber of iterations =\",numIter)\n",
    "\n",
    "# residual\n",
    "conjGradres = np.linalg.norm(np.dot(a.copy(), conjGrad.copy()) - b.copy())"
   ]
  },
  {
   "cell_type": "code",
   "execution_count": 6,
   "metadata": {},
   "outputs": [
    {
     "name": "stdout",
     "output_type": "stream",
     "text": [
      "               Method  Compute Time      Residual\n",
      "0         Gauss Pivot      0.003559  2.826729e-15\n",
      "1            LU Pivot      0.001153  2.826729e-15\n",
      "2              Cramer      0.019440  1.883435e-13\n",
      "3        Gauss-Seidel      0.000594  1.763285e-10\n",
      "4  Conjugate Gradient      0.001003  1.709849e-14\n"
     ]
    }
   ],
   "source": [
    "# create and print a table of the performance\n",
    "\n",
    "# make a dictionary of the values\n",
    "perf = {\"Method\": [\"Gauss Pivot\", \"LU Pivot\", \"Cramer\", \"Gauss-Seidel\", \"Conjugate Gradient\"],\n",
    "        \"Compute Time\": [gausstime, LUtime, cramertime, gaussSeideltime, conjGradtime],\n",
    "        \"Residual\": [gaussres, LUres, cramres, gaussSeidelres, conjGradres]}\n",
    "\n",
    "# create a pandas dataframe\n",
    "df = pd.DataFrame(perf)\n",
    "\n",
    "# output table\n",
    "print(df)"
   ]
  },
  {
   "attachments": {},
   "cell_type": "markdown",
   "metadata": {},
   "source": [
    "# Part 3"
   ]
  }
 ],
 "metadata": {
  "kernelspec": {
   "display_name": "Python 3",
   "language": "python",
   "name": "python3"
  },
  "language_info": {
   "codemirror_mode": {
    "name": "ipython",
    "version": 3
   },
   "file_extension": ".py",
   "mimetype": "text/x-python",
   "name": "python",
   "nbconvert_exporter": "python",
   "pygments_lexer": "ipython3",
   "version": "3.9.15"
  },
  "orig_nbformat": 4,
  "vscode": {
   "interpreter": {
    "hash": "62b9e768f4e26a7d3fbfe82fbbe7c4951ab0ade90faf298251d0e0b972c474f0"
   }
  }
 },
 "nbformat": 4,
 "nbformat_minor": 2
}
