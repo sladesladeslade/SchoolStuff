{
 "cells": [
  {
   "attachments": {},
   "cell_type": "markdown",
   "metadata": {},
   "source": [
    "### Slade Brooks\n",
    "##### brooksl@mail.uc.edu\n",
    "##### 02.03.2023\n",
    "# AeroComputing Assignment 2\n",
    "\n"
   ]
  },
  {
   "attachments": {},
   "cell_type": "markdown",
   "metadata": {},
   "source": [
    "# Part 1"
   ]
  },
  {
   "cell_type": "code",
   "execution_count": 2,
   "metadata": {},
   "outputs": [],
   "source": [
    "# import shtuff\n",
    "import matplotlib.pyplot as plt\n",
    "import numpy as np\n",
    "import time\n",
    "import pandas\n",
    "import sys\n",
    "\n",
    "# import custom modules\n",
    "sys.path.append(\"..//lib//\")\n",
    "import pyvot        # pivot direct methods\n",
    "import pyterative       # iterative new cool epic methods"
   ]
  },
  {
   "attachments": {},
   "cell_type": "markdown",
   "metadata": {},
   "source": [
    "# Part 2"
   ]
  },
  {
   "cell_type": "code",
   "execution_count": 10,
   "metadata": {},
   "outputs": [],
   "source": [
    "# define a and b\n",
    "a = np.zeros((20, 20), dtype=\"float64\")\n",
    "for i in range(20):\n",
    "    a[i, i] = 4.\n",
    "    if i < 19:\n",
    "        a[i, i+1] = -1.\n",
    "        a[i+1, i] = -1.\n",
    "a[0, 19] = 1.\n",
    "a[19, 0] = 1.\n",
    "\n",
    "b = np.zeros((20, 1), dtype=\"float64\")\n",
    "b[19, 0] = 100."
   ]
  },
  {
   "cell_type": "code",
   "execution_count": null,
   "metadata": {},
   "outputs": [],
   "source": [
    "# compute each of direct methods"
   ]
  },
  {
   "cell_type": "code",
   "execution_count": 11,
   "metadata": {},
   "outputs": [
    {
     "name": "stdout",
     "output_type": "stream",
     "text": [
      "\n",
      "Number of iterations = 21\n",
      "\n",
      "Relaxation factor = 1.097679755833418\n",
      "\n",
      "The solution is:\n",
      " [-7.73502692e+00 -2.07259421e+00 -5.55349941e-01 -1.48805549e-01\n",
      " -3.98722562e-02 -1.06834753e-02 -2.86164518e-03 -7.63105381e-04\n",
      " -1.90776345e-04  8.65000954e-14  1.90776346e-04  7.63105381e-04\n",
      "  2.86164518e-03  1.06834753e-02  3.98722562e-02  1.48805549e-01\n",
      "  5.55349941e-01  2.07259421e+00  7.73502692e+00  2.88675135e+01]\n"
     ]
    }
   ],
   "source": [
    "# define interEqs fxn for gauss\n",
    "def iterEqs(x, omega):\n",
    "    n = len(x)\n",
    "    x[0] = omega*(x[1] - x[n-1])/4.0 + (1.0 - omega)*x[0]\n",
    "    for i in range(1, n-1):\n",
    "        x[i] = omega*(x[i-1] + x[i+1])/4.0 + (1.0 - omega)*x[i]\n",
    "    x[n-1] = omega*(100. - x[0] + x[n-2])/4.0 \\\n",
    "        + (1.0 - omega)*x[n-1]\n",
    "    return x\n",
    "\n",
    "# do gaussSeidel method\n",
    "x = np.zeros(20)        # because n = 20\n",
    "x,numIter,omega = pyterative.gaussSeidel(iterEqs,x)\n",
    "print(\"\\nNumber of iterations =\",numIter)\n",
    "print(\"\\nRelaxation factor =\",omega)\n",
    "print(\"\\nThe solution is:\\n\",x)"
   ]
  }
 ],
 "metadata": {
  "kernelspec": {
   "display_name": "Python 3",
   "language": "python",
   "name": "python3"
  },
  "language_info": {
   "codemirror_mode": {
    "name": "ipython",
    "version": 3
   },
   "file_extension": ".py",
   "mimetype": "text/x-python",
   "name": "python",
   "nbconvert_exporter": "python",
   "pygments_lexer": "ipython3",
   "version": "3.9.15"
  },
  "orig_nbformat": 4,
  "vscode": {
   "interpreter": {
    "hash": "62b9e768f4e26a7d3fbfe82fbbe7c4951ab0ade90faf298251d0e0b972c474f0"
   }
  }
 },
 "nbformat": 4,
 "nbformat_minor": 2
}
