{
 "cells": [
  {
   "attachments": {},
   "cell_type": "markdown",
   "metadata": {},
   "source": [
    "### Slade Brooks\n",
    "##### brooksl@mail.uc.edu\n",
    "##### 02.03.2023\n",
    "# AeroComputing Assignment 2\n",
    "\n"
   ]
  },
  {
   "attachments": {},
   "cell_type": "markdown",
   "metadata": {},
   "source": [
    "# Part 1"
   ]
  },
  {
   "cell_type": "code",
   "execution_count": 2,
   "metadata": {},
   "outputs": [],
   "source": [
    "# import shtuff\n",
    "import matplotlib.pyplot as plt\n",
    "import numpy as np\n",
    "import time\n",
    "import pandas as pd\n",
    "import sys\n",
    "\n",
    "# import custom modules\n",
    "sys.path.append(\"..//lib//\")\n",
    "import pyvot        # pivot direct methods"
   ]
  },
  {
   "attachments": {},
   "cell_type": "markdown",
   "metadata": {},
   "source": [
    "# Part 2"
   ]
  },
  {
   "cell_type": "code",
   "execution_count": 3,
   "metadata": {},
   "outputs": [],
   "source": [
    "# define a and b\n",
    "a = np.zeros((20, 20), dtype=\"float64\")\n",
    "for i in range(20):\n",
    "    a[i, i] = 4.\n",
    "    if i < 19:\n",
    "        a[i, i+1] = -1.\n",
    "        a[i+1, i] = -1.\n",
    "a[0, 19] = 1.\n",
    "a[19, 0] = 1.\n",
    "\n",
    "b = np.zeros((20, 1), dtype=\"float64\")\n",
    "b[19, 0] = 100."
   ]
  },
  {
   "cell_type": "code",
   "execution_count": 4,
   "metadata": {},
   "outputs": [
    {
     "name": "stdout",
     "output_type": "stream",
     "text": [
      "gauss: [[-7.73502692e+00]\n",
      " [-2.07259421e+00]\n",
      " [-5.55349941e-01]\n",
      " [-1.48805549e-01]\n",
      " [-3.98722562e-02]\n",
      " [-1.06834753e-02]\n",
      " [-2.86164518e-03]\n",
      " [-7.63105381e-04]\n",
      " [-1.90776345e-04]\n",
      " [-3.63138871e-20]\n",
      " [ 1.90776345e-04]\n",
      " [ 7.63105381e-04]\n",
      " [ 2.86164518e-03]\n",
      " [ 1.06834753e-02]\n",
      " [ 3.98722562e-02]\n",
      " [ 1.48805549e-01]\n",
      " [ 5.55349941e-01]\n",
      " [ 2.07259421e+00]\n",
      " [ 7.73502692e+00]\n",
      " [ 2.88675135e+01]]\n",
      "LU: [[-7.73502692e+00]\n",
      " [-2.07259421e+00]\n",
      " [-5.55349941e-01]\n",
      " [-1.48805549e-01]\n",
      " [-3.98722562e-02]\n",
      " [-1.06834753e-02]\n",
      " [-2.86164518e-03]\n",
      " [-7.63105381e-04]\n",
      " [-1.90776345e-04]\n",
      " [-3.63138871e-20]\n",
      " [ 1.90776345e-04]\n",
      " [ 7.63105381e-04]\n",
      " [ 2.86164518e-03]\n",
      " [ 1.06834753e-02]\n",
      " [ 3.98722562e-02]\n",
      " [ 1.48805549e-01]\n",
      " [ 5.55349941e-01]\n",
      " [ 2.07259421e+00]\n",
      " [ 7.73502692e+00]\n",
      " [ 2.88675135e+01]]\n",
      "cramer: [[-7.73502692e+00]\n",
      " [-2.07259421e+00]\n",
      " [-5.55349941e-01]\n",
      " [-1.48805549e-01]\n",
      " [-3.98722562e-02]\n",
      " [-1.06834753e-02]\n",
      " [-2.86164518e-03]\n",
      " [-7.63105381e-04]\n",
      " [-1.90776345e-04]\n",
      " [ 0.00000000e+00]\n",
      " [ 1.90776345e-04]\n",
      " [ 7.63105381e-04]\n",
      " [ 2.86164518e-03]\n",
      " [ 1.06834753e-02]\n",
      " [ 3.98722562e-02]\n",
      " [ 1.48805549e-01]\n",
      " [ 5.55349941e-01]\n",
      " [ 2.07259421e+00]\n",
      " [ 7.73502692e+00]\n",
      " [ 2.88675135e+01]]\n"
     ]
    }
   ],
   "source": [
    "# compute each of direct methods and time them\n",
    "\n",
    "# gauss pivot\n",
    "t0 = time.perf_counter()\n",
    "gauss = pyvot.gaussPivot(a.copy(), b.copy())\n",
    "gausstime = time.perf_counter() - t0\n",
    "# gauss residual\n",
    "gaussres = np.linalg.norm(np.dot(a.copy(), gauss) - b.copy())\n",
    "\n",
    "# LU\n",
    "t0 = time.perf_counter()\n",
    "LUcomp = pyvot.LUdecomp(a.copy())\n",
    "LUa, seq = LUcomp\n",
    "LUsolve = pyvot.LUsolve(LUa.copy(), b.copy(), seq.copy())\n",
    "LUtime = time.perf_counter() - t0\n",
    "# LU residual\n",
    "LUres = np.linalg.norm(np.dot(a.copy(), LUsolve) - b.copy())\n",
    "\n",
    "# cramer\n",
    "t0 = time.perf_counter()\n",
    "cramer = pyvot.cramer(a.copy(), b.copy())\n",
    "cramertime = time.perf_counter() - t0\n",
    "# cramer residual\n",
    "cramres = np.linalg.norm(np.dot(a.copy(), cramer) - b.copy())\n",
    "\n",
    "# print solutions\n",
    "print(\"gauss:\",gauss)\n",
    "print(\"LU:\",LUsolve)\n",
    "print(\"cramer:\",cramer)\n"
   ]
  },
  {
   "cell_type": "code",
   "execution_count": 5,
   "metadata": {},
   "outputs": [
    {
     "name": "stdout",
     "output_type": "stream",
     "text": [
      "\n",
      "Number of iterations = 21\n",
      "\n",
      "Relaxation factor = 1.097679755833418\n",
      "\n",
      "The solution is:\n",
      " [-7.73502692e+00 -2.07259421e+00 -5.55349941e-01 -1.48805549e-01\n",
      " -3.98722562e-02 -1.06834753e-02 -2.86164518e-03 -7.63105381e-04\n",
      " -1.90776345e-04  8.65000954e-14  1.90776346e-04  7.63105381e-04\n",
      "  2.86164518e-03  1.06834753e-02  3.98722562e-02  1.48805549e-01\n",
      "  5.55349941e-01  2.07259421e+00  7.73502692e+00  2.88675135e+01]\n"
     ]
    }
   ],
   "source": [
    "# define interEqs fxn for gaussSeidel\n",
    "def iterEqs(x, omega):\n",
    "    n = len(x)\n",
    "    x[0] = omega*(x[1] - x[n-1])/4.0 + (1.0 - omega)*x[0]\n",
    "    for i in range(1, n-1):\n",
    "        x[i] = omega*(x[i-1] + x[i+1])/4.0 + (1.0 - omega)*x[i]\n",
    "    x[n-1] = omega*(100. - x[0] + x[n-2])/4.0 \\\n",
    "        + (1.0 - omega)*x[n-1]\n",
    "    return x\n",
    "\n",
    "# do gaussSeidel method and time it\n",
    "x = np.zeros(20)        # because n = 20\n",
    "t0 = time.perf_counter()\n",
    "gaussSeidel,numIter,omega = pyvot.gaussSeidel(iterEqs,x)\n",
    "gaussSeideltime = time.perf_counter() - t0\n",
    "print(\"\\nNumber of iterations =\",numIter)\n",
    "print(\"\\nRelaxation factor =\",omega)\n",
    "print(\"\\nThe solution is:\\n\",gaussSeidel)\n",
    "\n",
    "# residual\n",
    "b = np.zeros(20)\n",
    "b[19] = 100.\n",
    "gaussSeidelres = np.linalg.norm(np.dot(a.copy(), gaussSeidel.copy()) - b.copy())"
   ]
  },
  {
   "cell_type": "code",
   "execution_count": 6,
   "metadata": {},
   "outputs": [
    {
     "name": "stdout",
     "output_type": "stream",
     "text": [
      "\n",
      "The solution is:\n",
      " [-7.73502692e+00 -2.07259421e+00 -5.55349941e-01 -1.48805549e-01\n",
      " -3.98722562e-02 -1.06834753e-02 -2.86164518e-03 -7.63105381e-04\n",
      " -1.90776345e-04  0.00000000e+00  1.90776345e-04  7.63105381e-04\n",
      "  2.86164518e-03  1.06834753e-02  3.98722562e-02  1.48805549e-01\n",
      "  5.55349941e-01  2.07259421e+00  7.73502692e+00  2.88675135e+01]\n",
      "\n",
      "Number of iterations = 9\n"
     ]
    }
   ],
   "source": [
    "# define Av for conj\n",
    "def Ax(v):\n",
    "    n = len(v)\n",
    "    Ax = np.zeros(n)\n",
    "    Ax[0] = 4.0*v[0] - v[1]+v[n-1]\n",
    "    Ax[1:n-1] = -v[0:n-2] + 4.0*v[1:n-1] -v[2:n]\n",
    "    Ax[n-1] = -v[n-2] + 4.0*v[n-1] + v[0]\n",
    "    return Ax\n",
    "\n",
    "# do conjGrad method and time it\n",
    "b = np.zeros(20)\n",
    "b[19] = 100.\n",
    "x = np.zeros(20)\n",
    "t0 = time.perf_counter()\n",
    "conjGrad,numIter = pyvot.conjGrad(Ax,x,b.copy())\n",
    "conjGradtime = time.perf_counter() - t0\n",
    "print(\"\\nThe solution is:\\n\",conjGrad)\n",
    "print(\"\\nNumber of iterations =\",numIter)\n",
    "\n",
    "# residual\n",
    "conjGradres = np.linalg.norm(np.dot(a.copy(), conjGrad.copy()) - b.copy())"
   ]
  },
  {
   "cell_type": "code",
   "execution_count": 7,
   "metadata": {},
   "outputs": [
    {
     "name": "stdout",
     "output_type": "stream",
     "text": [
      "               Method  Compute Time      Residual\n",
      "0         Gauss Pivot      0.001545  2.826729e-15\n",
      "1            LU Pivot      0.000490  2.826729e-15\n",
      "2              Cramer      0.008525  1.883435e-13\n",
      "3        Gauss-Seidel      0.000428  1.763285e-10\n",
      "4  Conjugate Gradient      0.000319  1.709849e-14\n"
     ]
    }
   ],
   "source": [
    "# create and print a table of the performance\n",
    "\n",
    "# make a dictionary of the values\n",
    "perf = {\"Method\": [\"Gauss Pivot\", \"LU Pivot\", \"Cramer\", \"Gauss-Seidel\", \"Conjugate Gradient\"],\n",
    "        \"Compute Time\": [gausstime, LUtime, cramertime, gaussSeideltime, conjGradtime],\n",
    "        \"Residual\": [gaussres, LUres, cramres, gaussSeidelres, conjGradres]}\n",
    "\n",
    "# create a pandas dataframe\n",
    "df = pd.DataFrame(perf)\n",
    "\n",
    "# output table\n",
    "print(df)"
   ]
  },
  {
   "cell_type": "code",
   "execution_count": 8,
   "metadata": {},
   "outputs": [
    {
     "data": {
      "image/png": "[encoded data removed]",
      "text/plain": [
       "<Figure size 640x480 with 1 Axes>"
      ]
     },
     "metadata": {},
     "output_type": "display_data"
    }
   ],
   "source": [
    "# make a plot of performance also\n",
    "\n",
    "plt.bar((\"Gauss Pivot\",\"LU Pivot\",\"Cramer\",\"Gauss-Seidel\",\"Conj Grad\"),(gausstime,LUtime,cramertime,gaussSeideltime,conjGradtime))\n",
    "plt.ylabel(\"Compute Time (s)\")\n",
    "plt.xlabel(\"Method\")\n",
    "plt.title(\"Performance of Each Method\")\n",
    "plt.show()"
   ]
  },
  {
   "attachments": {},
   "cell_type": "markdown",
   "metadata": {},
   "source": [
    "We can see from the above table that for the sparse matrix, the direct methods typically take the longest. This makes sense because the iterative methods are made for solving sparse matrices and should be faster. Sometimes the compute times are similar or backwards to expectations, but I think that is due to variation when the code runs and the small matrix size makes the methods take a similar amount of time."
   ]
  },
  {
   "attachments": {},
   "cell_type": "markdown",
   "metadata": {},
   "source": [
    "# Part 3"
   ]
  },
  {
   "cell_type": "code",
   "execution_count": 9,
   "metadata": {},
   "outputs": [],
   "source": [
    "# define fxn to create matrix for T thing from Dr. O code\n",
    "\n",
    "def Ax2(T) :\n",
    "    n = len(T)\n",
    "    # create mesh\n",
    "    Ax = np.zeros(n)\n",
    "\n",
    "    # for indexing\n",
    "    m = int(np.sqrt(n))\n",
    "\n",
    "    # first vals\n",
    "    Ax[0] = -4.0*T[0] + T[1] + T[m]\n",
    "\n",
    "    # repeated vals\n",
    "    for k in range(1, m - 1):\n",
    "        Ax[k] = T[k - 1]-4.0*T[k] + T[k + 1] + T[k + m]\n",
    "    k = m - 1\n",
    "    \n",
    "    #constant val\n",
    "    Ax[k] = T[m - 2] - 4.0*T[m - 1] + T[2*m - 1]\n",
    "\n",
    "    # surrounding points\n",
    "    for i in range (1, m - 1):\n",
    "        k = i*m\n",
    "\n",
    "        # set p2\n",
    "        Ax[k] = T[k - m] - 4.0*T[k] + T[k + 1] + T[k + m]\n",
    "        for j in range(1, m - 1):\n",
    "            k = i*m + j\n",
    "            # set p3\n",
    "            Ax[k] = T[k - m] + T[k - 1] - 4.0*T[k] + T[k + 1] + T[k + m]\n",
    "        k = (i + 1)*m - 1\n",
    "        Ax[k] = T[k - m] + T[k - 1] - 4.0*T[k] + T[k + m]\n",
    "        k = (m - 1)*m\n",
    "        Ax[k] = T[k - m] - 4.0*T[k] + T[k + 1]\n",
    "        for j in range (1, m - 1):\n",
    "            k = (m - 1)*m + j\n",
    "            Ax[k] = T[k - m] + T[k - 1] - 4.0*T[k] + T[k + 1]\n",
    "        k = m**2 - 1\n",
    "        Ax[k] = T[k - m] + T[k - 1] - 4.0*T[k]\n",
    "\n",
    "    # return mesh\n",
    "    return Ax"
   ]
  },
  {
   "attachments": {},
   "cell_type": "markdown",
   "metadata": {},
   "source": [
    "## Part A"
   ]
  },
  {
   "cell_type": "code",
   "execution_count": 10,
   "metadata": {},
   "outputs": [
    {
     "name": "stdout",
     "output_type": "stream",
     "text": [
      "\n",
      "The solution is:\n",
      " [ 21.42857143  38.39285714  57.14285714  47.32142857  75.\n",
      "  90.17857143  92.85714286 124.10714286 128.57142857]\n",
      "\n",
      "Number of iterations = 4\n"
     ]
    }
   ],
   "source": [
    "# solve problem with conjgrad and n=9\n",
    "\n",
    "# create b for the problem\n",
    "b9 = np.array([0, 0, -100, 0, -0, -100, -200, -200, -300],dtype=\"float64\")\n",
    "\n",
    "# create empty x\n",
    "x9 = np.zeros(9)\n",
    "\n",
    "# compute conjgrad\n",
    "t0 = time.perf_counter()\n",
    "conjGrad9,numIter9 = pyvot.conjGrad(Ax2,x9,b9.copy())\n",
    "conjGradtime9 = time.perf_counter() - t0\n",
    "print(\"\\nThe solution is:\\n\",conjGrad9)\n",
    "print(\"\\nNumber of iterations =\",numIter9)"
   ]
  },
  {
   "attachments": {},
   "cell_type": "markdown",
   "metadata": {},
   "source": [
    "## Part B"
   ]
  },
  {
   "cell_type": "code",
   "execution_count": 11,
   "metadata": {},
   "outputs": [
    {
     "data": {
      "image/png": "[encoded data removed]",
      "text/plain": [
       "<Figure size 640x480 with 2 Axes>"
      ]
     },
     "metadata": {},
     "output_type": "display_data"
    }
   ],
   "source": [
    "# reshape conjGrad output to be a 2D array\n",
    "conjGrad9 = conjGrad9.reshape([3, 3])\n",
    "\n",
    "# set up an xy grid to plot with\n",
    "x = np.arange(1, 4)\n",
    "y = x\n",
    "\n",
    "# plot contour plot with magma because scary ooh\n",
    "plt.contourf(x, y, conjGrad9, cmap=\"magma\")\n",
    "# invert axis to match problem diagram\n",
    "plt.gca().invert_yaxis()\n",
    "# formatting b/c yay\n",
    "plt.xlabel(\"X Location\")\n",
    "plt.ylabel(\"Y Location\")\n",
    "plt.title(\"Temperature Gradient (9x9)\")\n",
    "plt.colorbar(label=\"Temp (deg)\")\n",
    "plt.show()"
   ]
  },
  {
   "attachments": {},
   "cell_type": "markdown",
   "metadata": {},
   "source": [
    "## Part C"
   ]
  },
  {
   "cell_type": "code",
   "execution_count": 51,
   "metadata": {},
   "outputs": [],
   "source": [
    "# define function to create b for the n=40\n",
    "\n",
    "def createB(n):\n",
    "    # create array of long length\n",
    "    # im doing 2d and then reshaping because its hard to visualize\n",
    "    b40 = np.zeros((n, n), dtype=\"float64\")\n",
    "\n",
    "    # only need to do right side and bottom side and corner\n",
    "\n",
    "    # set corner\n",
    "    b40[n-1, n-1] = -300\n",
    "\n",
    "    # go down right side except for last point\n",
    "    for i in range(0, n-1):\n",
    "        # go along bottom side except for last point\n",
    "        for j in range(0, n-1):\n",
    "            b40[i, n-1] = -100\n",
    "            b40[n-1, j] = -200\n",
    "\n",
    "    # reshape b to be 1D\n",
    "    b40 = b40.flatten()\n",
    "\n",
    "    return b40"
   ]
  },
  {
   "cell_type": "code",
   "execution_count": 52,
   "metadata": {},
   "outputs": [
    {
     "name": "stdout",
     "output_type": "stream",
     "text": [
      "\n",
      "The solution is:\n",
      " [  0.19542558   0.39045122   0.58468687 ... 178.47384242 169.3741811\n",
      " 149.80457442]\n",
      "\n",
      "Number of iterations = 139\n"
     ]
    }
   ],
   "source": [
    "# solve 40x40 with conjgrad\n",
    "\n",
    "# create b array with function\n",
    "b40 = createB(n=40)\n",
    "\n",
    "# create empty x of n=40\n",
    "x40 = np.zeros(1600)\n",
    "\n",
    "# compute conjgrad\n",
    "t0 = time.perf_counter()\n",
    "conjGrad40,numIter40 = pyvot.conjGrad(Ax2,x40,b40.copy())\n",
    "conjGradtime40 = time.perf_counter() - t0\n",
    "print(\"\\nThe solution is:\\n\",conjGrad40)\n",
    "print(\"\\nNumber of iterations =\",numIter40)"
   ]
  },
  {
   "attachments": {},
   "cell_type": "markdown",
   "metadata": {},
   "source": [
    "### Part C.i"
   ]
  },
  {
   "cell_type": "code",
   "execution_count": null,
   "metadata": {},
   "outputs": [],
   "source": [
    "# visualize both meshes"
   ]
  },
  {
   "attachments": {},
   "cell_type": "markdown",
   "metadata": {},
   "source": [
    "### Part C.ii"
   ]
  },
  {
   "cell_type": "code",
   "execution_count": null,
   "metadata": {},
   "outputs": [],
   "source": [
    "# compare performance"
   ]
  },
  {
   "cell_type": "code",
   "execution_count": null,
   "metadata": {},
   "outputs": [],
   "source": [
    "# assess order of operations??????????????"
   ]
  }
 ],
 "metadata": {
  "kernelspec": {
   "display_name": "Python 3",
   "language": "python",
   "name": "python3"
  },
  "language_info": {
   "codemirror_mode": {
    "name": "ipython",
    "version": 3
   },
   "file_extension": ".py",
   "mimetype": "text/x-python",
   "name": "python",
   "nbconvert_exporter": "python",
   "pygments_lexer": "ipython3",
   "version": "3.9.15"
  },
  "orig_nbformat": 4,
  "vscode": {
   "interpreter": {
    "hash": "62b9e768f4e26a7d3fbfe82fbbe7c4951ab0ade90faf298251d0e0b972c474f0"
   }
  }
 },
 "nbformat": 4,
 "nbformat_minor": 2
}
