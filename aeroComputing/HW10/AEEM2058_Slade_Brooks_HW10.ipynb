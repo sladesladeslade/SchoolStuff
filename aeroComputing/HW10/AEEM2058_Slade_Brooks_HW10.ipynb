{
 "cells": [
  {
   "attachments": {},
   "cell_type": "markdown",
   "metadata": {},
   "source": [
    "### Slade Brooks\n",
    "##### brooksl@mail.uc.edu\n",
    "##### 04.07.2023\n",
    "# AeroComputing Assignment 10\n",
    "\n",
    "This code computes eigensystems."
   ]
  },
  {
   "cell_type": "code",
   "execution_count": 45,
   "metadata": {},
   "outputs": [],
   "source": [
    "# import stuff\n",
    "import numpy as np"
   ]
  },
  {
   "attachments": {},
   "cell_type": "markdown",
   "metadata": {},
   "source": [
    "# Matrix A"
   ]
  },
  {
   "cell_type": "code",
   "execution_count": 46,
   "metadata": {},
   "outputs": [],
   "source": [
    "# define matrix A\n",
    "A = np.array([[5, 3, 0, 0, 0],\n",
    "              [0, 5, 0, 0, 0],\n",
    "              [0, 0, 5, 0, 0],\n",
    "              [0, 0, 0, 5, 1],\n",
    "              [0, 0, 0, 0, 5]])"
   ]
  },
  {
   "cell_type": "code",
   "execution_count": 47,
   "metadata": {},
   "outputs": [
    {
     "name": "stdout",
     "output_type": "stream",
     "text": [
      "The eigenvalues are:  [5. 5. 5. 5. 5.]\n",
      "The eigenvectors are:  [[ 1.00000000e+00 -1.00000000e+00  0.00000000e+00  0.00000000e+00\n",
      "   0.00000000e+00]\n",
      " [ 0.00000000e+00  3.70074342e-16  0.00000000e+00  0.00000000e+00\n",
      "   0.00000000e+00]\n",
      " [ 0.00000000e+00  0.00000000e+00  1.00000000e+00  0.00000000e+00\n",
      "   0.00000000e+00]\n",
      " [ 0.00000000e+00  0.00000000e+00  0.00000000e+00  1.00000000e+00\n",
      "  -1.00000000e+00]\n",
      " [ 0.00000000e+00  0.00000000e+00  0.00000000e+00  0.00000000e+00\n",
      "   1.11022302e-15]]\n"
     ]
    }
   ],
   "source": [
    "# compute eigensystem\n",
    "[vals, vecs] = np.linalg.eig(A)\n",
    "\n",
    "print(\"The eigenvalues are: \", vals)\n",
    "print(\"The eigenvectors are: \", vecs)"
   ]
  },
  {
   "cell_type": "code",
   "execution_count": 48,
   "metadata": {},
   "outputs": [
    {
     "name": "stdout",
     "output_type": "stream",
     "text": [
      "[0. 0. 0. 0. 0.]\n",
      "[8.8817842e-16 0.0000000e+00 0.0000000e+00 0.0000000e+00 0.0000000e+00]\n",
      "[0. 0. 0. 0. 0.]\n",
      "[0. 0. 0. 0. 0.]\n",
      "[0.0000000e+00 0.0000000e+00 0.0000000e+00 8.8817842e-16 0.0000000e+00]\n"
     ]
    }
   ],
   "source": [
    "# verify eigensystem - Ax = lambdax for each vector/value (x vector, labmda value)\n",
    "for i in range(len(A)):\n",
    "    Ax = np.dot(A.copy(), vecs[:,i])\n",
    "    lambdax = np.dot(vals[i], vecs[:,i])\n",
    "    print(Ax - lambdax)"
   ]
  },
  {
   "attachments": {},
   "cell_type": "markdown",
   "metadata": {},
   "source": [
    "An eigensystem is defined as Ax = lambdax where x is an eigenvector and lambda is the corresponding eigenvalue. We can verify the solution by showing that Ax-lambdax is 0 for each eigenvector/value combination."
   ]
  },
  {
   "attachments": {},
   "cell_type": "markdown",
   "metadata": {},
   "source": [
    "# Matrix B"
   ]
  },
  {
   "cell_type": "code",
   "execution_count": 49,
   "metadata": {},
   "outputs": [],
   "source": [
    "# define B matrix\n",
    "B = np.array([[51, 2, 3, 5, 7, 11],\n",
    "              [1, 52, 3, 5, 7, 11],\n",
    "              [1, 2, 53, 5, 7, 11],\n",
    "              [1, 2, 3, 55, 7, 11],\n",
    "              [1, 2, 3, 5, 57, 11],\n",
    "              [1, 2, 3, 5, 7, 61]])"
   ]
  },
  {
   "cell_type": "code",
   "execution_count": 50,
   "metadata": {},
   "outputs": [
    {
     "name": "stdout",
     "output_type": "stream",
     "text": [
      "The eigenvalues are:  [50. 79. 50. 50. 50. 50.]\n",
      "The eigenvectors are:  [[-0.9968264   0.40824829 -0.13808215 -0.03161848  0.20684395 -0.17524922]\n",
      " [ 0.03560094  0.40824829  0.6964458  -0.31475671  0.6739762  -0.28686365]\n",
      " [ 0.03560094  0.40824829  0.10249803  0.9249406   0.3945283  -0.22250713]\n",
      " [ 0.03560094  0.40824829 -0.68145361 -0.18985152  0.44267549 -0.25362209]\n",
      " [ 0.03560094  0.40824829  0.10249803 -0.06469068 -0.27509771 -0.61066133]\n",
      " [ 0.03560094  0.40824829  0.10249803 -0.06469068 -0.27509771  0.63265797]]\n"
     ]
    }
   ],
   "source": [
    "# compute eigensystem\n",
    "[vals, vecs] = np.linalg.eig(B)\n",
    "\n",
    "print(\"The eigenvalues are: \", vals)\n",
    "print(\"The eigenvectors are: \", vecs)"
   ]
  },
  {
   "cell_type": "code",
   "execution_count": 51,
   "metadata": {},
   "outputs": [
    {
     "name": "stdout",
     "output_type": "stream",
     "text": [
      "[ 0.00000000e+00 -4.44089210e-16 -2.22044605e-16 -2.22044605e-16\n",
      " -4.44089210e-16 -4.44089210e-16]\n",
      "[0. 0. 0. 0. 0. 0.]\n",
      "[ 2.66453526e-15 -7.10542736e-15  0.00000000e+00  7.10542736e-15\n",
      "  8.88178420e-16  8.88178420e-16]\n",
      "[-1.33226763e-15  1.06581410e-14 -4.26325641e-14  5.32907052e-15\n",
      "  0.00000000e+00  0.00000000e+00]\n",
      "[-1.77635684e-15  1.42108547e-14  0.00000000e+00  3.55271368e-15\n",
      " -1.59872116e-14 -1.77635684e-14]\n",
      "[ 3.55271368e-15  1.77635684e-15  1.77635684e-15  3.55271368e-15\n",
      " -3.55271368e-15  7.10542736e-15]\n"
     ]
    }
   ],
   "source": [
    "# verify eigensystem - Ax = lambdax for each vector/value (x vector, labmda value)\n",
    "for i in range(len(B)):\n",
    "    Bx = np.dot(B.copy(), vecs[:,i])\n",
    "    lambdax = np.dot(vals[i], vecs[:,i])\n",
    "    print(Bx - lambdax)"
   ]
  },
  {
   "attachments": {},
   "cell_type": "markdown",
   "metadata": {},
   "source": [
    "An eigensystem is defined as Bx = lambdax where x is an eigenvector and lambda is the corresponding eigenvalue. We can verify the solution by showing that Bx-lambdax is 0 for each eigenvector/value combination."
   ]
  }
 ],
 "metadata": {
  "kernelspec": {
   "display_name": "Python 3",
   "language": "python",
   "name": "python3"
  },
  "language_info": {
   "codemirror_mode": {
    "name": "ipython",
    "version": 3
   },
   "file_extension": ".py",
   "mimetype": "text/x-python",
   "name": "python",
   "nbconvert_exporter": "python",
   "pygments_lexer": "ipython3",
   "version": "3.9.15"
  },
  "orig_nbformat": 4
 },
 "nbformat": 4,
 "nbformat_minor": 2
}
