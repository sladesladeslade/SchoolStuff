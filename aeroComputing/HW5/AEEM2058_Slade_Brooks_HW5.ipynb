{
 "cells": [
  {
   "attachments": {},
   "cell_type": "markdown",
   "metadata": {},
   "source": [
    "### Slade Brooks\n",
    "##### brooksl@mail.uc.edu\n",
    "##### 02.21.2023\n",
    "# AeroComputing Assignment 5\n",
    "\n",
    "This code"
   ]
  },
  {
   "attachments": {},
   "cell_type": "markdown",
   "metadata": {},
   "source": [
    "# Part 1"
   ]
  },
  {
   "cell_type": "code",
   "execution_count": 1,
   "metadata": {},
   "outputs": [],
   "source": [
    "# import shtuff\n",
    "import matplotlib.pyplot as plt\n",
    "import numpy as np\n",
    "import sys\n",
    "import pandas as pd\n",
    "import sympy as sp\n",
    "\n",
    "# import custom modules\n",
    "sys.path.append(\"..//lib//\")\n",
    "import pyvot"
   ]
  },
  {
   "attachments": {},
   "cell_type": "markdown",
   "metadata": {},
   "source": [
    "# Part 2"
   ]
  },
  {
   "cell_type": "code",
   "execution_count": 10,
   "metadata": {},
   "outputs": [],
   "source": [
    "# create function to calculate the missing M relation\n",
    "\n",
    "def shockRelation(**kwargs):\n",
    "    mach=kwargs['mach']\n",
    "    theta=kwargs['theta']\n",
    "    beta=kwargs['beta']\n",
    "    gamma=kwargs['gamma']\n",
    "\n",
    "    # make vars to use\n",
    "    mach = sp.var(\"mach\")\n",
    "    theta = sp.var(\"theta\")\n",
    "    beta = sp.var(\"beta\")\n",
    "    gamma = sp.var(\"gamma\")\n",
    "                                        \n",
    "    # mach unknown\n",
    "    if(mach==None and theta!=None and beta!=None):\n",
    "        # calculate mach\n",
    "        M = sp.solve(2*(1/np.tan(np.radians(beta)))*\\\n",
    "        [(mach**2*(np.sin(np.radians(beta)))**2 - 1)\\\n",
    "        (mach**2*(gamma + np.cos(2*np.radians(beta))) + 2)] - np.tan(np.radians(theta)), M)\n",
    "        return M\n",
    "    \n",
    "    # Theta unknown\n",
    "    if(mach!=None and theta==None and beta!=None):\n",
    "        # calculate theta\n",
    "        O = sp.solve(2*(1/np.tan(np.radians(beta)))*\\\n",
    "        [(mach**2*(np.sin(np.radians(beta)))**2 - 1)\\\n",
    "        (mach**2*(gamma + np.cos(2*np.radians(beta))) + 2)] - np.tan(np.radians(theta)), O)\n",
    "        return O\n",
    "    \n",
    "    # Beta unknown\n",
    "    if(mach!=None and theta!=None and beta==None):\n",
    "        # calculate beta\n",
    "        B = sp.solve(2*(1/np.tan(np.radians(beta)))*\\\n",
    "        [(mach**2*(np.sin(np.radians(beta)))**2 - 1)\\\n",
    "        (mach**2*(gamma + np.cos(2*np.radians(beta))) + 2)] - np.tan(np.radians(theta)), B)\n",
    "        return B\n",
    "    \n",
    "    print(\"You messed up\")\n",
    "    return"
   ]
  },
  {
   "cell_type": "code",
   "execution_count": 11,
   "metadata": {},
   "outputs": [
    {
     "name": "stdout",
     "output_type": "stream",
     "text": [
      "You messed up\n"
     ]
    }
   ],
   "source": [
    "# test\n",
    "shockRelation(mach=2, theta=20, beta=None, gamma=1.4)"
   ]
  }
 ],
 "metadata": {
  "kernelspec": {
   "display_name": "Python 3",
   "language": "python",
   "name": "python3"
  },
  "language_info": {
   "codemirror_mode": {
    "name": "ipython",
    "version": 3
   },
   "file_extension": ".py",
   "mimetype": "text/x-python",
   "name": "python",
   "nbconvert_exporter": "python",
   "pygments_lexer": "ipython3",
   "version": "3.9.15"
  },
  "orig_nbformat": 4,
  "vscode": {
   "interpreter": {
    "hash": "62b9e768f4e26a7d3fbfe82fbbe7c4951ab0ade90faf298251d0e0b972c474f0"
   }
  }
 },
 "nbformat": 4,
 "nbformat_minor": 2
}
