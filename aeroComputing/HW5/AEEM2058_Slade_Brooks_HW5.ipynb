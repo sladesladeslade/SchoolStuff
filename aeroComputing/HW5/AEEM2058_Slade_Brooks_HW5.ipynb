{
 "cells": [
  {
   "attachments": {},
   "cell_type": "markdown",
   "metadata": {},
   "source": [
    "### Slade Brooks\n",
    "##### brooksl@mail.uc.edu\n",
    "##### 02.24.2023\n",
    "# AeroComputing Assignment 5\n",
    "\n",
    "This code computes roots of functions, deflates some stuff, and finds mach relations."
   ]
  },
  {
   "attachments": {},
   "cell_type": "markdown",
   "metadata": {},
   "source": [
    "# Part 1"
   ]
  },
  {
   "cell_type": "code",
   "execution_count": 18,
   "metadata": {},
   "outputs": [],
   "source": [
    "# import shtuff\n",
    "import matplotlib.pyplot as plt\n",
    "import numpy as np\n",
    "import sys\n",
    "import pandas as pd\n",
    "\n",
    "# import custom modules\n",
    "sys.path.append(\"..//lib//\")\n",
    "import pyvot"
   ]
  },
  {
   "attachments": {},
   "cell_type": "markdown",
   "metadata": {},
   "source": [
    "# Part 2"
   ]
  },
  {
   "cell_type": "code",
   "execution_count": 19,
   "metadata": {},
   "outputs": [],
   "source": [
    "# create function to calculate the missing M relation\n",
    "\n",
    "def shockRelation(mach=None, theta=None, beta=None, gamma=None):\n",
    "\n",
    "    # mach unknown\n",
    "    if(mach==None and theta!=None and beta!=None):\n",
    "\n",
    "        # convert beta and theta to radians\n",
    "        beta = np.radians(beta)\n",
    "        theta = np.radians(theta)\n",
    "\n",
    "        # create f and deriv of f in terms of M\n",
    "        def f(x): return 2/np.tan(beta)*(x**2*np.sin(beta)**2 - 1)/(x**2*(gamma + np.cos(2*beta)) + 2) - np.tan(theta)\n",
    "        def df(x): return 2*(4*x*np.sin(beta)**2 + 2*x*np.cos(2*beta) + 2*x*gamma)\\\n",
    "                    /(np.tan(beta)*(x**2*(gamma + np.cos(2*beta)) + 2)**2)\n",
    "        \n",
    "        # find root range\n",
    "        a, b = pyvot.rootsearch(f, 0.01, 10., 0.1)\n",
    "        \n",
    "        # newton raphson w/ fxns\n",
    "        mach = pyvot.newtonRaphson(f, df, a, b)\n",
    "        return mach\n",
    "    \n",
    "    # Theta unknown\n",
    "    if(mach!=None and theta==None and beta!=None):\n",
    "\n",
    "        # convert beta to radians\n",
    "        beta = np.radians(beta)\n",
    "        \n",
    "        # create f and deriv of f in terms of theta\n",
    "        def f(x): return 2/np.tan(beta)*(mach**2*np.sin(beta)**2 - 1)/(mach**2*(gamma + np.cos(2*beta)) + 2) - np.tan(x)\n",
    "        def df(x): return -(1/np.cos(x))**2\n",
    "\n",
    "        # find root range\n",
    "        a, b = pyvot.rootsearch(f, np.radians(0.1), np.radians(91), np.radians(0.5))\n",
    "\n",
    "        # newton raphson w/ fxns\n",
    "        theta = pyvot.newtonRaphson(f, df, a, b)\n",
    "        return np.degrees(theta)\n",
    "    \n",
    "    # Beta unknown\n",
    "    if(mach!=None and theta!=None and beta==None):\n",
    "\n",
    "        # convert theta to radians\n",
    "        theta = np.radians(theta)\n",
    "\n",
    "        # create f and deriv of f in terms of beta\n",
    "        def f(x): return 2/np.tan(x)*(mach**2*np.sin(x)**2 - 1)/(mach**2*(gamma + np.cos(2*x)) + 2) - np.tan(theta)\n",
    "        def df(x): return 2*(-(1/np.sin(x))**2*(mach**2*np.sin(x)**2 - 1)/ \\\n",
    "                    (mach**2*(gamma + np.cos(2*x))+2) + (2*mach**4*np.sin(x)**2*np.sin(2*x) \\\n",
    "                    + mach**4*np.sin(2*x)*np.cos(2*x) + mach**4*gamma*np.sin(2*x))/(np.tan(x) \\\n",
    "                    *(mach**2*(gamma + np.cos(2*x)) + 2)**2))\n",
    "        \n",
    "        # find root range\n",
    "        a, b = pyvot.rootsearch(f, np.radians(0.1), np.radians(91), np.radians(0.5))\n",
    "\n",
    "        # newton raphson w/ fxns\n",
    "        beta = pyvot.newtonRaphson(f, df, a, b)\n",
    "        return np.degrees(beta)\n",
    "    \n",
    "    print(\"You messed up\")\n",
    "    return"
   ]
  },
  {
   "attachments": {},
   "cell_type": "markdown",
   "metadata": {},
   "source": [
    "## Part A"
   ]
  },
  {
   "cell_type": "code",
   "execution_count": 20,
   "metadata": {},
   "outputs": [
    {
     "name": "stdout",
     "output_type": "stream",
     "text": [
      "Beta = 53.42294\n",
      "Theta = 20.00000\n",
      "Mach = 2.00000\n"
     ]
    }
   ],
   "source": [
    "# use fxn to calculate and verify numbers match\n",
    "beta = shockRelation(mach=2., theta=20., beta=None, gamma=1.4)\n",
    "theta = shockRelation(mach=2., theta=None, beta=beta, gamma=1.4)\n",
    "mach = shockRelation(mach=None, theta=theta, beta=beta, gamma=1.4)\n",
    "print(\"Beta = {:.5f}\".format(beta))\n",
    "print(\"Theta = {:.5f}\".format(theta))\n",
    "print(\"Mach = {:.5f}\".format(mach))"
   ]
  },
  {
   "attachments": {},
   "cell_type": "markdown",
   "metadata": {},
   "source": [
    "# Part 3"
   ]
  },
  {
   "cell_type": "code",
   "execution_count": 21,
   "metadata": {},
   "outputs": [],
   "source": [
    "# create function for problem\n",
    "def f(x): return (2510)*np.log(2800000/(2800000 - 13300*x)) - 9.81*x - 335"
   ]
  },
  {
   "cell_type": "code",
   "execution_count": 22,
   "metadata": {},
   "outputs": [],
   "source": [
    "# rootsearch for the root range\n",
    "a, b = pyvot.rootsearch(f, 0, 1000, 1)"
   ]
  },
  {
   "cell_type": "code",
   "execution_count": 23,
   "metadata": {},
   "outputs": [
    {
     "name": "stdout",
     "output_type": "stream",
     "text": [
      "The time to reach 335 m/s is 70.878 seconds.\n"
     ]
    }
   ],
   "source": [
    "# use bisection to find root\n",
    "t = pyvot.bisection(f, a, b)\n",
    "print(\"The time to reach 335 m/s is {:.3f} seconds.\".format(t))"
   ]
  },
  {
   "attachments": {},
   "cell_type": "markdown",
   "metadata": {},
   "source": [
    "# Part 4"
   ]
  },
  {
   "attachments": {},
   "cell_type": "markdown",
   "metadata": {},
   "source": [
    "## Part A"
   ]
  },
  {
   "cell_type": "code",
   "execution_count": 24,
   "metadata": {},
   "outputs": [
    {
     "name": "stdout",
     "output_type": "stream",
     "text": [
      "[6.        -1.00000000e+00j 6.00008468-7.48259661e-05j\n",
      " 5.99989286-3.59324991e-05j 6.00002245+1.10758466e-04j\n",
      " 6.        +1.00000000e+00j]\n"
     ]
    }
   ],
   "source": [
    "# make array with coeffs\n",
    "coeffs = np.array([-7992., 6588., -2178., 361., -30., 1.])\n",
    "\n",
    "# polyroot it\n",
    "root = pyvot.polyRoots(coeffs)\n",
    "print(root)"
   ]
  },
  {
   "attachments": {},
   "cell_type": "markdown",
   "metadata": {},
   "source": [
    "Each of these roots is essentially 6, so 6 is a root."
   ]
  },
  {
   "cell_type": "code",
   "execution_count": 25,
   "metadata": {},
   "outputs": [
    {
     "name": "stdout",
     "output_type": "stream",
     "text": [
      "The deflated polynomial is: (x - 6.)(1x^4 + -24x^3 + 217x^2 + -876x + 1332)\n"
     ]
    }
   ],
   "source": [
    "# deflate with deflatepoly thing\n",
    "defcoeffs = pyvot.deflPoly(coeffs, 6.)\n",
    "\n",
    "# print deflated poly\n",
    "print(\"The deflated polynomial is: (x - 6.)({0:.0f}x^4 + {1:.0f}x^3 + {2:.0f}x^2 + {3:.0f}x + {4:.0f})\"\\\n",
    "      .format(defcoeffs[-1], defcoeffs[-2], defcoeffs[-3], defcoeffs[-4], defcoeffs[-5]))"
   ]
  },
  {
   "attachments": {},
   "cell_type": "markdown",
   "metadata": {},
   "source": [
    "## Part B"
   ]
  },
  {
   "cell_type": "code",
   "execution_count": 26,
   "metadata": {},
   "outputs": [
    {
     "name": "stdout",
     "output_type": "stream",
     "text": [
      "The roots are: [  1.+0.j  -1.+0.j   2.+0.j  -2.+0.j 156.+0.j]\n"
     ]
    }
   ],
   "source": [
    "# create array of coeffs\n",
    "coef = np.array([-624., 4., 780., -5., -156., 1.])\n",
    "\n",
    "# polyROOOOOOOOOOOOOOOOOOOOOOOOOOOOT\n",
    "roots = pyvot.polyRoots(coef)\n",
    "print(\"The roots are: {}\".format(roots))"
   ]
  }
 ],
 "metadata": {
  "kernelspec": {
   "display_name": "Python 3",
   "language": "python",
   "name": "python3"
  },
  "language_info": {
   "codemirror_mode": {
    "name": "ipython",
    "version": 3
   },
   "file_extension": ".py",
   "mimetype": "text/x-python",
   "name": "python",
   "nbconvert_exporter": "python",
   "pygments_lexer": "ipython3",
   "version": "3.9.15"
  },
  "orig_nbformat": 4,
  "vscode": {
   "interpreter": {
    "hash": "62b9e768f4e26a7d3fbfe82fbbe7c4951ab0ade90faf298251d0e0b972c474f0"
   }
  }
 },
 "nbformat": 4,
 "nbformat_minor": 2
}
