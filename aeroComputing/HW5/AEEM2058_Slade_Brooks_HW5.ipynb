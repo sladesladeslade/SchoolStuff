{
 "cells": [
  {
   "attachments": {},
   "cell_type": "markdown",
   "metadata": {},
   "source": [
    "### Slade Brooks\n",
    "##### brooksl@mail.uc.edu\n",
    "##### 02.21.2023\n",
    "# AeroComputing Assignment 5\n",
    "\n",
    "This code"
   ]
  },
  {
   "attachments": {},
   "cell_type": "markdown",
   "metadata": {},
   "source": [
    "# Part 1"
   ]
  },
  {
   "cell_type": "code",
   "execution_count": 21,
   "metadata": {},
   "outputs": [],
   "source": [
    "# import shtuff\n",
    "import matplotlib.pyplot as plt\n",
    "import numpy as np\n",
    "import sys\n",
    "import pandas as pd\n",
    "\n",
    "# import custom modules\n",
    "sys.path.append(\"..//lib//\")\n",
    "import pyvot"
   ]
  },
  {
   "attachments": {},
   "cell_type": "markdown",
   "metadata": {},
   "source": [
    "# Part 2"
   ]
  },
  {
   "cell_type": "code",
   "execution_count": 81,
   "metadata": {},
   "outputs": [],
   "source": [
    "# create function to calculate the missing M relation\n",
    "\n",
    "def shockRelation(mach=None, theta=None, beta=None, gamma=None):\n",
    "\n",
    "    # mach unknown\n",
    "    if(mach==None and theta!=None and beta!=None):\n",
    "\n",
    "        # convert beta and theta to radians\n",
    "        beta = np.radians(beta)\n",
    "        theta = np.radians(theta)\n",
    "\n",
    "        # create f and deriv of f in terms of M\n",
    "        def f(x): return 2/np.tan(beta)*(x**2*np.sin(beta)**2 - 1)/(x**2*(gamma+np.cos(2*beta)) + 2) - np.tan(theta)\n",
    "        def df(x): return 2*(4*x*np.sin(beta)**2 + 2*x*np.cos(2*beta) + 2*x*gamma)\\\n",
    "                    /(np.tan(beta)*(x**2*(gamma+np.cos(2*beta))+2)**2)\n",
    "        \n",
    "        # newton raphson w/ fxns\n",
    "        mach = pyvot.newtonRaphson(f, df, 0.01, 10)\n",
    "        return mach\n",
    "    \n",
    "    # Theta unknown\n",
    "    if(mach!=None and theta==None and beta!=None):\n",
    "\n",
    "        # convert beta to radians\n",
    "        beta = np.radians(beta)\n",
    "        \n",
    "        # create f and deriv of f in terms of theta\n",
    "        def f(x): return 2/np.tan(beta)*(mach**2*np.sin(beta)**2 - 1)/(mach**2*(gamma+np.cos(2*beta)) + 2) - np.tan(x)\n",
    "        def df(x): return -(1/np.cos(x))**2\n",
    "\n",
    "        # newton raphson w/ fxns\n",
    "        theta = pyvot.newtonRaphson(f, df, beta, np.radians(90))\n",
    "        return np.degrees(theta)\n",
    "    \n",
    "    # Beta unknown\n",
    "    if(mach!=None and theta!=None and beta==None):\n",
    "\n",
    "        # convert theta to radians\n",
    "        theta = np.radians(theta)\n",
    "\n",
    "        # create f and deriv of f in terms of beta\n",
    "        def f(x): return 2/np.tan(x)*(mach**2*np.sin(x)**2 - 1)/(mach**2*(gamma+np.cos(2*x)) + 2) - np.tan(theta)\n",
    "        def df(x): return 2*(-(1/np.sin(x))**2*(mach**2*np.sin(x)**2-1)/ \\\n",
    "                    (mach**2*(gamma+np.cos(2*x))+2) + (2*mach**4*np.sin(x)**2*np.sin(2*x) \\\n",
    "                    + mach**4*np.sin(2*x)*np.cos(2*x) + mach**4*gamma*np.sin(2*x))/(np.tan(x) \\\n",
    "                    *(mach**2*(gamma+np.cos(2*x))+2)**2))\n",
    "\n",
    "        # newton raphson w/ fxns\n",
    "        beta = pyvot.newtonRaphson(f, df, np.radians(0.1), theta)\n",
    "        return np.degrees(beta)\n",
    "    \n",
    "    print(\"You messed up\")\n",
    "    return"
   ]
  },
  {
   "attachments": {},
   "cell_type": "markdown",
   "metadata": {},
   "source": [
    "## Part A"
   ]
  },
  {
   "cell_type": "code",
   "execution_count": 83,
   "metadata": {},
   "outputs": [
    {
     "name": "stdout",
     "output_type": "stream",
     "text": [
      "Root is not bracketed\n"
     ]
    },
    {
     "ename": "SystemExit",
     "evalue": "",
     "output_type": "error",
     "traceback": [
      "An exception has occurred, use %tb to see the full traceback.\n",
      "\u001b[1;31mSystemExit\u001b[0m\n"
     ]
    }
   ],
   "source": [
    "# use fxn to calculate and verify numbers match\n",
    "print(shockRelation(mach=2., theta=None, beta=20., gamma=1.4))\n",
    "print(shockRelation(mach=2., theta=53., beta=None, gamma=1.4))\n",
    "print(shockRelation(mach=None, theta=53, beta=20., gamma=1.4))"
   ]
  }
 ],
 "metadata": {
  "kernelspec": {
   "display_name": "Python 3",
   "language": "python",
   "name": "python3"
  },
  "language_info": {
   "codemirror_mode": {
    "name": "ipython",
    "version": 3
   },
   "file_extension": ".py",
   "mimetype": "text/x-python",
   "name": "python",
   "nbconvert_exporter": "python",
   "pygments_lexer": "ipython3",
   "version": "3.9.15"
  },
  "orig_nbformat": 4,
  "vscode": {
   "interpreter": {
    "hash": "62b9e768f4e26a7d3fbfe82fbbe7c4951ab0ade90faf298251d0e0b972c474f0"
   }
  }
 },
 "nbformat": 4,
 "nbformat_minor": 2
}
