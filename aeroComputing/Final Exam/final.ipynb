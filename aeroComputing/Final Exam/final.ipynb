{
 "cells": [
  {
   "attachments": {},
   "cell_type": "markdown",
   "metadata": {},
   "source": [
    "### Slade Brooks\n",
    "### M13801712\n",
    "### brooksl@mail.uc.edu\n",
    "### Final Exam"
   ]
  },
  {
   "cell_type": "code",
   "execution_count": 2,
   "metadata": {},
   "outputs": [],
   "source": [
    "import numpy as np\n",
    "import sys\n",
    "import matplotlib.pyplot as plt\n",
    "from scipy import integrate as integrate\n",
    "# import custom modules\n",
    "sys.path.append(\"..//lib//\")\n",
    "import pyvot"
   ]
  },
  {
   "attachments": {},
   "cell_type": "markdown",
   "metadata": {},
   "source": [
    "# Question 1"
   ]
  },
  {
   "attachments": {},
   "cell_type": "markdown",
   "metadata": {},
   "source": [
    "## Part A"
   ]
  },
  {
   "cell_type": "code",
   "execution_count": 3,
   "metadata": {},
   "outputs": [],
   "source": [
    "# create A matrix\n",
    "A = np.array([[31, 3, 5, 6, 9, 10],\n",
    "              [1, 33, 5, 6, 9, 10],\n",
    "              [1, 3, 35, 6, 9, 10],\n",
    "              [1, 3, 5, 36, 9, 10],\n",
    "              [1, 3, 5, 6, 39, 10],\n",
    "              [1, 3, 5, 6, 9, 40]])"
   ]
  },
  {
   "cell_type": "code",
   "execution_count": 6,
   "metadata": {},
   "outputs": [
    {
     "name": "stdout",
     "output_type": "stream",
     "text": [
      "The right side matrix b such that x is all 5s is: \n",
      " [[320]\n",
      " [320]\n",
      " [320]\n",
      " [320]\n",
      " [320]\n",
      " [320]]\n"
     ]
    }
   ],
   "source": [
    "# find b from Ax=b so that x is all 5s\n",
    "x = np.array([[5],[5],[5],[5],[5],[5]])\n",
    "b = np.dot(A.copy(), x.copy())\n",
    "\n",
    "print(\"The right side matrix b such that x is all 5s is: \\n\", b)"
   ]
  },
  {
   "attachments": {},
   "cell_type": "markdown",
   "metadata": {},
   "source": [
    "## Part B"
   ]
  },
  {
   "cell_type": "code",
   "execution_count": 10,
   "metadata": {},
   "outputs": [
    {
     "name": "stdout",
     "output_type": "stream",
     "text": [
      "The solution x = \n",
      " [[5]\n",
      " [5]\n",
      " [5]\n",
      " [5]\n",
      " [5]\n",
      " [5]]\n"
     ]
    }
   ],
   "source": [
    "# solve Ax=b with gausspivot\n",
    "x = pyvot.gaussPivot(A.copy(), b.copy())\n",
    "\n",
    "# print it\n",
    "print(\"The solution x = \\n\", x.copy())"
   ]
  },
  {
   "attachments": {},
   "cell_type": "markdown",
   "metadata": {},
   "source": [
    "## Part C"
   ]
  },
  {
   "cell_type": "code",
   "execution_count": 11,
   "metadata": {},
   "outputs": [
    {
     "name": "stdout",
     "output_type": "stream",
     "text": [
      "The solution x = \n",
      " [[5]\n",
      " [5]\n",
      " [5]\n",
      " [5]\n",
      " [5]\n",
      " [5]]\n",
      "The residual norm is: 0.0\n"
     ]
    }
   ],
   "source": [
    "# print solution\n",
    "print(\"The solution x = \\n\", x.copy())\n",
    "\n",
    "# get residual and show it is 0 (solve Ax=b -> Ax-b = 0)\n",
    "res = np.linalg.norm(np.dot(A.copy(), x.copy()) - b.copy())\n",
    "print(\"The residual is:\", res)"
   ]
  },
  {
   "cell_type": "markdown",
   "metadata": {},
   "source": [
    "We know that this x matrix is a solution because the residual of the Ax - B calculation is so small. The residual is 0, therefore this matrix must be the solution. (this is because Ax=B, so Ax-B must be 0 for a correct solution)"
   ]
  },
  {
   "attachments": {},
   "cell_type": "markdown",
   "metadata": {},
   "source": [
    "# Question 2"
   ]
  },
  {
   "attachments": {},
   "cell_type": "markdown",
   "metadata": {},
   "source": [
    "## Part A"
   ]
  },
  {
   "cell_type": "code",
   "execution_count": 12,
   "metadata": {},
   "outputs": [
    {
     "name": "stdout",
     "output_type": "stream",
     "text": [
      "The eigenvalues are:  [30. 64. 30. 30. 30. 30.]\n",
      "The eigenvectors are: \n",
      " [[-0.99771219  0.40824829  0.5626329  -0.56329077 -0.1919516   0.17461255]\n",
      " [ 0.0302337   0.40824829  0.80263683  0.55112017 -0.23417387 -0.00694525]\n",
      " [ 0.0302337   0.40824829 -0.09901811  0.5544123  -0.28738022 -0.5342004 ]\n",
      " [ 0.0302337   0.40824829 -0.09901811 -0.15448525  0.55083436 -0.4999621 ]\n",
      " [ 0.0302337   0.40824829 -0.09901811 -0.15448525 -0.58289951 -0.10900671]\n",
      " [ 0.0302337   0.40824829 -0.09901811 -0.15448525  0.42724637  0.64980581]]\n"
     ]
    }
   ],
   "source": [
    "# compute eigensystem\n",
    "[vals, vecs] = np.linalg.eig(A.copy())\n",
    "\n",
    "print(\"The eigenvalues are: \", vals)\n",
    "print(\"The eigenvectors are: \\n\", vecs)"
   ]
  },
  {
   "attachments": {},
   "cell_type": "markdown",
   "metadata": {},
   "source": [
    "## Part B"
   ]
  },
  {
   "cell_type": "code",
   "execution_count": 13,
   "metadata": {},
   "outputs": [
    {
     "name": "stdout",
     "output_type": "stream",
     "text": [
      "[0. 0. 0. 0. 0. 0.]\n",
      "[-0.  0.  0.  0.  0.  0.]\n",
      "[0. 0. 0. 0. 0. 0.]\n",
      "[0. 0. 0. 0. 0. 0.]\n",
      "[ 0.  0.  0. -0.  0. -0.]\n",
      "[-0. -0. -0. -0. -0.  0.]\n"
     ]
    }
   ],
   "source": [
    "# verify eigensystem - Ax = lambdax for each vector/value (x vector, labmda value)\n",
    "for i in range(len(A)):\n",
    "    Ax = np.dot(A.copy(), vecs[:,i])\n",
    "    lambdax = np.dot(vals[i], vecs[:,i])\n",
    "    print((Ax - lambdax).round())"
   ]
  },
  {
   "cell_type": "markdown",
   "metadata": {},
   "source": [
    "An eigensystem is defined as Ax = lambdax where x is an eigenvector and lambda is the corresponding eigenvalue. We can verify the solution by showing that Ax-lambdax is 0 for each eigenvector/value combination."
   ]
  },
  {
   "attachments": {},
   "cell_type": "markdown",
   "metadata": {},
   "source": [
    "# Question 3"
   ]
  }
 ],
 "metadata": {
  "kernelspec": {
   "display_name": "Python 3",
   "language": "python",
   "name": "python3"
  },
  "language_info": {
   "codemirror_mode": {
    "name": "ipython",
    "version": 3
   },
   "file_extension": ".py",
   "mimetype": "text/x-python",
   "name": "python",
   "nbconvert_exporter": "python",
   "pygments_lexer": "ipython3",
   "version": "3.9.15"
  },
  "orig_nbformat": 4
 },
 "nbformat": 4,
 "nbformat_minor": 2
}
