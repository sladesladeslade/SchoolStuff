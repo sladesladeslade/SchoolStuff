{
 "cells": [
  {
   "attachments": {},
   "cell_type": "markdown",
   "metadata": {},
   "source": [
    "### Slade Brooks\n",
    "### M13801712\n",
    "### brooksl@mail.uc.edu\n",
    "### Final Exam"
   ]
  },
  {
   "cell_type": "code",
   "execution_count": 2,
   "metadata": {},
   "outputs": [],
   "source": [
    "import numpy as np\n",
    "import sys\n",
    "import matplotlib.pyplot as plt\n",
    "from scipy import integrate as integrate\n",
    "# import custom modules\n",
    "sys.path.append(\"..//lib//\")\n",
    "import pyvot"
   ]
  },
  {
   "attachments": {},
   "cell_type": "markdown",
   "metadata": {},
   "source": [
    "# Question 1"
   ]
  },
  {
   "attachments": {},
   "cell_type": "markdown",
   "metadata": {},
   "source": [
    "## Part A"
   ]
  },
  {
   "cell_type": "code",
   "execution_count": 3,
   "metadata": {},
   "outputs": [],
   "source": [
    "# create A matrix\n",
    "A = np.array([[31, 3, 5, 6, 9, 10],\n",
    "              [1, 33, 5, 6, 9, 10],\n",
    "              [1, 3, 35, 6, 9, 10],\n",
    "              [1, 3, 5, 36, 9, 10],\n",
    "              [1, 3, 5, 6, 39, 10],\n",
    "              [1, 3, 5, 6, 9, 40]])"
   ]
  },
  {
   "cell_type": "code",
   "execution_count": 6,
   "metadata": {},
   "outputs": [
    {
     "name": "stdout",
     "output_type": "stream",
     "text": [
      "The right side matrix b such that x is all 5s is: \n",
      " [[320]\n",
      " [320]\n",
      " [320]\n",
      " [320]\n",
      " [320]\n",
      " [320]]\n"
     ]
    }
   ],
   "source": [
    "# find b from Ax=b so that x is all 5s\n",
    "x = np.array([[5],[5],[5],[5],[5],[5]])\n",
    "b = np.dot(A.copy(), x.copy())\n",
    "\n",
    "print(\"The right side matrix b such that x is all 5s is: \\n\", b)"
   ]
  },
  {
   "attachments": {},
   "cell_type": "markdown",
   "metadata": {},
   "source": [
    "## Part B"
   ]
  },
  {
   "cell_type": "code",
   "execution_count": 10,
   "metadata": {},
   "outputs": [
    {
     "name": "stdout",
     "output_type": "stream",
     "text": [
      "The solution x = \n",
      " [[5]\n",
      " [5]\n",
      " [5]\n",
      " [5]\n",
      " [5]\n",
      " [5]]\n"
     ]
    }
   ],
   "source": [
    "# solve Ax=b with gausspivot\n",
    "x = pyvot.gaussPivot(A.copy(), b.copy())\n",
    "\n",
    "# print it\n",
    "print(\"The solution x = \\n\", x.copy())"
   ]
  },
  {
   "attachments": {},
   "cell_type": "markdown",
   "metadata": {},
   "source": [
    "## Part C"
   ]
  },
  {
   "cell_type": "code",
   "execution_count": 11,
   "metadata": {},
   "outputs": [
    {
     "name": "stdout",
     "output_type": "stream",
     "text": [
      "The solution x = \n",
      " [[5]\n",
      " [5]\n",
      " [5]\n",
      " [5]\n",
      " [5]\n",
      " [5]]\n",
      "The residual norm is: 0.0\n"
     ]
    }
   ],
   "source": [
    "# print solution\n",
    "print(\"The solution x = \\n\", x.copy())\n",
    "\n",
    "# get residual and show it is 0 (solve Ax=b)\n",
    "res = np.linalg.norm(np.dot(A.copy(), x.copy()) - b.copy())\n",
    "\n",
    "print(\"The residual is:\", res)"
   ]
  },
  {
   "cell_type": "markdown",
   "metadata": {},
   "source": [
    "We know that this x matrix is a solution because the residual of the Ax - B calculation is so small. The residual is 0, therefore this matrix must be the solution. (this is because Ax=B, so Ax-B must be 0 for a correct solution)"
   ]
  }
 ],
 "metadata": {
  "kernelspec": {
   "display_name": "Python 3",
   "language": "python",
   "name": "python3"
  },
  "language_info": {
   "codemirror_mode": {
    "name": "ipython",
    "version": 3
   },
   "file_extension": ".py",
   "mimetype": "text/x-python",
   "name": "python",
   "nbconvert_exporter": "python",
   "pygments_lexer": "ipython3",
   "version": "3.9.15"
  },
  "orig_nbformat": 4
 },
 "nbformat": 4,
 "nbformat_minor": 2
}
