{
 "cells": [
  {
   "attachments": {},
   "cell_type": "markdown",
   "metadata": {},
   "source": [
    "### Slade Brooks\n",
    "### M13801712\n",
    "### brooksl@mail.uc.edu\n",
    "### Final Exam"
   ]
  },
  {
   "cell_type": "code",
   "execution_count": 37,
   "metadata": {},
   "outputs": [],
   "source": [
    "import numpy as np\n",
    "import sys\n",
    "import matplotlib.pyplot as plt\n",
    "from scipy import integrate as integrate\n",
    "# import custom modules\n",
    "sys.path.append(\"..//lib//\")\n",
    "import pyvot"
   ]
  },
  {
   "attachments": {},
   "cell_type": "markdown",
   "metadata": {},
   "source": [
    "# Question 1"
   ]
  },
  {
   "cell_type": "code",
   "execution_count": 38,
   "metadata": {},
   "outputs": [],
   "source": [
    "# create A matrix\n",
    "A = np.array([[31, 3, 5, 6, 9, 10],\n",
    "              [1, 33, 5, 6, 9, 10],\n",
    "              [1, 3, 35, 6, 9, 10],\n",
    "              [1, 3, 5, 36, 9, 10],\n",
    "              [1, 3, 5, 6, 39, 10],\n",
    "              [1, 3, 5, 6, 9, 40]])"
   ]
  },
  {
   "attachments": {},
   "cell_type": "markdown",
   "metadata": {},
   "source": [
    "## Part A"
   ]
  },
  {
   "cell_type": "code",
   "execution_count": 39,
   "metadata": {},
   "outputs": [
    {
     "name": "stdout",
     "output_type": "stream",
     "text": [
      "The right side matrix b such that x is all 5s is: \n",
      " [[320]\n",
      " [320]\n",
      " [320]\n",
      " [320]\n",
      " [320]\n",
      " [320]]\n"
     ]
    }
   ],
   "source": [
    "# find b from Ax=b so that x is all 5s\n",
    "x = np.array([[5],[5],[5],[5],[5],[5]])\n",
    "b = np.dot(A.copy(), x.copy())\n",
    "\n",
    "print(\"The right side matrix b such that x is all 5s is: \\n\", b)"
   ]
  },
  {
   "attachments": {},
   "cell_type": "markdown",
   "metadata": {},
   "source": [
    "## Part B"
   ]
  },
  {
   "cell_type": "code",
   "execution_count": 40,
   "metadata": {},
   "outputs": [
    {
     "name": "stdout",
     "output_type": "stream",
     "text": [
      "The solution x = \n",
      " [[5]\n",
      " [5]\n",
      " [5]\n",
      " [5]\n",
      " [5]\n",
      " [5]]\n"
     ]
    }
   ],
   "source": [
    "# solve Ax=b with gausspivot\n",
    "x = pyvot.gaussPivot(A.copy(), b.copy())\n",
    "\n",
    "# print it\n",
    "print(\"The solution x = \\n\", x.copy())"
   ]
  },
  {
   "attachments": {},
   "cell_type": "markdown",
   "metadata": {},
   "source": [
    "## Part C"
   ]
  },
  {
   "cell_type": "code",
   "execution_count": 41,
   "metadata": {},
   "outputs": [
    {
     "name": "stdout",
     "output_type": "stream",
     "text": [
      "The solution x = \n",
      " [[5]\n",
      " [5]\n",
      " [5]\n",
      " [5]\n",
      " [5]\n",
      " [5]]\n",
      "The residual is: 0.0\n"
     ]
    }
   ],
   "source": [
    "# print solution\n",
    "print(\"The solution x = \\n\", x.copy())\n",
    "\n",
    "# get residual and show it is 0 (solve Ax=b -> Ax-b = 0)\n",
    "res = np.linalg.norm(np.dot(A.copy(), x.copy()) - b.copy())\n",
    "print(\"The residual is:\", res)"
   ]
  },
  {
   "cell_type": "markdown",
   "metadata": {},
   "source": [
    "We know that this x matrix is a solution because the residual of the Ax - B calculation is so small. The residual is 0, therefore this matrix must be the solution. (this is because Ax=B, so Ax-B must be 0 for a correct solution)"
   ]
  },
  {
   "attachments": {},
   "cell_type": "markdown",
   "metadata": {},
   "source": [
    "# Question 2"
   ]
  },
  {
   "attachments": {},
   "cell_type": "markdown",
   "metadata": {},
   "source": [
    "## Part A"
   ]
  },
  {
   "cell_type": "code",
   "execution_count": 42,
   "metadata": {},
   "outputs": [
    {
     "name": "stdout",
     "output_type": "stream",
     "text": [
      "The eigenvalues are:  [30. 64. 30. 30. 30. 30.]\n",
      "The eigenvectors are: \n",
      " [[-0.99771219  0.40824829  0.5626329  -0.56329077 -0.1919516   0.17461255]\n",
      " [ 0.0302337   0.40824829  0.80263683  0.55112017 -0.23417387 -0.00694525]\n",
      " [ 0.0302337   0.40824829 -0.09901811  0.5544123  -0.28738022 -0.5342004 ]\n",
      " [ 0.0302337   0.40824829 -0.09901811 -0.15448525  0.55083436 -0.4999621 ]\n",
      " [ 0.0302337   0.40824829 -0.09901811 -0.15448525 -0.58289951 -0.10900671]\n",
      " [ 0.0302337   0.40824829 -0.09901811 -0.15448525  0.42724637  0.64980581]]\n"
     ]
    }
   ],
   "source": [
    "# compute eigensystem\n",
    "[vals, vecs] = np.linalg.eig(A.copy())\n",
    "\n",
    "print(\"The eigenvalues are: \", vals)\n",
    "print(\"The eigenvectors are: \\n\", vecs)"
   ]
  },
  {
   "attachments": {},
   "cell_type": "markdown",
   "metadata": {},
   "source": [
    "## Part B"
   ]
  },
  {
   "cell_type": "code",
   "execution_count": 43,
   "metadata": {},
   "outputs": [
    {
     "name": "stdout",
     "output_type": "stream",
     "text": [
      "[0. 0. 0. 0. 0. 0.]\n",
      "[-0.  0.  0.  0.  0.  0.]\n",
      "[0. 0. 0. 0. 0. 0.]\n",
      "[0. 0. 0. 0. 0. 0.]\n",
      "[ 0.  0.  0. -0.  0. -0.]\n",
      "[-0. -0. -0. -0. -0.  0.]\n"
     ]
    }
   ],
   "source": [
    "# verify eigensystem - Ax = lambdax for each vector/value (x vector, labmda value)\n",
    "for i in range(len(A)):\n",
    "    Ax = np.dot(A.copy(), vecs[:,i])\n",
    "    lambdax = np.dot(vals[i], vecs[:,i])\n",
    "    print((Ax - lambdax).round())"
   ]
  },
  {
   "cell_type": "markdown",
   "metadata": {},
   "source": [
    "An eigensystem is defined as Ax = lambdax where x is an eigenvector and lambda is the corresponding eigenvalue. We can verify the solution by showing that Ax-lambdax is 0 for each eigenvector/value combination."
   ]
  },
  {
   "attachments": {},
   "cell_type": "markdown",
   "metadata": {},
   "source": [
    "# Question 3"
   ]
  },
  {
   "cell_type": "code",
   "execution_count": 44,
   "metadata": {},
   "outputs": [],
   "source": [
    "# create f(x)\n",
    "def f(x): return 6*np.sin((2*np.pi*x)/9 + np.pi/8) - 1.5*np.cos((4*np.pi*x)/5)"
   ]
  },
  {
   "attachments": {},
   "cell_type": "markdown",
   "metadata": {},
   "source": [
    "## Part A"
   ]
  },
  {
   "cell_type": "code",
   "execution_count": 45,
   "metadata": {},
   "outputs": [
    {
     "data": {
      "image/png": "[encoded data removed]",
      "text/plain": [
       "<Figure size 640x480 with 1 Axes>"
      ]
     },
     "metadata": {},
     "output_type": "display_data"
    }
   ],
   "source": [
    "# set up range of vals\n",
    "xs = np.linspace(0, 50, 100)\n",
    "\n",
    "# plot function\n",
    "plt.plot(xs, f(xs))\n",
    "plt.xlabel(\"x\")\n",
    "plt.grid()\n",
    "plt.ylabel(\"f(x)\")\n",
    "plt.title(\"Plot of f(x)\")\n",
    "plt.xlim([0, 50])\n",
    "plt.ylim([-8, 8])\n",
    "plt.show()"
   ]
  },
  {
   "attachments": {},
   "cell_type": "markdown",
   "metadata": {},
   "source": [
    "## Part B"
   ]
  },
  {
   "cell_type": "code",
   "execution_count": 46,
   "metadata": {},
   "outputs": [
    {
     "name": "stdout",
     "output_type": "stream",
     "text": [
      "The first 4 positive roots are: 4.138612, 8.291628, 12.583711, and 17.736397\n"
     ]
    }
   ],
   "source": [
    "# find first root range with rootsearch\n",
    "a, b = pyvot.rootsearch(f, 0.01, 50, 0.01)\n",
    "\n",
    "# also find ranges of next 2 roots\n",
    "a1, b1 = pyvot.rootsearch(f, b, 50, 0.01)\n",
    "a2, b2 = pyvot.rootsearch(f, b1, 50, 0.01)\n",
    "a3, b3 = pyvot.rootsearch(f, b2, 50, 0.01)\n",
    "\n",
    "# use bisection to find roots at each point\n",
    "r = pyvot.bisection(f, a, b)\n",
    "r1 = pyvot.bisection(f, a1, b1)\n",
    "r2 = pyvot.bisection(f, a2, b2)\n",
    "r3 = pyvot.bisection(f, a3, b3)\n",
    "\n",
    "# print roots\n",
    "print(\"The first 4 positive roots are: {0:.6f}, {1:.6f}, {2:.6f}, and {3:.6f}\".format(r, r1, r2, r3))"
   ]
  },
  {
   "attachments": {},
   "cell_type": "markdown",
   "metadata": {},
   "source": [
    "## Part C"
   ]
  },
  {
   "cell_type": "code",
   "execution_count": 47,
   "metadata": {},
   "outputs": [
    {
     "name": "stdout",
     "output_type": "stream",
     "text": [
      "The values at each root are: [0.0, 0.0, -0.0, 0.0]\n"
     ]
    }
   ],
   "source": [
    "# make list of roots\n",
    "roots = [r, r1, r2, r3]\n",
    "\n",
    "# find value of function at each root\n",
    "vals = [f(r).round() for r in roots]\n",
    "\n",
    "# print each value - if val is 0 then it is a root\n",
    "print(\"The values at each root are:\", vals)"
   ]
  },
  {
   "attachments": {},
   "cell_type": "markdown",
   "metadata": {},
   "source": [
    "## Part D"
   ]
  },
  {
   "cell_type": "code",
   "execution_count": 48,
   "metadata": {},
   "outputs": [
    {
     "name": "stdout",
     "output_type": "stream",
     "text": [
      "The integral of f(x) from 0 to 4.139 is 16.944519\n",
      "The error is 4.787e-12\n"
     ]
    }
   ],
   "source": [
    "# create function again with lambda\n",
    "f = lambda x: 6*np.sin((2*np.pi*x)/9 + np.pi/8) - 1.5*np.cos((4*np.pi*x)/5)\n",
    "\n",
    "# set integration lims\n",
    "a = 0\n",
    "b = r\n",
    "\n",
    "# do integration with scipy\n",
    "ans, err = integrate.quad(f, a, b)\n",
    "\n",
    "# print answer\n",
    "print(\"The integral of f(x) from 0 to {0:.3f} is {1:.6f}\".format(r, ans))\n",
    "print(\"The error is {0:.3e}\".format(err))"
   ]
  }
 ],
 "metadata": {
  "kernelspec": {
   "display_name": "Python 3",
   "language": "python",
   "name": "python3"
  },
  "language_info": {
   "codemirror_mode": {
    "name": "ipython",
    "version": 3
   },
   "file_extension": ".py",
   "mimetype": "text/x-python",
   "name": "python",
   "nbconvert_exporter": "python",
   "pygments_lexer": "ipython3",
   "version": "3.9.15"
  },
  "orig_nbformat": 4
 },
 "nbformat": 4,
 "nbformat_minor": 2
}
