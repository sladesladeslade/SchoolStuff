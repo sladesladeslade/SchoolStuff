{
 "cells": [
  {
   "attachments": {},
   "cell_type": "markdown",
   "metadata": {},
   "source": [
    "### Slade Brooks\n",
    "##### brooksl@mail.uc.edu\n",
    "##### 03.24.2023\n",
    "# AeroComputing Assignment 7\n",
    "\n",
    "This code calculates integrals of multiple functions using sympy :)"
   ]
  },
  {
   "cell_type": "code",
   "execution_count": 2,
   "metadata": {},
   "outputs": [],
   "source": [
    "from scipy import integrate as integrate\n",
    "import numpy as np\n",
    "import matplotlib.pyplot as plt"
   ]
  },
  {
   "attachments": {},
   "cell_type": "markdown",
   "metadata": {},
   "source": [
    "# Part 1"
   ]
  },
  {
   "cell_type": "code",
   "execution_count": 5,
   "metadata": {},
   "outputs": [
    {
     "name": "stdout",
     "output_type": "stream",
     "text": [
      "The integral of 1/sqrt(sin(x)) from 0 to pi/4 is: 1.791\n"
     ]
    }
   ],
   "source": [
    "# create equation\n",
    "f = lambda x: 1/np.sqrt(np.sin(x))\n",
    "\n",
    "# integration limits\n",
    "a = 0\n",
    "b = np.pi/4\n",
    "\n",
    "# integrate\n",
    "ans, err = integrate.quad(f, a, b)\n",
    "\n",
    "# print answer\n",
    "print(\"The integral of 1/sqrt(sin(x)) from 0 to pi/4 is: {:.3f}\".format(ans))"
   ]
  },
  {
   "attachments": {},
   "cell_type": "markdown",
   "metadata": {},
   "source": [
    "# Part 2"
   ]
  },
  {
   "cell_type": "code",
   "execution_count": 12,
   "metadata": {},
   "outputs": [
    {
     "data": {
      "image/png": "[encoded data removed]",
      "text/plain": [
       "<Figure size 640x480 with 1 Axes>"
      ]
     },
     "metadata": {},
     "output_type": "display_data"
    }
   ],
   "source": [
    "# set up range of u vals\n",
    "us = np.arange(0, 1, 0.05)\n",
    "\n",
    "# g vals matrix\n",
    "gs = np.empty(len(us))\n",
    "\n",
    "# integration lims\n",
    "a = 0\n",
    "\n",
    "# loop thru us to calculate g\n",
    "for i in range(len(us)):\n",
    "    g = lambda x: (us[i]**3)*((x**4)*np.exp(x))/((np.exp(x) - 1)**2)\n",
    "    if us[i] > 0:\n",
    "        b = 1/us[i]\n",
    "        gs[i], err = integrate.quad(g, a, b)\n",
    "\n",
    "# plot\n",
    "plt.plot(us, gs)\n",
    "plt.xlabel(\"u\")\n",
    "plt.ylabel(\"g(u)\")\n",
    "plt.title(\"Plot of g(u)\")\n",
    "plt.show()"
   ]
  },
  {
   "attachments": {},
   "cell_type": "markdown",
   "metadata": {},
   "source": [
    "# Part 3"
   ]
  },
  {
   "cell_type": "code",
   "execution_count": 13,
   "metadata": {},
   "outputs": [
    {
     "name": "stdout",
     "output_type": "stream",
     "text": [
      "The integral of ln(x)/(x^2-2x+2) from 1 to pi is 0.607 with 2 nodes and 0.585 with 4 nodes.\n"
     ]
    }
   ],
   "source": [
    "# create function\n",
    "f = lambda x: np.log(x)/(x**2 - 2*x + 2)\n",
    "\n",
    "# integration limits\n",
    "a = 1\n",
    "b = np.pi\n",
    "\n",
    "# 2 node integration\n",
    "ans2, err = integrate.fixed_quad(f, a, b, n=2)\n",
    "\n",
    "# 4 node integration\n",
    "ans4, err = integrate.fixed_quad(f, a, b, n=4)\n",
    "\n",
    "# print results\n",
    "print(\"The integral of ln(x)/(x^2-2x+2) from 1 to pi is {0:.3f} with 2 nodes and {1:.3f} with 4 nodes.\".format(ans2, ans4))"
   ]
  },
  {
   "attachments": {},
   "cell_type": "markdown",
   "metadata": {},
   "source": [
    "# Part 4"
   ]
  },
  {
   "cell_type": "code",
   "execution_count": 14,
   "metadata": {},
   "outputs": [
    {
     "name": "stdout",
     "output_type": "stream",
     "text": [
      "The integral of (2x+1)/sqrt(x(1 - x)) from 0 to 1 is: 6.283\n"
     ]
    }
   ],
   "source": [
    "# create function\n",
    "f = lambda x: (2*x + 1)/np.sqrt(x*(1 - x))\n",
    "\n",
    "# integration lims\n",
    "a = 0\n",
    "b = 1\n",
    "\n",
    "# integrate\n",
    "ans, err = integrate.quad(f, a, b)\n",
    "\n",
    "# print answer\n",
    "print(\"The integral of (2x+1)/sqrt(x(1 - x)) from 0 to 1 is: {:.3f}\".format(ans))"
   ]
  },
  {
   "attachments": {},
   "cell_type": "markdown",
   "metadata": {},
   "source": [
    "# Part 5"
   ]
  }
 ],
 "metadata": {
  "kernelspec": {
   "display_name": "Python 3",
   "language": "python",
   "name": "python3"
  },
  "language_info": {
   "codemirror_mode": {
    "name": "ipython",
    "version": 3
   },
   "file_extension": ".py",
   "mimetype": "text/x-python",
   "name": "python",
   "nbconvert_exporter": "python",
   "pygments_lexer": "ipython3",
   "version": "3.9.15"
  },
  "orig_nbformat": 4
 },
 "nbformat": 4,
 "nbformat_minor": 2
}
