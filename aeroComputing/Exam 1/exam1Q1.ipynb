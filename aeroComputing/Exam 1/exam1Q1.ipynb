{
 "cells": [
  {
   "attachments": {},
   "cell_type": "markdown",
   "metadata": {},
   "source": [
    "### Slade Brooks\n",
    "### brooksl@mail.uc.edu\n",
    "### Exam 1\n",
    "### Question 1"
   ]
  },
  {
   "cell_type": "code",
   "execution_count": 3,
   "metadata": {},
   "outputs": [],
   "source": [
    "import numpy as np"
   ]
  },
  {
   "cell_type": "code",
   "execution_count": 13,
   "metadata": {},
   "outputs": [
    {
     "name": "stdout",
     "output_type": "stream",
     "text": [
      "[[8. 0. 1. 7. 1. 2.]\n",
      " [1. 4. 3. 4. 5. 6.]\n",
      " [1. 2. 4. 4. 5. 6.]\n",
      " [1. 2. 3. 4. 5. 6.]\n",
      " [1. 2. 3. 4. 4. 6.]\n",
      " [1. 2. 3. 4. 5. 5.]]\n"
     ]
    }
   ],
   "source": [
    "# M13 801712\n",
    "\n",
    "# create a matrix with last six\n",
    "nums = np.array([[8, 0, 1, 7, 1, 2],\n",
    "                [1, 4, 3, 4, 5, 6],\n",
    "                [1, 2, 4, 4, 5, 6],\n",
    "                [1, 2, 3, 4, 5, 6],\n",
    "                [1, 2, 3, 4, 4, 6,],\n",
    "                [1, 2, 3, 4, 5, 5]], dtype=\"float64\")\n",
    "\n",
    "# print matrix\n",
    "print(nums)"
   ]
  },
  {
   "cell_type": "code",
   "execution_count": 18,
   "metadata": {},
   "outputs": [
    {
     "name": "stdout",
     "output_type": "stream",
     "text": [
      "The determinant is 50.00.\n"
     ]
    }
   ],
   "source": [
    "# find determinant\n",
    "det = np.linalg.det(nums)\n",
    "print(\"The determinant is {:.2f}.\".format(det))"
   ]
  },
  {
   "attachments": {},
   "cell_type": "markdown",
   "metadata": {},
   "source": [
    "Since the determinant is not zero and the matrix is 6x6 elements, the matrix \"nums\" must be nonsingular."
   ]
  },
  {
   "cell_type": "code",
   "execution_count": 21,
   "metadata": {},
   "outputs": [
    {
     "name": "stdout",
     "output_type": "stream",
     "text": [
      "The solution vector is: [[2.]\n",
      " [2.]\n",
      " [2.]\n",
      " [2.]\n",
      " [2.]\n",
      " [2.]]\n"
     ]
    }
   ],
   "source": [
    "# create solution vector all +2\n",
    "b = np.array([[2],\n",
    "              [2],\n",
    "              [2],\n",
    "              [2],\n",
    "              [2],\n",
    "              [2]], dtype=\"float64\")\n",
    "\n",
    "# print dat\n",
    "print(\"The solution vector is:\", b)"
   ]
  }
 ],
 "metadata": {
  "kernelspec": {
   "display_name": "Python 3",
   "language": "python",
   "name": "python3"
  },
  "language_info": {
   "codemirror_mode": {
    "name": "ipython",
    "version": 3
   },
   "file_extension": ".py",
   "mimetype": "text/x-python",
   "name": "python",
   "nbconvert_exporter": "python",
   "pygments_lexer": "ipython3",
   "version": "3.9.15"
  },
  "orig_nbformat": 4
 },
 "nbformat": 4,
 "nbformat_minor": 2
}
