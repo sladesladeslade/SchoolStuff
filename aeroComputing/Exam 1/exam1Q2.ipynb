{
 "cells": [
  {
   "attachments": {},
   "cell_type": "markdown",
   "metadata": {},
   "source": [
    "### Slade Brooks\n",
    "### brooksl@mail.uc.edu\n",
    "### Exam 1\n",
    "### Question 2"
   ]
  },
  {
   "cell_type": "code",
   "execution_count": 1,
   "metadata": {},
   "outputs": [],
   "source": [
    "import numpy as np\n",
    "import sys\n",
    "\n",
    "# import custom modules\n",
    "sys.path.append(\"..//lib//\")\n",
    "import pyvot"
   ]
  },
  {
   "cell_type": "code",
   "execution_count": 3,
   "metadata": {},
   "outputs": [],
   "source": [
    "# create pressure ratio function\n",
    "def presRatio(M, y):\n",
    "    \"\"\"\n",
    "    computes stag pres ratio from mach and gamma\n",
    "    \"\"\"\n",
    "    pr = (1 + ((y - 1)/2)*M**2)**(y/(y - 1))\n",
    "    return pr"
   ]
  },
  {
   "cell_type": "code",
   "execution_count": 7,
   "metadata": {},
   "outputs": [],
   "source": [
    "# get array of vals from M 0 to 2 by 0.2 for y=1.4\n",
    "y = 1.4\n",
    "Ms = np.arange(0, 2.2, 0.2)\n",
    "prs = np.zeros(len(Ms))\n",
    "\n",
    "for i in range(0, len(Ms)):\n",
    "    prs[i] = presRatio(Ms[i], y)\n",
    "\n",
    "# make a table of vals"
   ]
  }
 ],
 "metadata": {
  "kernelspec": {
   "display_name": "Python 3",
   "language": "python",
   "name": "python3"
  },
  "language_info": {
   "codemirror_mode": {
    "name": "ipython",
    "version": 3
   },
   "file_extension": ".py",
   "mimetype": "text/x-python",
   "name": "python",
   "nbconvert_exporter": "python",
   "pygments_lexer": "ipython3",
   "version": "3.9.15"
  },
  "orig_nbformat": 4
 },
 "nbformat": 4,
 "nbformat_minor": 2
}
