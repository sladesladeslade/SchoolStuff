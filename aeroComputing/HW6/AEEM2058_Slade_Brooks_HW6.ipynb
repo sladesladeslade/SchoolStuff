{
 "cells": [
  {
   "attachments": {},
   "cell_type": "markdown",
   "metadata": {},
   "source": [
    "### Slade Brooks\n",
    "##### brooksl@mail.uc.edu\n",
    "##### 03.10.2023\n",
    "# AeroComputing Assignment 6\n",
    "\n",
    "This code does a thing"
   ]
  },
  {
   "cell_type": "code",
   "execution_count": 210,
   "metadata": {},
   "outputs": [],
   "source": [
    "import sympy as sp\n",
    "import numpy as np\n",
    "import matplotlib.pyplot as plt"
   ]
  },
  {
   "attachments": {},
   "cell_type": "markdown",
   "metadata": {},
   "source": [
    "# Part 1"
   ]
  },
  {
   "attachments": {},
   "cell_type": "markdown",
   "metadata": {},
   "source": [
    "Use symbolab to find derivatives:"
   ]
  },
  {
   "attachments": {},
   "cell_type": "markdown",
   "metadata": {},
   "source": [
    "$$\n",
    "\\text{v}(M) = \\sqrt{\\frac{\\gamma +1}{\\gamma -1}} \\tan^{-1}{(\\sqrt{\\frac{\\gamma -1}{\\gamma +1}(M^2-1)})} - \\tan^{-1}{(\\sqrt{M^2-1})}\n",
    "$$"
   ]
  },
  {
   "attachments": {},
   "cell_type": "markdown",
   "metadata": {},
   "source": [
    "$$\n",
    "\\dot{\\text{v}}(M) = \\frac{2\\sqrt{M^2-1}}{\\gamma M^3 - M^3 + 2M}\n",
    "$$"
   ]
  },
  {
   "attachments": {},
   "cell_type": "markdown",
   "metadata": {},
   "source": [
    "$$\n",
    "\\ddot{\\text{v}}(M) = \\frac{2(-2\\gamma M^4 + 2M^4 + 3\\gamma M^2 - 3M^2 + 2)}{M^2(\\gamma M^2 - M^2 +2)^2\\sqrt{M^2-1}}\n",
    "$$"
   ]
  },
  {
   "attachments": {},
   "cell_type": "markdown",
   "metadata": {},
   "source": [
    "# Part 2"
   ]
  },
  {
   "cell_type": "code",
   "execution_count": 211,
   "metadata": {},
   "outputs": [],
   "source": [
    "# set up sympy\n",
    "M, y = sp.symbols(\"M, y\")\n",
    "pran = (sp.sqrt((y+1)/(y-1)))*sp.atan(sp.sqrt((y-1)/(y+1)*(sp.Pow(M, 2) - 1))) - sp.atan(sp.sqrt(sp.Pow(M, 2) - 1))\n",
    "prandot = sp.diff(pran, M)\n",
    "pranddot = sp.diff(prandot, M)"
   ]
  },
  {
   "cell_type": "code",
   "execution_count": 212,
   "metadata": {},
   "outputs": [],
   "source": [
    "# set up nums to loop through\n",
    "gamma = 1.4\n",
    "Ms = np.linspace(1, 5, 30)\n",
    "deltaM = 0.01"
   ]
  },
  {
   "cell_type": "code",
   "execution_count": 213,
   "metadata": {},
   "outputs": [],
   "source": [
    "# find real derivs\n",
    "prandotreal = np.empty(len(Ms))\n",
    "pranddotreal = np.empty(len(Ms))\n",
    "\n",
    "for i in range(0, len(Ms)):\n",
    "    prandotreal[i] = prandot.subs([(M, Ms[i]), (y, gam)])\n",
    "    pranddotreal[i] = pranddot.subs([(M, Ms[i]), (y, gam)])"
   ]
  },
  {
   "attachments": {},
   "cell_type": "markdown",
   "metadata": {},
   "source": [
    "## Part A"
   ]
  },
  {
   "cell_type": "code",
   "execution_count": 214,
   "metadata": {},
   "outputs": [
    {
     "data": {
      "image/png": "[encoded data removed]",
      "text/plain": [
       "<Figure size 640x480 with 1 Axes>"
      ]
     },
     "metadata": {},
     "output_type": "display_data"
    }
   ],
   "source": [
    "# central diff 1st deriv\n",
    "def centdif1(f, Ms, dM, gam):\n",
    "    return (f.subs([(M, (Ms + dM)), (y, gam)]) - f.subs([(M, (Ms - dM)), (y, gam)]))/(2*dM)\n",
    "\n",
    "# make list of results\n",
    "prandotCD = np.empty(len(Ms))\n",
    "\n",
    "# loop and find deriv and approx\n",
    "for i in range(0, len(Ms)):\n",
    "    if type(centdif1(pran, Ms[i], deltaM, gamma)) != sp.core.add.Add:\n",
    "        prandotCD[i] = centdif1(pran, Ms[i], deltaM, gamma)\n",
    "\n",
    "# plot it\n",
    "plt.plot(Ms, prandotreal, label=\"Exact\", marker=\"o\", markersize=5, linestyle=\"None\")\n",
    "plt.plot(Ms, prandotCD, label=\"Central Difference\", linestyle=\"--\")\n",
    "plt.legend()\n",
    "plt.show()"
   ]
  },
  {
   "cell_type": "code",
   "execution_count": 215,
   "metadata": {},
   "outputs": [],
   "source": [
    "# central diff 2nd deriv"
   ]
  },
  {
   "attachments": {},
   "cell_type": "markdown",
   "metadata": {},
   "source": [
    "## Part B"
   ]
  },
  {
   "cell_type": "code",
   "execution_count": 216,
   "metadata": {},
   "outputs": [],
   "source": [
    "# 1st order forward 1st deriv"
   ]
  },
  {
   "cell_type": "code",
   "execution_count": 217,
   "metadata": {},
   "outputs": [],
   "source": [
    "# 1st order forward 2nd deriv"
   ]
  },
  {
   "attachments": {},
   "cell_type": "markdown",
   "metadata": {},
   "source": [
    "## Part C"
   ]
  },
  {
   "cell_type": "code",
   "execution_count": 218,
   "metadata": {},
   "outputs": [],
   "source": [
    "# 2nd order forward 1st deriv"
   ]
  },
  {
   "cell_type": "code",
   "execution_count": 219,
   "metadata": {},
   "outputs": [],
   "source": [
    "# 2nd order forward 1st deriv"
   ]
  }
 ],
 "metadata": {
  "kernelspec": {
   "display_name": "Python 3",
   "language": "python",
   "name": "python3"
  },
  "language_info": {
   "codemirror_mode": {
    "name": "ipython",
    "version": 3
   },
   "file_extension": ".py",
   "mimetype": "text/x-python",
   "name": "python",
   "nbconvert_exporter": "python",
   "pygments_lexer": "ipython3",
   "version": "3.9.15"
  },
  "orig_nbformat": 4
 },
 "nbformat": 4,
 "nbformat_minor": 2
}
