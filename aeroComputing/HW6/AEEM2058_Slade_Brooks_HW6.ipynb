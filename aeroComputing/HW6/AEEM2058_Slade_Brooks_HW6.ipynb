{
 "cells": [
  {
   "attachments": {},
   "cell_type": "markdown",
   "metadata": {},
   "source": [
    "### Slade Brooks\n",
    "##### brooksl@mail.uc.edu\n",
    "##### 03.10.2023\n",
    "# AeroComputing Assignment 6\n",
    "\n",
    "This code does a thing"
   ]
  },
  {
   "cell_type": "code",
   "execution_count": 2,
   "metadata": {},
   "outputs": [],
   "source": [
    "import numpy as np"
   ]
  },
  {
   "attachments": {},
   "cell_type": "markdown",
   "metadata": {},
   "source": [
    "# Part 1"
   ]
  },
  {
   "attachments": {},
   "cell_type": "markdown",
   "metadata": {},
   "source": [
    "Use symbolab to find derivatives:"
   ]
  },
  {
   "attachments": {},
   "cell_type": "markdown",
   "metadata": {},
   "source": [
    "$$\n",
    "\\text{v}(M) = \\sqrt{\\frac{\\gamma +1}{\\gamma -1}} \\tan^{-1}{\\sqrt{\\frac{\\gamma -1}{\\gamma +1}(M^2-1)}} - \\tan^{-1}{\\sqrt{M^2-1}}\n",
    "$$"
   ]
  },
  {
   "attachments": {},
   "cell_type": "markdown",
   "metadata": {},
   "source": [
    "$$\n",
    "\\dot{\\text{v}}(M) = \\frac{2\\sqrt{M^2-1}}{M(\\gamma M^2 - M^2 + 2)}\n",
    "$$"
   ]
  },
  {
   "attachments": {},
   "cell_type": "markdown",
   "metadata": {},
   "source": [
    "$$\n",
    "\\ddot{\\text{v}}(M) = \\frac{2(-2\\gamma M^4 + 2M^4 + 3\\gamma M^2 - 3M^2 + 2)}{M^2(\\gamma M^2 - M^2 +2)^2\\sqrt{M^2-1}}\n",
    "$$"
   ]
  }
 ],
 "metadata": {
  "kernelspec": {
   "display_name": "Python 3",
   "language": "python",
   "name": "python3"
  },
  "language_info": {
   "codemirror_mode": {
    "name": "ipython",
    "version": 3
   },
   "file_extension": ".py",
   "mimetype": "text/x-python",
   "name": "python",
   "nbconvert_exporter": "python",
   "pygments_lexer": "ipython3",
   "version": "3.9.15"
  },
  "orig_nbformat": 4
 },
 "nbformat": 4,
 "nbformat_minor": 2
}
