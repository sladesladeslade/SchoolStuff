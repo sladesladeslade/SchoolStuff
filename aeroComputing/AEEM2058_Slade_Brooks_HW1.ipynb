{
 "cells": [
  {
   "attachments": {},
   "cell_type": "markdown",
   "metadata": {},
   "source": [
    "## Slade Brooks\n",
    "### brooksl@mail.uc.edu\n",
    "### 01.11.2023\n",
    "## AeroComputing Assignment 1\n",
    "\n",
    "### time for python\n",
    "\n",
    "## This code plots line or contour plots of a function when given parameters."
   ]
  },
  {
   "cell_type": "code",
   "execution_count": 5,
   "metadata": {},
   "outputs": [],
   "source": [
    "# import libraries\n",
    "import numpy as np\n",
    "import matplotlib.pyplot as plt"
   ]
  },
  {
   "cell_type": "code",
   "execution_count": 6,
   "metadata": {},
   "outputs": [],
   "source": [
    "# function to get and check inputs\n",
    "def inputs(A, B, n, m, O, Y):\n",
    "\n",
    "    # ask if inputs are correct\n",
    "    # make flag for correct nums\n",
    "    correct = False\n",
    "\n",
    "    # set up loop to check if values are correct\n",
    "    while correct == False:\n",
    "        # display inputs\n",
    "        print(\"You input: A =\",A,\" B =\",B,\" n =\",n,\" m =\",m,\" O =\",O,\" Y =\",Y)\n",
    "\n",
    "        # query if inputs are right\n",
    "        ans = input(\"Is that correct? (Y or N) \")\n",
    "\n",
    "        # if ans=N, ask for inputs again\n",
    "        if ans == \"N\":\n",
    "            A = input(\"A =\")\n",
    "            B = input(\"B =\")\n",
    "            n = input(\"n =\")\n",
    "            m = input(\"m =\")\n",
    "            O = input(\"O =\")\n",
    "            Y = input(\"Y =\")\n",
    "        # if ans=Y, set flag to True\n",
    "        elif ans == \"Y\":\n",
    "            correct = True\n",
    "\n",
    "    # return correct values\n",
    "    return [A, B, n, m, O, Y]"
   ]
  },
  {
   "cell_type": "code",
   "execution_count": 7,
   "metadata": {},
   "outputs": [],
   "source": [
    "# function to perform plotting\n",
    "def plot(inputs):\n",
    "\n",
    "    # set fxn stop flag\n",
    "    stop = False\n",
    "\n",
    "    # loop to ask for graph type or to stop\n",
    "    while stop == False:\n",
    "        \n",
    "        # ask for type of plot or to end\n",
    "        ans = input(\"Would you like a contour plot (1), a line plot (2), or to end (3)? \")\n",
    "\n",
    "        # if ans=1, generate contour plot\n",
    "        if ans == \"1\":\n",
    "            # ask for x and y ranges\n",
    "            vmin = float(input(\"Input the minimum val of the range: \"))\n",
    "            vmax = float(input(\"Input the maximum val of the range: \"))\n",
    "\n",
    "            # create list of points between min and max vals\n",
    "            xs = np.arange(vmin, vmax, 0.1)\n",
    "            ys = np.arange(vmin, vmax, 0.1)\n",
    "            fs = np.zeros((xs.size,ys.size))\n",
    "            \n",
    "            # create a grid of x and y values\n",
    "            [X, Y] = np.meshgrid(xs, ys)\n",
    "\n",
    "            # calculate f values\n",
    "            fs = inputs[0]*np.sin(inputs[2]*np.pi*X + inputs[4])\n",
    "            + inputs[1]*np.sin(inputs[3]*np.pi*Y + inputs[5])\n",
    "\n",
    "            # plot contour\n",
    "            plt.contourf(X, Y, fs, 20, cmap=\"RdGy\")\n",
    "\n",
    "            # set plot range\n",
    "            plt.axis([vmin, vmax, vmin, vmax])\n",
    "\n",
    "            # add plot formatting\n",
    "            plt.colorbar()\n",
    "            plt.title(\"Contour Plot\")\n",
    "            plt.xlabel(\"X Axis\")\n",
    "            plt.ylabel(\"Y Axis\")\n",
    "\n",
    "            # display plot\n",
    "            plt.show()\n",
    "\n",
    "        # if ans=2, generate line plot\n",
    "        if ans == \"2\":\n",
    "            # ask which direction line plot\n",
    "            ans = input(\"Would you like a vertical (V) or horizontal (H) line plot? \")\n",
    "\n",
    "            # if V, do this\n",
    "            if ans == \"V\":\n",
    "                # \n",
    "                fixedv = float(input(\"Input the value of x: \"))\n",
    "                vmin = float(input(\"Input the minimum value of y: \"))\n",
    "                vmax = float(input(\"Input the maximum value of y: \"))\n",
    "\n",
    "            # if H, do this\n",
    "            if ans == \"H\":\n",
    "                #\n",
    "                fixedv = float(input(\"Input the value of y: \"))\n",
    "                vmin = float(input(\"Input the minimum value of x: \"))\n",
    "                vmax = float(input(\"Input the maximum value of x: \"))\n",
    "\n",
    "        # if ans=3, end loop and output filenames of plots\n",
    "        stop = True"
   ]
  },
  {
   "cell_type": "code",
   "execution_count": 8,
   "metadata": {},
   "outputs": [
    {
     "name": "stdout",
     "output_type": "stream",
     "text": [
      "You input: A = 1  B = 3  n = 1  m = 0.5  O = 0.7853981633974483  Y = -1.0471975511965976\n"
     ]
    },
    {
     "data": {
      "image/png": "[encoded data removed]",
      "text/plain": [
       "<Figure size 640x480 with 2 Axes>"
      ]
     },
     "metadata": {},
     "output_type": "display_data"
    }
   ],
   "source": [
    "testinputs = inputs(1, 3, 1, 0.5, (np.pi)/4, (-np.pi)/3)\n",
    "testplot = plot(testinputs)"
   ]
  }
 ],
 "metadata": {
  "kernelspec": {
   "display_name": "Python 3",
   "language": "python",
   "name": "python3"
  },
  "language_info": {
   "codemirror_mode": {
    "name": "ipython",
    "version": 3
   },
   "file_extension": ".py",
   "mimetype": "text/x-python",
   "name": "python",
   "nbconvert_exporter": "python",
   "pygments_lexer": "ipython3",
   "version": "3.9.15"
  },
  "orig_nbformat": 4,
  "vscode": {
   "interpreter": {
    "hash": "62b9e768f4e26a7d3fbfe82fbbe7c4951ab0ade90faf298251d0e0b972c474f0"
   }
  }
 },
 "nbformat": 4,
 "nbformat_minor": 2
}
