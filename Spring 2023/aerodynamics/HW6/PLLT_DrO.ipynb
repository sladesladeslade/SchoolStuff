{
 "cells": [
  {
   "cell_type": "code",
   "execution_count": 11,
   "metadata": {},
   "outputs": [],
   "source": [
    "import numpy as np"
   ]
  },
  {
   "cell_type": "code",
   "execution_count": 12,
   "metadata": {},
   "outputs": [],
   "source": [
    "# Create the appropriate arrays\n",
    "A = np.zeros([5,5])\n",
    "b = np.zeros(5)\n",
    "An = np.zeros(5)\n",
    "Gamma = np.zeros(100)"
   ]
  },
  {
   "cell_type": "code",
   "execution_count": 13,
   "metadata": {},
   "outputs": [],
   "source": [
    "# Define the points at which PLLT is applied\n",
    "# and the =n visualized\n",
    "#y = np.linspace(-5, 5, 5)\n",
    "theta = np.linspace(0, np.pi, 5)\n",
    "#theta = np.arccos(-y/5.)\n",
    "the_plot = np.linspace(0, np.pi, 100)\n",
    "y_plot = -5.*np.cos(the_plot)"
   ]
  },
  {
   "cell_type": "code",
   "execution_count": 14,
   "metadata": {},
   "outputs": [],
   "source": [
    "# Set up the system of equations\n",
    "\n",
    "# Use this approach if you go from pi/2 to pi\n",
    "#A[0,0] = 10./np.pi+1\n",
    "#A[0,2] = -(10./np.pi+3)\n",
    "#A[0,4] = (10./np.pi+5)\n",
    "\n",
    "# Use this approach if you go from 0 to pi\n",
    "A[0,0] = 1.0\n",
    "A[0,1] = 4.0\n",
    "A[0,2] = 9.0\n",
    "A[0,3] = 16.0\n",
    "A[0,4] = 25.0\n",
    "\n",
    "b[0] = np.pi/45.\n",
    "for i in range(1,4):\n",
    "    A[i,0] = (10./np.pi+1./np.sin(theta[i]))*np.sin(theta[i])\n",
    "    A[i,1] = (10./np.pi+2./np.sin(theta[i]))*np.sin(2.*theta[i])\n",
    "    A[i,2] = (10./np.pi+3./np.sin(theta[i]))*np.sin(3.*theta[i])\n",
    "    A[i,3] = (10./np.pi+4./np.sin(theta[i]))*np.sin(4.*theta[i])\n",
    "    A[i,4] = (10./np.pi+5./np.sin(theta[i]))*np.sin(5.*theta[i])\n",
    "    b[i] = np.pi/45.\n",
    "A[4,0] = 1.0\n",
    "A[4,1] = -4.0\n",
    "A[4,2] = 9.0\n",
    "A[4,3] = -16.0\n",
    "A[4,4] = 25.0\n",
    "b[4] = np.pi/45."
   ]
  },
  {
   "cell_type": "code",
   "execution_count": 15,
   "metadata": {},
   "outputs": [],
   "source": [
    "## gaussElimin\n",
    "\n",
    "from numpy import dot\n",
    "\n",
    "def gaussElimin(a,b):\n",
    "    '''x = gaussElimin(a,b)\n",
    "Solves Ax = b by Gauss elimination\n",
    "'''\n",
    "    \n",
    "    n = len(b)\n",
    "    for k in range(0,n-1):\n",
    "        for i in range(k+1,n):\n",
    "            if a[i,k] != 0.0:\n",
    "                lam = a[i,k]/a[k,k]\n",
    "                a[i,k+1:n] = a[i,k+1:n] - lam*a[k,k+1:n]\n",
    "                b[i] = b[i] - lam*b[k]\n",
    "    for k in range(n-1,-1,-1):\n",
    "        b[k] = (b[k] - dot(a[k,k+1:n],b[k+1:n]))/a[k,k]\n",
    "    return b"
   ]
  },
  {
   "cell_type": "code",
   "execution_count": 16,
   "metadata": {},
   "outputs": [
    {
     "name": "stdout",
     "output_type": "stream",
     "text": [
      "[ 1.90204144e-02 -0.00000000e+00  2.88933593e-03  9.79959257e-19\n",
      "  9.91549290e-04]\n"
     ]
    }
   ],
   "source": [
    "An = gaussElimin(A,b)\n",
    "print(An)"
   ]
  },
  {
   "cell_type": "code",
   "execution_count": 17,
   "metadata": {},
   "outputs": [],
   "source": [
    "for i in range(100):\n",
    "    Gamma[i] = 500.*(An[0]*np.sin(the_plot[i])+An[1]*np.sin(2.*the_plot[i])+An[2]*np.sin(3.*the_plot[i])\n",
    "                    +An[3]*np.sin(4.*the_plot[i])+An[4]*np.sin(5.*the_plot[i]))"
   ]
  },
  {
   "cell_type": "code",
   "execution_count": 18,
   "metadata": {},
   "outputs": [
    {
     "data": {
      "image/png": "[encoded data removed]",
      "text/plain": [
       "<Figure size 1000x700 with 1 Axes>"
      ]
     },
     "metadata": {},
     "output_type": "display_data"
    }
   ],
   "source": [
    "import matplotlib.pyplot as plt\n",
    "%matplotlib inline\n",
    "# Create a fig and plot\n",
    "\n",
    "fig, ax = plt.subplots()\n",
    "ax.plot(y_plot, Gamma, 'o')\n",
    "ax.set_xlabel('y')\n",
    "ax.set_ylabel('Gamma')\n",
    "fig.set_size_inches([10, 7])\n",
    "ax.grid(True)\n",
    "plt.show()"
   ]
  }
 ],
 "metadata": {
  "kernelspec": {
   "display_name": "Python 3",
   "language": "python",
   "name": "python3"
  },
  "language_info": {
   "codemirror_mode": {
    "name": "ipython",
    "version": 3
   },
   "file_extension": ".py",
   "mimetype": "text/x-python",
   "name": "python",
   "nbconvert_exporter": "python",
   "pygments_lexer": "ipython3",
   "version": "3.9.15"
  },
  "orig_nbformat": 4
 },
 "nbformat": 4,
 "nbformat_minor": 2
}
